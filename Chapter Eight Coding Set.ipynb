{
 "cells": [
  {
   "cell_type": "markdown",
   "id": "fb0b62c1",
   "metadata": {},
   "source": [
    "# Chapter Eight Coding Set"
   ]
  },
  {
   "cell_type": "markdown",
   "id": "526f4a11",
   "metadata": {},
   "source": [
    "## Algorithm Workbench Questions 2 & 3"
   ]
  },
  {
   "cell_type": "markdown",
   "id": "f98a67bc",
   "metadata": {},
   "source": [
    "### 2) Write a loop that counts the number of space characters that appear in the string referenced by mystring. "
   ]
  },
  {
   "cell_type": "code",
   "execution_count": 2,
   "id": "da9d7258",
   "metadata": {},
   "outputs": [
    {
     "name": "stdout",
     "output_type": "stream",
     "text": [
      "Enter a string: Once upon a time...\n",
      "Number of space characters: 3\n"
     ]
    }
   ],
   "source": [
    "def main():\n",
    "    #Get a string from the user.\n",
    "    mystring = input('Enter a string: ')\n",
    "\n",
    "    # Initialize a count variable to keep track of spaces\n",
    "    space_count = 0\n",
    "\n",
    "    # Iterate through each character in the string\n",
    "    for char in mystring:\n",
    "        if char == ' ':\n",
    "            space_count += 1\n",
    "\n",
    "    # Print the count of space characters\n",
    "    print(\"Number of space characters:\", space_count)\n",
    "\n",
    "main()\n",
    "\n",
    "    \n",
    "    "
   ]
  },
  {
   "cell_type": "markdown",
   "id": "4a67c284",
   "metadata": {},
   "source": [
    "### 3) Write a loop that counts the number of digits that appear in the string referenced by mystring."
   ]
  },
  {
   "cell_type": "code",
   "execution_count": null,
   "id": "74683d00",
   "metadata": {},
   "outputs": [],
   "source": [
    "def main():\n",
    "    #Get a string from the user.\n",
    "    mystring = input('Enter a string: ')\n",
    "\n",
    "    #Initialize a count variable to keep track of digits.\n",
    "    digit_count = 0\n",
    "\n",
    "    #Iterate through each character in the string.\n",
    "    for char in mystring:\n",
    "        if char.isdigit():\n",
    "            digit_count += 1\n",
    "\n",
    "    #Print the amount of digits.\n",
    "    print(\"Number of digits:\", digit_count)\n",
    "\n",
    "main()"
   ]
  }
 ],
 "metadata": {
  "kernelspec": {
   "display_name": "Python 3 (ipykernel)",
   "language": "python",
   "name": "python3"
  },
  "language_info": {
   "codemirror_mode": {
    "name": "ipython",
    "version": 3
   },
   "file_extension": ".py",
   "mimetype": "text/x-python",
   "name": "python",
   "nbconvert_exporter": "python",
   "pygments_lexer": "ipython3",
   "version": "3.11.4"
  }
 },
 "nbformat": 4,
 "nbformat_minor": 5
}

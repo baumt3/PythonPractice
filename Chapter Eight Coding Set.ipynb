{
 "cells": [
  {
   "cell_type": "markdown",
   "id": "764fd2ec",
   "metadata": {},
   "source": [
    "# Chapter Eight Coding Set"
   ]
  },
  {
   "cell_type": "markdown",
   "id": "8ca6cc31",
   "metadata": {},
   "source": [
    "## Algorithm Workbench Questions 2 & 3"
   ]
  },
  {
   "cell_type": "markdown",
   "id": "079b6196",
   "metadata": {},
   "source": [
    "### 2) Write a loop that counts the number of space characters that appear in the string referenced by mystring. "
   ]
  },
  {
   "cell_type": "code",
   "execution_count": 2,
   "id": "af069480",
   "metadata": {},
   "outputs": [
    {
     "name": "stdout",
     "output_type": "stream",
     "text": [
      "Enter a string: Once upon a time...\n",
      "Number of space characters: 3\n"
     ]
    }
   ],
   "source": [
    "def main():\n",
    "    #Get a string from the user.\n",
    "    mystring = input('Enter a string: ')\n",
    "\n",
    "    # Initialize a count variable to keep track of spaces\n",
    "    space_count = 0\n",
    "\n",
    "    # Iterate through each character in the string\n",
    "    for char in mystring:\n",
    "        if char == ' ':\n",
    "            space_count += 1\n",
    "\n",
    "    # Print the count of space characters\n",
    "    print(\"Number of space characters:\", space_count)\n",
    "\n",
    "main()\n",
    "\n",
    "    \n",
    "    "
   ]
  },
  {
   "cell_type": "markdown",
   "id": "fdb11908",
   "metadata": {},
   "source": [
    "### 3) Write a loop that counts the number of digits that appear in the string referenced by mystring."
   ]
  },
  {
   "cell_type": "code",
   "execution_count": 3,
   "id": "79e3322d",
   "metadata": {},
   "outputs": [
    {
     "name": "stdout",
     "output_type": "stream",
     "text": [
      "Enter a string: 1234 I declare a thumb war! \n",
      "Number of digits: 4\n"
     ]
    }
   ],
   "source": [
    "def main():\n",
    "    #Get a string from the user.\n",
    "    mystring = input('Enter a string: ')\n",
    "\n",
    "    #Initialize a count variable to keep track of digits.\n",
    "    digit_count = 0\n",
    "\n",
    "    #Iterate through each character in the string.\n",
    "    for char in mystring:\n",
    "        if char.isdigit():\n",
    "            digit_count += 1\n",
    "\n",
    "    #Print the amount of digits.\n",
    "    print(\"Number of digits:\", digit_count)\n",
    "\n",
    "main()"
   ]
  },
  {
   "cell_type": "markdown",
   "id": "0880a12e",
   "metadata": {},
   "source": [
    "## Programming Exercises 1, 2, 8 & 10"
   ]
  },
  {
   "cell_type": "markdown",
   "id": "725bd799",
   "metadata": {},
   "source": [
    "### 1) Write a program that gets a string containing a person's first, middle, and last names, and displays their first, middle, and last initials. "
   ]
  },
  {
   "cell_type": "code",
   "execution_count": 4,
   "id": "82971334",
   "metadata": {},
   "outputs": [
    {
     "name": "stdout",
     "output_type": "stream",
     "text": [
      "Enter your first name: Taylir \n",
      "Enter your middle name: De \n",
      "Enter your last name: Baum\n",
      "Your initials are: TDB\n"
     ]
    }
   ],
   "source": [
    "def main():\n",
    "    # Get the user to input their first, middle, and last name.\n",
    "    first_name = input('Enter your first name: ')\n",
    "    middle_name = input('Enter your middle name: ')\n",
    "    last_name = input('Enter your last name: ')\n",
    "\n",
    "    # Call the get_initials() function and store the result\n",
    "    initials = get_initials(first_name, middle_name, last_name)\n",
    "    \n",
    "    # Print the initials\n",
    "    print('Your initials are:', initials)\n",
    "\n",
    "def get_initials(first, middle, last):\n",
    "    # Get the first initial of the first name\n",
    "    set1 = first[0]\n",
    "\n",
    "    # Get the first initial of the middle name\n",
    "    set2 = middle[0]\n",
    "\n",
    "    # Get the first initial of the last name\n",
    "    set3 = last[0]\n",
    "\n",
    "    # Put the sets of characters together\n",
    "    initials = set1 + set2 + set3\n",
    "\n",
    "    # Return the initials\n",
    "    return initials\n",
    "\n",
    "# Call the main function to start the program\n",
    "main()    "
   ]
  },
  {
   "cell_type": "markdown",
   "id": "b8b725cd",
   "metadata": {},
   "source": [
    "### 2) Write a program that asks the user to enter a series of single-digit numbers with nothing separating them. The program should display the sum of all the single digit numbers in the string. \n"
   ]
  },
  {
   "cell_type": "code",
   "execution_count": 5,
   "id": "f9d6a14d",
   "metadata": {},
   "outputs": [
    {
     "name": "stdout",
     "output_type": "stream",
     "text": [
      "Enter a series of single-digit numbers (without spaces): 14839\n",
      "The sum of the single-digit numbers is: 25\n"
     ]
    }
   ],
   "source": [
    "def main():\n",
    "    # Get a string of single-digit numbers from the user\n",
    "    user_input = input(\"Enter a series of single-digit numbers (without spaces): \")\n",
    "\n",
    "    # Initialize a variable to keep track of the sum\n",
    "    total = 0\n",
    "\n",
    "    # I used ChatGTP for this section of code as I wasn't sure how to add the characters in the string together. \n",
    "    # Iterate through each character in the input string\n",
    "    for char in user_input:\n",
    "        if char.isdigit():  # Check if the character is a digit\n",
    "            digit = int(char)  # Convert the character to an integer\n",
    "            total += digit  # Add the digit to the total\n",
    "\n",
    "    # Display the sum of the single-digit numbers\n",
    "    print(\"The sum of the single-digit numbers is:\", total)\n",
    "\n",
    "# Call the main function to start the program\n",
    "main()\n"
   ]
  },
  {
   "cell_type": "markdown",
   "id": "d3c5437f",
   "metadata": {},
   "source": [
    "### 8) Write a program with a function that accepts a string as an argument and returns a copy of the string with the first character of each sentence capitalized."
   ]
  },
  {
   "cell_type": "code",
   "execution_count": 6,
   "id": "a703aa42",
   "metadata": {},
   "outputs": [
    {
     "name": "stdout",
     "output_type": "stream",
     "text": [
      "Enter a string with sentences: hello. it is a great day today. very nice outside.\n",
      "Original string:\n",
      "hello. it is a great day today. very nice outside.\n",
      "String with capitalized sentences:\n",
      "Hello. It is a great day today. Very nice outside.\n"
     ]
    }
   ],
   "source": [
    "# I used ChatGTP for the def capitalize_sentences section of code. I learned how to split the string with a '.' \n",
    "# by using ChatGTP.\n",
    "def capitalize_sentences(input_string):\n",
    "    # Split the input string into sentences\n",
    "    sentences = input_string.split('. ')\n",
    "\n",
    "    # Capitalize the first character of each sentence\n",
    "    capitalized_sentences = [sentence.capitalize() for sentence in sentences]\n",
    "\n",
    "    # Join the capitalized sentences back together\n",
    "    result = '. '.join(capitalized_sentences)\n",
    "\n",
    "    return result\n",
    "\n",
    "def main():\n",
    "    # Get the input string from the user\n",
    "    input_string = input(\"Enter a string with sentences: \")\n",
    "\n",
    "    # Call the capitalize_sentences function\n",
    "    capitalized_string = capitalize_sentences(input_string)\n",
    "\n",
    "    # Print the result\n",
    "    print(\"Original string:\")\n",
    "    print(input_string)\n",
    "    print(\"String with capitalized sentences:\")\n",
    "    print(capitalized_string)\n",
    "\n",
    "# Call the main function to start the program\n",
    "main()\n"
   ]
  },
  {
   "cell_type": "markdown",
   "id": "fe9814f3",
   "metadata": {},
   "source": [
    "### 10) Write a program that lets the user enter a string and displays the character that appears most frequently in the string. "
   ]
  },
  {
   "cell_type": "code",
   "execution_count": 7,
   "id": "6e58fa83",
   "metadata": {},
   "outputs": [
    {
     "name": "stdout",
     "output_type": "stream",
     "text": [
      "Enter a string: Hello. The sky is blue. The grass is green.\n",
      "The most frequent character is: e\n"
     ]
    }
   ],
   "source": [
    "def most_frequent_character(input_string):\n",
    "    # Create a dictionary to store character frequencies\n",
    "    char_frequency = {}\n",
    "\n",
    "    # Remove spaces and convert the input string to lowercase (to treat characters case-insensitively)\n",
    "    input_string = input_string.replace(\" \", \"\").lower()\n",
    "\n",
    "    # Calculate character frequencies\n",
    "    for char in input_string:\n",
    "        if char.isalpha():  # Check if the character is an alphabet letter\n",
    "            if char in char_frequency:\n",
    "                char_frequency[char] += 1\n",
    "            else:\n",
    "                char_frequency[char] = 1\n",
    "\n",
    "    # Find the character with the highest frequency\n",
    "    most_frequent_char = max(char_frequency, key=char_frequency.get)\n",
    "\n",
    "    return most_frequent_char\n",
    "\n",
    "def main():\n",
    "    # Get the input string from the user\n",
    "    input_string = input(\"Enter a string: \")\n",
    "\n",
    "    # Call the most_frequent_character function\n",
    "    most_frequent_char = most_frequent_character(input_string)\n",
    "\n",
    "    # Print the most frequent character\n",
    "    print(\"The most frequent character is:\", most_frequent_char)\n",
    "\n",
    "# Call the main function to start the program\n",
    "main()\n"
   ]
  },
  {
   "cell_type": "markdown",
   "id": "66b40914",
   "metadata": {},
   "source": [
    "I used ChatGTP to help me with this one. I couldn't figure out how to get the program to recognize the most frequent character. Through using ChatGTP I learned that you have to create a dictionary to store the character frequencies and then use this dictionary that is built as the program moves through the string to get the most frequent character. "
   ]
  },
  {
   "cell_type": "code",
   "execution_count": null,
   "id": "66d46f72",
   "metadata": {},
   "outputs": [],
   "source": []
  }
 ],
 "metadata": {
  "kernelspec": {
   "display_name": "Python 3 (ipykernel)",
   "language": "python",
   "name": "python3"
  },
  "language_info": {
   "codemirror_mode": {
    "name": "ipython",
    "version": 3
   },
   "file_extension": ".py",
   "mimetype": "text/x-python",
   "name": "python",
   "nbconvert_exporter": "python",
   "pygments_lexer": "ipython3",
   "version": "3.11.4"
  }
 },
 "nbformat": 4,
 "nbformat_minor": 5
}

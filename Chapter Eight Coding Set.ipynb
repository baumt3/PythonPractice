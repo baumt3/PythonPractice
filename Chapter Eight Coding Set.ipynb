{
 "cells": [
  {
   "cell_type": "markdown",
   "id": "0d41a58c",
   "metadata": {},
   "source": [
    "# Chapter Eight Coding Set"
   ]
  },
  {
   "cell_type": "markdown",
   "id": "447201c7",
   "metadata": {},
   "source": [
    "## Algorithm Workbench Questions 2 & 3"
   ]
  },
  {
   "cell_type": "markdown",
   "id": "e126dc6f",
   "metadata": {},
   "source": [
    "### 2) Write a loop that counts the number of space characters that appear in the string referenced by mystring. "
   ]
  },
  {
   "cell_type": "code",
   "execution_count": 2,
   "id": "ffca7c45",
   "metadata": {},
   "outputs": [
    {
     "name": "stdout",
     "output_type": "stream",
     "text": [
      "Enter a string: Once upon a time...\n",
      "Number of space characters: 3\n"
     ]
    }
   ],
   "source": [
    "def main():\n",
    "    #Get a string from the user.\n",
    "    mystring = input('Enter a string: ')\n",
    "\n",
    "    # Initialize a count variable to keep track of spaces\n",
    "    space_count = 0\n",
    "\n",
    "    # Iterate through each character in the string\n",
    "    for char in mystring:\n",
    "        if char == ' ':\n",
    "            space_count += 1\n",
    "\n",
    "    # Print the count of space characters\n",
    "    print(\"Number of space characters:\", space_count)\n",
    "\n",
    "main()\n",
    "\n",
    "    \n",
    "    "
   ]
  },
  {
   "cell_type": "markdown",
   "id": "3a0816bd",
   "metadata": {},
   "source": [
    "### 3) Write a loop that counts the number of digits that appear in the string referenced by mystring."
   ]
  },
  {
   "cell_type": "code",
   "execution_count": 3,
   "id": "5c9acb33",
   "metadata": {},
   "outputs": [
    {
     "name": "stdout",
     "output_type": "stream",
     "text": [
      "Enter a string: 1234 I declare a thumb war! \n",
      "Number of digits: 4\n"
     ]
    }
   ],
   "source": [
    "def main():\n",
    "    #Get a string from the user.\n",
    "    mystring = input('Enter a string: ')\n",
    "\n",
    "    #Initialize a count variable to keep track of digits.\n",
    "    digit_count = 0\n",
    "\n",
    "    #Iterate through each character in the string.\n",
    "    for char in mystring:\n",
    "        if char.isdigit():\n",
    "            digit_count += 1\n",
    "\n",
    "    #Print the amount of digits.\n",
    "    print(\"Number of digits:\", digit_count)\n",
    "\n",
    "main()"
   ]
  },
  {
   "cell_type": "markdown",
   "id": "5f3b72c1",
   "metadata": {},
   "source": [
    "## Programming Exercises 1, 2, 8 & 10"
   ]
  },
  {
   "cell_type": "markdown",
   "id": "a7f4890d",
   "metadata": {},
   "source": [
    "### 1) Write a program that gets a string containing a person's first, middle, and last names, and displays their first, middle, and last initials. "
   ]
  },
  {
   "cell_type": "code",
   "execution_count": 4,
   "id": "8ed0d18e",
   "metadata": {},
   "outputs": [
    {
     "name": "stdout",
     "output_type": "stream",
     "text": [
      "Enter your first name: Taylir \n",
      "Enter your middle name: De \n",
      "Enter your last name: Baum\n",
      "Your initials are: TDB\n"
     ]
    }
   ],
   "source": [
    "def main():\n",
    "    # Get the user to input their first, middle, and last name.\n",
    "    first_name = input('Enter your first name: ')\n",
    "    middle_name = input('Enter your middle name: ')\n",
    "    last_name = input('Enter your last name: ')\n",
    "\n",
    "    # Call the get_initials() function and store the result\n",
    "    initials = get_initials(first_name, middle_name, last_name)\n",
    "    \n",
    "    # Print the initials\n",
    "    print('Your initials are:', initials)\n",
    "\n",
    "def get_initials(first, middle, last):\n",
    "    # Get the first initial of the first name\n",
    "    set1 = first[0]\n",
    "\n",
    "    # Get the first initial of the middle name\n",
    "    set2 = middle[0]\n",
    "\n",
    "    # Get the first initial of the last name\n",
    "    set3 = last[0]\n",
    "\n",
    "    # Put the sets of characters together\n",
    "    initials = set1 + set2 + set3\n",
    "\n",
    "    # Return the initials\n",
    "    return initials\n",
    "\n",
    "# Call the main function to start the program\n",
    "main()    "
   ]
  },
  {
   "cell_type": "markdown",
   "id": "6fbc8097",
   "metadata": {},
   "source": [
    "### 2) Write a program that asks the user to enter a series of single-digit numbers with nothing separating them. The program should display the sum of all the single digit numbers in the string. \n"
   ]
  },
  {
   "cell_type": "code",
   "execution_count": 5,
   "id": "daa329c6",
   "metadata": {},
   "outputs": [
    {
     "name": "stdout",
     "output_type": "stream",
     "text": [
      "Enter a series of single-digit numbers (without spaces): 14839\n",
      "The sum of the single-digit numbers is: 25\n"
     ]
    }
   ],
   "source": [
    "def main():\n",
    "    # Get a string of single-digit numbers from the user\n",
    "    user_input = input(\"Enter a series of single-digit numbers (without spaces): \")\n",
    "\n",
    "    # Initialize a variable to keep track of the sum\n",
    "    total = 0\n",
    "\n",
    "    # I used ChatGTP for this section of code as I wasn't sure how to add the characters in the string together. \n",
    "    # Iterate through each character in the input string\n",
    "    for char in user_input:\n",
    "        if char.isdigit():  # Check if the character is a digit\n",
    "            digit = int(char)  # Convert the character to an integer\n",
    "            total += digit  # Add the digit to the total\n",
    "\n",
    "    # Display the sum of the single-digit numbers\n",
    "    print(\"The sum of the single-digit numbers is:\", total)\n",
    "\n",
    "# Call the main function to start the program\n",
    "main()\n"
   ]
  },
  {
   "cell_type": "markdown",
   "id": "45d3c209",
   "metadata": {},
   "source": [
    "### 8) Write a program with a function that accepts a string as an argument and returns a copy of the string with the first character of each sentence capitalized."
   ]
  },
  {
   "cell_type": "code",
   "execution_count": null,
   "id": "756c8862",
   "metadata": {},
   "outputs": [],
   "source": [
    "# I used ChatGTP for the def capitalize_sentences section of code. I learned how to split the string with a '.' \n",
    "# by using ChatGTP.\n",
    "def capitalize_sentences(input_string):\n",
    "    # Split the input string into sentences\n",
    "    sentences = input_string.split('. ')\n",
    "\n",
    "    # Capitalize the first character of each sentence\n",
    "    capitalized_sentences = [sentence.capitalize() for sentence in sentences]\n",
    "\n",
    "    # Join the capitalized sentences back together\n",
    "    result = '. '.join(capitalized_sentences)\n",
    "\n",
    "    return result\n",
    "\n",
    "def main():\n",
    "    # Get the input string from the user\n",
    "    input_string = input(\"Enter a string with sentences: \")\n",
    "\n",
    "    # Call the capitalize_sentences function\n",
    "    capitalized_string = capitalize_sentences(input_string)\n",
    "\n",
    "    # Print the result\n",
    "    print(\"Original string:\")\n",
    "    print(input_string)\n",
    "    print(\"String with capitalized sentences:\")\n",
    "    print(capitalized_string)\n",
    "\n",
    "# Call the main function to start the program\n",
    "main()\n"
   ]
  }
 ],
 "metadata": {
  "kernelspec": {
   "display_name": "Python 3 (ipykernel)",
   "language": "python",
   "name": "python3"
  },
  "language_info": {
   "codemirror_mode": {
    "name": "ipython",
    "version": 3
   },
   "file_extension": ".py",
   "mimetype": "text/x-python",
   "name": "python",
   "nbconvert_exporter": "python",
   "pygments_lexer": "ipython3",
   "version": "3.11.4"
  }
 },
 "nbformat": 4,
 "nbformat_minor": 5
}

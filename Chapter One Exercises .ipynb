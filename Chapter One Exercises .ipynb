{
 "cells": [
  {
   "cell_type": "markdown",
   "id": "82ed3ff0",
   "metadata": {},
   "source": [
    "# Chapter One Exercises\n",
    "Programming Exercises 1 3 and 5"
   ]
  },
  {
   "cell_type": "markdown",
   "id": "f7a0e39b",
   "metadata": {},
   "source": [
    "## Program Exercise One \n",
    "The textbook asks me to demonstrate the print functionality which allows for text to be put into a Python program."
   ]
  },
  {
   "cell_type": "code",
   "execution_count": 1,
   "id": "cb8960ca",
   "metadata": {},
   "outputs": [
    {
     "name": "stdout",
     "output_type": "stream",
     "text": [
      "This is a test of the Python interpreter.\n"
     ]
    }
   ],
   "source": [
    "# Demonstrated the Print function below: \n",
    "\n",
    "print('This is a test of the Python interpreter.')"
   ]
  },
  {
   "cell_type": "code",
   "execution_count": 2,
   "id": "605e8220",
   "metadata": {},
   "outputs": [
    {
     "name": "stdout",
     "output_type": "stream",
     "text": [
      "I love Ancient Egyptian History <3\n"
     ]
    }
   ],
   "source": [
    "print('I love Ancient Egyptian History <3')"
   ]
  },
  {
   "cell_type": "code",
   "execution_count": 3,
   "id": "5e3075e2",
   "metadata": {},
   "outputs": [
    {
     "name": "stdout",
     "output_type": "stream",
     "text": [
      "My favorite color is purple! :)\n"
     ]
    }
   ],
   "source": [
    "print('My favorite color is purple! :)')"
   ]
  },
  {
   "cell_type": "markdown",
   "id": "f656a008",
   "metadata": {},
   "source": [
    "## Programming Exercise Three\n",
    "\n",
    "The textbook asks me to convert the following decimal numbers to binary:\n",
    "\n",
    "1) 11 -> 11/2 = 5 with a remainder of 1; 5/2 = 2 with a remainder of 1; 2/2 = 1 with a remainder of 0; 1/2 = 0 with a remainder of 1. \n",
    "    Answer = 1011\n",
    "    \n",
    "2) 65 -> 65/2 = 32 with a remainder of 1; 32/2 = 16 with a remainder of 0; 16/2 = 8 with a remainder of 0; 8/2 = 4 with a remainder of 0; 4/2 = 2 with a remainder of 0; 2/2 = 1 with a remainder of 0; 1/2 = 0 with a remainder of 1.\n",
    "    Answer = 1000001\n",
    "    \n",
    "3) 100 -> 100/2 = 50 with a remainder of 0; 50/2 = 25 with a remainder of 0; 25/2 = 12 with a remainder of 1; 12/2 = 6 with a remainder of 0; 6/2 = 3 with a remainder of 0; 3/2 = 1 with a remainder of 1; 1/2 = 0 with a remainder of 1.\n",
    "    Answer = 1100100\n",
    "\n",
    "4) 255 -> 255/2 = 127 with a remainder of 1; 127/2 = 63 with a remainder of 1; 62/2 = 31 with a remainder of 1; 31/2 = 15 with a remainder of 1; 15/2 = 7 with a remainder of 1; 7/2 = 3 with a remainder of 1; 3/2 = 2 with a remainder of 1; 1/2 = 0 with a remainder of 1. \n",
    "    Answer = 11111111\n",
    "\n"
   ]
  },
  {
   "cell_type": "markdown",
   "id": "63bc45b3",
   "metadata": {},
   "source": [
    "## Programming Exercise Five\n",
    "The textbook asks me to use the ASCII chart to determine the codes for each letter of my first name:\n",
    "\n",
    "1) T -> 84\n",
    "2) a -> 97\n",
    "3) y -> \n",
    "4) l ->\n",
    "5) i ->\n",
    "6) r ->"
   ]
  }
 ],
 "metadata": {
  "kernelspec": {
   "display_name": "Python 3 (ipykernel)",
   "language": "python",
   "name": "python3"
  },
  "language_info": {
   "codemirror_mode": {
    "name": "ipython",
    "version": 3
   },
   "file_extension": ".py",
   "mimetype": "text/x-python",
   "name": "python",
   "nbconvert_exporter": "python",
   "pygments_lexer": "ipython3",
   "version": "3.11.4"
  }
 },
 "nbformat": 4,
 "nbformat_minor": 5
}

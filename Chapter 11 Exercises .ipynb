{
 "cells": [
  {
   "cell_type": "markdown",
   "id": "64636062",
   "metadata": {},
   "source": [
    "# Chapter 11 Exercises 1 & 3"
   ]
  },
  {
   "cell_type": "markdown",
   "id": "c73ae075",
   "metadata": {},
   "source": [
    "## 1) Question one asks me to write an Employee class that keeps data attributes for Employee Name and Employee Number. The to write a class name ProductionWorker that is a subclass of the Employee class. the ProductionWorker class should keep data attributes for Shift Number (an integer, such as 1, 2, or 3) and Hourly Pay Rate. Once the class codes have been written I will need to write a program that creates an object of the ProductionWorker class and prompts the user to enter data for each of the object's data attributes. It will then need to store that data in the object, then use the object's accessor methods to retrieve it and display it on the screen."
   ]
  },
  {
   "cell_type": "code",
   "execution_count": 3,
   "id": "4095684e",
   "metadata": {},
   "outputs": [
    {
     "name": "stdout",
     "output_type": "stream",
     "text": [
      "Enter the worker's name: Kevin\n",
      "Enter the worker's employee ID number: 12345\n",
      "Enter the worker's shift number (1 for day shift, 2 for night shift): 2\n",
      "Enter the worker's hourly pay rate: 56.23\n",
      "\n",
      "Worker Information:\n",
      "Name:  Kevin\n",
      "Employee ID:  12345\n",
      "Shift:  Night Shift\n",
      "Hourly pay rate:  56.23\n"
     ]
    }
   ],
   "source": [
    "# Import my production_worker class.\n",
    "import production_worker\n",
    "\n",
    "# Main function to demonstrate the usage of the production_worker class.\n",
    "def main():\n",
    "    \n",
    "    # Prompt the user for input\n",
    "    name = input(\"Enter the worker's name: \")\n",
    "    employee_id = input(\"Enter the worker's employee ID number: \")\n",
    "    shift = int(input(\"Enter the worker's shift number (1 for day shift, 2 for night shift): \"))\n",
    "    hourly_pay_rate = float(input(\"Enter the worker's hourly pay rate: \"))\n",
    "    \n",
    "    # Create an instance of the production_worker class with user-provided values\n",
    "    worker = production_worker.ProductionWorker(name, employee_id, shift, hourly_pay_rate)\n",
    "    \n",
    "    # Set the object's attributes using setter methods\n",
    "    worker.set_name(name)  # Fix: Use set_name instead of set__name\n",
    "    worker.set_employee_id(employee_id)  # Fix: Use set_employee_id instead of set__employee_id\n",
    "    worker.set_shift(shift)  # Fix: Use set_shift instead of set__shift\n",
    "    worker.set_hourly_pay_rate(hourly_pay_rate)  # Fix: Use set_hourly_pay_rate instead of set__hourly_pay_rate\n",
    "    \n",
    "    # Retrieve and display the data using accessor methods\n",
    "    print(\"\\nWorker Information:\")  # Fix: Correct the formatting character (\\n) and add a space after the colon\n",
    "    print(\"Name: \", worker.get_name())\n",
    "    print(\"Employee ID: \", worker.get_employee_id())  # Fix: Correct the comma to a dot\n",
    "    print(\"Shift: \", \"Day Shift\" if worker.get_shift() == 1 else \"Night Shift\")\n",
    "    print(\"Hourly pay rate: \", worker.get_hourly_pay_rate())\n",
    "\n",
    "# Call the main function\n",
    "main()\n"
   ]
  },
  {
   "cell_type": "markdown",
   "id": "593aa9ad",
   "metadata": {},
   "source": [
    "### I received a few errors when running my code having to do with my naming of things and my layout. I used Chat GTP to help me fix the errors and I had to fix my wording in my creating of my instance and move that below my prompts for the user. It seems to be working correctly now. "
   ]
  },
  {
   "cell_type": "markdown",
   "id": "52eaa54e",
   "metadata": {},
   "source": [
    "## 3) Question three asks me to write a class named Person with data attributes for a person's name, address, and telephone number. Then to write a class named Customer that is a subclass of the Person class. The Customer class should have a data attribute for a customer number, and a Boolean data attribute indicating whether the customer wishes to be on a mailing list. Then I will demonstrate some instances of the customer class in a simple program. "
   ]
  },
  {
   "cell_type": "code",
   "execution_count": null,
   "id": "76bd55b7",
   "metadata": {},
   "outputs": [],
   "source": [
    "import customer "
   ]
  },
  {
   "cell_type": "code",
   "execution_count": null,
   "id": "f20ae5f1",
   "metadata": {},
   "outputs": [],
   "source": [
    "# Main function to demonstrate the usage of the Customer class.\n",
    "def main():\n",
    "\n",
    "    # Create a customer\n",
    "    customer1 = customer.Customer(\"Julie\", \"123 North Lane Rd. Charlotte MI 48813\", \"231-444-2345\", 23282828, False)\n",
    "    \n",
    "    # Display the initial customer ID\n",
    "    print(\"Initial Customer ID:\", customer1.get_customer_id())\n",
    "    \n",
    "    # Update the customer ID\n",
    "    customer1.set_customer_id(\"1234567\")\n",
    "    \n",
    "    # Display the updated customer ID\n",
    "    print(\"Updated Customer ID:\", customer1.get_customer_id())\n",
    "    \n",
    "    # Display the initial customer address\n",
    "    print(\"Initial Customer Address:\", customer1.get_address())\n",
    "    \n",
    "    # Update the customer address\n",
    "    customer1.set_address(\"232 West Columbia Mason MI 48854\")\n",
    "    \n",
    "    # Display the updated customer address\n",
    "    print(\"Updated Customer Address:\", customer1.get_address())\n",
    "\n",
    "# Calling the main function to run the code\n",
    "main()\n"
   ]
  },
  {
   "cell_type": "markdown",
   "id": "b788ab4b",
   "metadata": {},
   "source": [
    "### To work through this problem, I first created my superclass 'Person' and my subclass 'Customer'. I then imported these into my code. I ended by creating my main function where I created a customer and displayed/updated the attributes for that customer. I did use Chat GTP to add my notes into my code and working alongside the walkthrough video. "
   ]
  }
 ],
 "metadata": {
  "kernelspec": {
   "display_name": "Python 3 (ipykernel)",
   "language": "python",
   "name": "python3"
  },
  "language_info": {
   "codemirror_mode": {
    "name": "ipython",
    "version": 3
   },
   "file_extension": ".py",
   "mimetype": "text/x-python",
   "name": "python",
   "nbconvert_exporter": "python",
   "pygments_lexer": "ipython3",
   "version": "3.11.4"
  }
 },
 "nbformat": 4,
 "nbformat_minor": 5
}

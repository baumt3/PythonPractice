{
 "cells": [
  {
   "cell_type": "markdown",
   "id": "90c0fd3b",
   "metadata": {},
   "source": [
    "# Chapter 11 Exercises 1 & 3"
   ]
  },
  {
   "cell_type": "markdown",
   "id": "383a5a41",
   "metadata": {},
   "source": [
    "## 3) Question three asks me to write a class named Person with data attributes for a person's name, address, and telephone number. Then to write a class named Customer that is a subclass of the Person class. The Customer class should have a data attribute for a customer number, and a Boolean data attribute indicating whether the customer wishes to be on a mailing list. Then I will demonstrate some instances of the customer class in a simple program. "
   ]
  },
  {
   "cell_type": "code",
   "execution_count": 1,
   "id": "8e77a63e",
   "metadata": {},
   "outputs": [],
   "source": [
    "import customer "
   ]
  },
  {
   "cell_type": "code",
   "execution_count": 7,
   "id": "6db12e3d",
   "metadata": {},
   "outputs": [
    {
     "name": "stdout",
     "output_type": "stream",
     "text": [
      "23282828\n",
      "1234567\n",
      "123 North Lane Rd. Charlotte MI 48813\n",
      "232 West Columbia Mason MI 48854\n"
     ]
    }
   ],
   "source": [
    "# Main function to demonstrate the usage of the Customer class.\n",
    "def main():\n",
    "\n",
    "    # Create a customer\n",
    "    customer1 = customer.Customer(\"Julie\", \"123 North Lane Rd. Charlotte MI 48813\", \"231-444-2345\", 23282828, False)\n",
    "    \n",
    "    # Display the initial customer ID\n",
    "    print(\"Initial Customer ID:\", customer1.get_customer_id())\n",
    "    \n",
    "    # Update the customer ID\n",
    "    customer1.set_customer_id(\"1234567\")\n",
    "    \n",
    "    # Display the updated customer ID\n",
    "    print(\"Updated Customer ID:\", customer1.get_customer_id())\n",
    "    \n",
    "    # Display the initial customer address\n",
    "    print(\"Initial Customer Address:\", customer1.get_address())\n",
    "    \n",
    "    # Update the customer address\n",
    "    customer1.set_address(\"232 West Columbia Mason MI 48854\")\n",
    "    \n",
    "    # Display the updated customer address\n",
    "    print(\"Updated Customer Address:\", customer1.get_address())\n",
    "\n",
    "# Calling the main function to run the code\n",
    "main()\n"
   ]
  },
  {
   "cell_type": "markdown",
   "id": "8b265f48",
   "metadata": {},
   "source": [
    "### To work through this problem, I first created my superclass 'Person' and my subclass 'Customer'. I then imported these into my code. I ended by creating my main function where I created a customer and displayed/updated the attributes for that customer. I did use Chat GTP to add my notes into my code and working alongside the walkthrough video. "
   ]
  }
 ],
 "metadata": {
  "kernelspec": {
   "display_name": "Python 3 (ipykernel)",
   "language": "python",
   "name": "python3"
  },
  "language_info": {
   "codemirror_mode": {
    "name": "ipython",
    "version": 3
   },
   "file_extension": ".py",
   "mimetype": "text/x-python",
   "name": "python",
   "nbconvert_exporter": "python",
   "pygments_lexer": "ipython3",
   "version": "3.11.4"
  }
 },
 "nbformat": 4,
 "nbformat_minor": 5
}

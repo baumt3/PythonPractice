{
 "cells": [
  {
   "cell_type": "markdown",
   "id": "734ad9ce",
   "metadata": {},
   "source": [
    "# Chapter 13 Coding Set "
   ]
  },
  {
   "cell_type": "markdown",
   "id": "9578e795",
   "metadata": {},
   "source": [
    "## Programming Exercise Question 1"
   ]
  },
  {
   "cell_type": "markdown",
   "id": "63a8083e",
   "metadata": {},
   "source": [
    "### Write a GUI program that displays your name and address when a button is clicked. Whent the user clicks the Show Info button, the program should display your name and address. "
   ]
  },
  {
   "cell_type": "code",
   "execution_count": 4,
   "id": "11e4ce3f",
   "metadata": {},
   "outputs": [],
   "source": [
    "# I am working alongside the video from the textbook to complete the problem above. \n",
    "# I am going to create two frames one to hold the Name and Address widgets and one to hold the button widget.\n",
    "\n",
    "import tkinter\n",
    "\n",
    "# Create the GUI Class\n",
    "class MyGUI:\n",
    "    def __init__(self):\n",
    "        # Create the main window.\n",
    "        self.main_window = tkinter.Tk()  # Corrected capitalization of 'Tk'\n",
    "\n",
    "        # Create StringVar objects to display name, street, and city-state-zip.\n",
    "        self.name_value = tkinter.StringVar()\n",
    "        self.street_value = tkinter.StringVar()\n",
    "        self.csz_value = tkinter.StringVar()\n",
    "\n",
    "        # Create two frames.\n",
    "        self.info_frame = tkinter.Frame(self.main_window)\n",
    "        self.button_frame = tkinter.Frame(self.main_window)\n",
    "\n",
    "        # Create the label widgets, associated with the StringVar objects.\n",
    "        self.name_label = tkinter.Label(self.info_frame, textvariable=self.name_value)\n",
    "        self.street_label = tkinter.Label(self.info_frame, textvariable=self.street_value)  # Corrected variable name\n",
    "        self.csz_label = tkinter.Label(self.info_frame, textvariable=self.csz_value)  # Corrected variable name\n",
    "\n",
    "        # Pack the labels.\n",
    "        self.name_label.pack()\n",
    "        self.street_label.pack()\n",
    "        self.csz_label.pack()\n",
    "\n",
    "        # Create the button widgets.\n",
    "        self.show_info_button = tkinter.Button(self.button_frame, text='Show Info', command=self.show)\n",
    "        self.quit_button = tkinter.Button(self.button_frame, text='Quit', command=self.main_window.destroy)  # Corrected 'test' to 'text'\n",
    "\n",
    "        # Pack the buttons.\n",
    "        self.show_info_button.pack(side='left')\n",
    "        self.quit_button.pack(side='right')\n",
    "\n",
    "        # Pack the frames.\n",
    "        self.info_frame.pack()\n",
    "        self.button_frame.pack()\n",
    "\n",
    "        # Enter the tkinter main loop.\n",
    "        tkinter.mainloop()\n",
    "\n",
    "    # Callback function for the Show Info button.\n",
    "    def show(self):\n",
    "        self.name_value.set('Taylor Baum')  # Corrected typo in the name\n",
    "        self.street_value.set('123 Walnut Street')\n",
    "        self.csz_value.set('Asheville, NC 29999')"
   ]
  },
  {
   "cell_type": "code",
   "execution_count": null,
   "id": "4b7144e3",
   "metadata": {},
   "outputs": [],
   "source": []
  }
 ],
 "metadata": {
  "kernelspec": {
   "display_name": "Python 3 (ipykernel)",
   "language": "python",
   "name": "python3"
  },
  "language_info": {
   "codemirror_mode": {
    "name": "ipython",
    "version": 3
   },
   "file_extension": ".py",
   "mimetype": "text/x-python",
   "name": "python",
   "nbconvert_exporter": "python",
   "pygments_lexer": "ipython3",
   "version": "3.11.4"
  }
 },
 "nbformat": 4,
 "nbformat_minor": 5
}

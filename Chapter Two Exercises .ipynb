{
 "cells": [
  {
   "cell_type": "markdown",
   "id": "ec8d3346",
   "metadata": {},
   "source": [
    "# Chapter Two Exercises "
   ]
  },
  {
   "cell_type": "markdown",
   "id": "8200fab6",
   "metadata": {},
   "source": [
    "## Algorithm Workbench - #2\n",
    "\n",
    "This exercise asks for code to be written that has the user enter his or her favorite color and assigns the input to a variable named COLOR. \n"
   ]
  },
  {
   "cell_type": "code",
   "execution_count": 4,
   "id": "6c3a8685",
   "metadata": {},
   "outputs": [
    {
     "name": "stdout",
     "output_type": "stream",
     "text": [
      "What is your favorite color? Purple\n"
     ]
    }
   ],
   "source": [
    "# This is an input string that asks the user to enter the name of their favorite color. \n",
    "Color = input('What is your favorite color? ')"
   ]
  },
  {
   "cell_type": "markdown",
   "id": "21383048",
   "metadata": {},
   "source": [
    "Above I have entered in my favorite color \"Purple\" which is now assigned to the Color variable.\n"
   ]
  },
  {
   "cell_type": "code",
   "execution_count": 7,
   "id": "692ab797",
   "metadata": {},
   "outputs": [
    {
     "name": "stdout",
     "output_type": "stream",
     "text": [
      "I also like the color Purple\n"
     ]
    }
   ],
   "source": [
    "# Now the variable can be refrenced, shown below. \n",
    "print('I also like the color',Color)"
   ]
  },
  {
   "cell_type": "code",
   "execution_count": null,
   "id": "46b70dcd",
   "metadata": {},
   "outputs": [],
   "source": []
  }
 ],
 "metadata": {
  "kernelspec": {
   "display_name": "Python 3 (ipykernel)",
   "language": "python",
   "name": "python3"
  },
  "language_info": {
   "codemirror_mode": {
    "name": "ipython",
    "version": 3
   },
   "file_extension": ".py",
   "mimetype": "text/x-python",
   "name": "python",
   "nbconvert_exporter": "python",
   "pygments_lexer": "ipython3",
   "version": "3.11.4"
  }
 },
 "nbformat": 4,
 "nbformat_minor": 5
}

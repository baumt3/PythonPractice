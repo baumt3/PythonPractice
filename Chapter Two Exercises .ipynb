{
 "cells": [
  {
   "cell_type": "markdown",
   "id": "50619d59",
   "metadata": {},
   "source": [
    "# Chapter Two Exercises "
   ]
  },
  {
   "cell_type": "markdown",
   "id": "0bac9acd",
   "metadata": {},
   "source": [
    "## Algorithm Workbench - #2\n",
    "\n",
    "This exercise asks for code to be written that has the user enter his or her favorite color and assigns the input to a variable named COLOR. \n"
   ]
  },
  {
   "cell_type": "code",
   "execution_count": 1,
   "id": "e771ec2c",
   "metadata": {},
   "outputs": [
    {
     "name": "stdout",
     "output_type": "stream",
     "text": [
      "What is your favorite color? purple\n"
     ]
    }
   ],
   "source": [
    "# This is an input string that asks the user to enter the name of their favorite color. \n",
    "Color = input('What is your favorite color? ')"
   ]
  },
  {
   "cell_type": "markdown",
   "id": "fb6ccab8",
   "metadata": {},
   "source": [
    "Above I have entered in my favorite color \"Purple\" which is now assigned to the Color variable.\n"
   ]
  },
  {
   "cell_type": "code",
   "execution_count": 2,
   "id": "9b1a1c63",
   "metadata": {},
   "outputs": [
    {
     "name": "stdout",
     "output_type": "stream",
     "text": [
      "I also like the color purple\n"
     ]
    }
   ],
   "source": [
    "# Now the variable can be refrenced, shown below. \n",
    "print('I also like the color', Color)"
   ]
  },
  {
   "cell_type": "markdown",
   "id": "a0d9dcb1",
   "metadata": {},
   "source": [
    "## Programming Exercises 1 and 13"
   ]
  },
  {
   "cell_type": "markdown",
   "id": "2086e6ae",
   "metadata": {},
   "source": [
    "### 1. This exercise asks that I write a program that displays the following information for a student:\n",
    "            a. Name : Cameron Calero\n",
    "            b. Address, with city, state, and ZIP: 2045 Heliport Loop Riverfolk, IN 43286\n",
    "            c. Telephone number: 812-555-1212\n",
    "            d. College major: Finance"
   ]
  },
  {
   "cell_type": "code",
   "execution_count": 3,
   "id": "15cf984f",
   "metadata": {},
   "outputs": [
    {
     "name": "stdout",
     "output_type": "stream",
     "text": [
      "Cameron Calero\n",
      "2045 Heliport Loop\n",
      "Riverfolk, IN 43286\n",
      "812-555-1212\n",
      "Finance\n"
     ]
    }
   ],
   "source": [
    "# This string will output the student's name.\n",
    "print('Cameron Calero')\n",
    "# This string will output the student's street address.\n",
    "print('2045 Heliport Loop')\n",
    "# This string will output the student's city, state, and ZIP.\n",
    "print('Riverfolk, IN 43286')\n",
    "# This string will output the student's telephone number.\n",
    "print('812-555-1212')\n",
    "# This string will output the student's college major.\n",
    "print('Finance')\n",
    "# All these strings will appear on their own lines. "
   ]
  },
  {
   "cell_type": "markdown",
   "id": "e359698d",
   "metadata": {},
   "source": [
    "### 13. This exercise asks that I write code that makes the calculation of how many vines will fit in the row. \n",
    "First I have to write input function code for the following: The length of the row, the amount of space used by an end-post assembly, and the amount of space between the vines all in feet. These amounts will need to be assigned to variables that can then be called upon in the calculation.\n"
   ]
  },
  {
   "cell_type": "code",
   "execution_count": 4,
   "id": "238f804d",
   "metadata": {},
   "outputs": [
    {
     "name": "stdout",
     "output_type": "stream",
     "text": [
      "What is the length of the row in feet? 10\n"
     ]
    }
   ],
   "source": [
    "#int indicates that the input given needs to be an integer. \n",
    "Length = int(input('What is the length of the row in feet? '))"
   ]
  },
  {
   "cell_type": "code",
   "execution_count": 5,
   "id": "33dc6bbd",
   "metadata": {},
   "outputs": [
    {
     "name": "stdout",
     "output_type": "stream",
     "text": [
      "What is the amount of space used by an end-post assembly in feet? 15\n"
     ]
    }
   ],
   "source": [
    "end_post_assembly = int(input('What is the amount of space used by an end-post assembly in feet? '))"
   ]
  },
  {
   "cell_type": "code",
   "execution_count": 6,
   "id": "9fadca32",
   "metadata": {},
   "outputs": [
    {
     "name": "stdout",
     "output_type": "stream",
     "text": [
      "What is the amount of space between the vines in feet? 30\n"
     ]
    }
   ],
   "source": [
    "space = int(input('What is the amount of space between the vines in feet? '))"
   ]
  },
  {
   "cell_type": "markdown",
   "id": "87e7e09e",
   "metadata": {},
   "source": [
    "### Now the user must input the correct values. I will now enter in the values. Once the values are entered the formula can be written and executed. "
   ]
  },
  {
   "cell_type": "code",
   "execution_count": 7,
   "id": "06f680c3",
   "metadata": {},
   "outputs": [],
   "source": [
    "#The formula below should output the number of grapevines that will fit in the row.\n",
    "Grapevines = (Length - 2 * end_post_assembly) / space"
   ]
  },
  {
   "cell_type": "markdown",
   "id": "205c412a",
   "metadata": {},
   "source": [
    "Received syntax error that I will fix. Forgot to capitalize the L in length. "
   ]
  },
  {
   "cell_type": "markdown",
   "id": "b82cb28c",
   "metadata": {},
   "source": [
    "Received another syntax error for incomplete input. \n",
    "Fix: I had too many parentheses. "
   ]
  },
  {
   "cell_type": "code",
   "execution_count": 8,
   "id": "b7c8c491",
   "metadata": {},
   "outputs": [
    {
     "name": "stdout",
     "output_type": "stream",
     "text": [
      "This is how many vines will fit in the row: -0.6666666666666666\n"
     ]
    }
   ],
   "source": [
    "#Display the result from the formula above:\n",
    "print('This is how many vines will fit in the row:', Grapevines)"
   ]
  },
  {
   "cell_type": "code",
   "execution_count": null,
   "id": "8c90f526",
   "metadata": {},
   "outputs": [],
   "source": []
  }
 ],
 "metadata": {
  "kernelspec": {
   "display_name": "Python 3 (ipykernel)",
   "language": "python",
   "name": "python3"
  },
  "language_info": {
   "codemirror_mode": {
    "name": "ipython",
    "version": 3
   },
   "file_extension": ".py",
   "mimetype": "text/x-python",
   "name": "python",
   "nbconvert_exporter": "python",
   "pygments_lexer": "ipython3",
   "version": "3.11.4"
  }
 },
 "nbformat": 4,
 "nbformat_minor": 5
}

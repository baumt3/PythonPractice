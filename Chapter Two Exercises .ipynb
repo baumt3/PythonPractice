{
 "cells": [
  {
   "cell_type": "markdown",
   "id": "e52bce64",
   "metadata": {},
   "source": [
    "# Chapter Two Exercises "
   ]
  },
  {
   "cell_type": "markdown",
   "id": "72c328fc",
   "metadata": {},
   "source": [
    "## Algorithm Workbench - #2\n",
    "\n",
    "This exercise asks for code to be written that has the user enter his or her favorite color and assigns the input to a variable named COLOR. \n"
   ]
  },
  {
   "cell_type": "code",
   "execution_count": 4,
   "id": "49cbdb3c",
   "metadata": {},
   "outputs": [
    {
     "name": "stdout",
     "output_type": "stream",
     "text": [
      "What is your favorite color? Purple\n"
     ]
    }
   ],
   "source": [
    "# This is an input string that asks the user to enter the name of their favorite color. \n",
    "Color = input('What is your favorite color? ')"
   ]
  },
  {
   "cell_type": "markdown",
   "id": "41f549ff",
   "metadata": {},
   "source": [
    "Above I have entered in my favorite color \"Purple\" which is now assigned to the Color variable.\n"
   ]
  },
  {
   "cell_type": "code",
   "execution_count": 11,
   "id": "b7a59546",
   "metadata": {},
   "outputs": [
    {
     "name": "stdout",
     "output_type": "stream",
     "text": [
      "I also like the color Purple\n"
     ]
    }
   ],
   "source": [
    "# Now the variable can be refrenced, shown below. \n",
    "print('I also like the color', Color)"
   ]
  },
  {
   "cell_type": "markdown",
   "id": "1c233e7d",
   "metadata": {},
   "source": [
    "## Programming Exercises 1 and 13"
   ]
  },
  {
   "cell_type": "markdown",
   "id": "2664b43b",
   "metadata": {},
   "source": [
    "### 1. This exercise asks that I write a program that displays the following information for a student:\n",
    "            a. Name : Cameron Calero\n",
    "            b. Address, with city, state, and ZIP: 2045 Heliport Loop Riverfolk, IN 43286\n",
    "            c. Telephone number: 812-555-1212\n",
    "            d. College major: Finance"
   ]
  },
  {
   "cell_type": "code",
   "execution_count": 12,
   "id": "18c74302",
   "metadata": {},
   "outputs": [
    {
     "name": "stdout",
     "output_type": "stream",
     "text": [
      "Cameron Calero\n",
      "2045 Heliport Loop\n",
      "Riverfolk, IN 43286\n",
      "812-555-1212\n",
      "Finance\n"
     ]
    }
   ],
   "source": [
    "# This string will output the student's name.\n",
    "print('Cameron Calero')\n",
    "# This string will output the student's street address.\n",
    "print('2045 Heliport Loop')\n",
    "# This string will output the student's city, state, and ZIP.\n",
    "print('Riverfolk, IN 43286')\n",
    "# This string will output the student's telephone number.\n",
    "print('812-555-1212')\n",
    "# This string will output the student's college major.\n",
    "print('Finance')\n",
    "# All these strings will appear on their own lines. "
   ]
  },
  {
   "cell_type": "code",
   "execution_count": null,
   "id": "1c519056",
   "metadata": {},
   "outputs": [],
   "source": []
  }
 ],
 "metadata": {
  "kernelspec": {
   "display_name": "Python 3 (ipykernel)",
   "language": "python",
   "name": "python3"
  },
  "language_info": {
   "codemirror_mode": {
    "name": "ipython",
    "version": 3
   },
   "file_extension": ".py",
   "mimetype": "text/x-python",
   "name": "python",
   "nbconvert_exporter": "python",
   "pygments_lexer": "ipython3",
   "version": "3.11.4"
  }
 },
 "nbformat": 4,
 "nbformat_minor": 5
}

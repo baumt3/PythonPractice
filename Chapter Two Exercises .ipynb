{
 "cells": [
  {
   "cell_type": "markdown",
   "id": "d31af519",
   "metadata": {},
   "source": [
    "# Chapter Two Exercises "
   ]
  },
  {
   "cell_type": "markdown",
   "id": "3c75b43c",
   "metadata": {},
   "source": [
    "## Algorithm Workbench - #2\n",
    "\n",
    "This exercise asks for code to be written that has the user enter his or her favorite color and assigns the input to a variable named COLOR. \n"
   ]
  },
  {
   "cell_type": "code",
   "execution_count": 1,
   "id": "8656b38c",
   "metadata": {},
   "outputs": [
    {
     "name": "stdout",
     "output_type": "stream",
     "text": [
      "What is your favorite color? purple\n"
     ]
    }
   ],
   "source": [
    "# This is an input string that asks the user to enter the name of their favorite color. \n",
    "Color = input('What is your favorite color? ')"
   ]
  },
  {
   "cell_type": "markdown",
   "id": "62118ef0",
   "metadata": {},
   "source": [
    "Above I have entered in my favorite color \"Purple\" which is now assigned to the Color variable.\n"
   ]
  },
  {
   "cell_type": "code",
   "execution_count": 2,
   "id": "fecbb748",
   "metadata": {},
   "outputs": [
    {
     "name": "stdout",
     "output_type": "stream",
     "text": [
      "I also like the color purple\n"
     ]
    }
   ],
   "source": [
    "# Now the variable can be refrenced, shown below. \n",
    "print('I also like the color', Color)"
   ]
  },
  {
   "cell_type": "markdown",
   "id": "88cd7d26",
   "metadata": {},
   "source": [
    "## Programming Exercises 1 and 13"
   ]
  },
  {
   "cell_type": "markdown",
   "id": "717a5fe6",
   "metadata": {},
   "source": [
    "### 1. This exercise asks that I write a program that displays the following information for a student:\n",
    "            a. Name : Cameron Calero\n",
    "            b. Address, with city, state, and ZIP: 2045 Heliport Loop Riverfolk, IN 43286\n",
    "            c. Telephone number: 812-555-1212\n",
    "            d. College major: Finance"
   ]
  },
  {
   "cell_type": "code",
   "execution_count": 3,
   "id": "fd539806",
   "metadata": {},
   "outputs": [
    {
     "name": "stdout",
     "output_type": "stream",
     "text": [
      "Cameron Calero\n",
      "2045 Heliport Loop\n",
      "Riverfolk, IN 43286\n",
      "812-555-1212\n",
      "Finance\n"
     ]
    }
   ],
   "source": [
    "# This string will output the student's name.\n",
    "print('Cameron Calero')\n",
    "# This string will output the student's street address.\n",
    "print('2045 Heliport Loop')\n",
    "# This string will output the student's city, state, and ZIP.\n",
    "print('Riverfolk, IN 43286')\n",
    "# This string will output the student's telephone number.\n",
    "print('812-555-1212')\n",
    "# This string will output the student's college major.\n",
    "print('Finance')\n",
    "# All these strings will appear on their own lines. "
   ]
  },
  {
   "cell_type": "markdown",
   "id": "9baa387f",
   "metadata": {},
   "source": [
    "### 13. This exercise asks that I write code that makes the calculation of how many vines will fit in the row. \n",
    "First I have to write input function code for the following: The length of the row, the amount of space used by an end-post assembly, and the amount of space between the vines all in feet. These amounts will need to be assigned to variables that can then be called upon in the calculation.\n"
   ]
  },
  {
   "cell_type": "code",
   "execution_count": 4,
   "id": "b99d485a",
   "metadata": {},
   "outputs": [
    {
     "name": "stdout",
     "output_type": "stream",
     "text": [
      "What is the length of the row in feet? 10\n"
     ]
    }
   ],
   "source": [
    "#int indicates that the input given needs to be an integer. \n",
    "Length = int(input('What is the length of the row in feet? '))"
   ]
  },
  {
   "cell_type": "code",
   "execution_count": 5,
   "id": "ea890a1d",
   "metadata": {},
   "outputs": [
    {
     "name": "stdout",
     "output_type": "stream",
     "text": [
      "What is the amount of space used by an end-post assembly in feet? 15\n"
     ]
    }
   ],
   "source": [
    "end_post_assembly = int(input('What is the amount of space used by an end-post assembly in feet? '))"
   ]
  },
  {
   "cell_type": "code",
   "execution_count": 6,
   "id": "96ae8623",
   "metadata": {},
   "outputs": [
    {
     "name": "stdout",
     "output_type": "stream",
     "text": [
      "What is the amount of space between the vines in feet? 30\n"
     ]
    }
   ],
   "source": [
    "space = int(input('What is the amount of space between the vines in feet? '))"
   ]
  },
  {
   "cell_type": "markdown",
   "id": "5fd7bd3a",
   "metadata": {},
   "source": [
    "### Now the user must input the correct values. I will now enter in the values. Once the values are entered the formula can be written and executed. "
   ]
  },
  {
   "cell_type": "code",
   "execution_count": null,
   "id": "d3ecfb6e",
   "metadata": {},
   "outputs": [],
   "source": [
    "Grapevines = "
   ]
  }
 ],
 "metadata": {
  "kernelspec": {
   "display_name": "Python 3 (ipykernel)",
   "language": "python",
   "name": "python3"
  },
  "language_info": {
   "codemirror_mode": {
    "name": "ipython",
    "version": 3
   },
   "file_extension": ".py",
   "mimetype": "text/x-python",
   "name": "python",
   "nbconvert_exporter": "python",
   "pygments_lexer": "ipython3",
   "version": "3.11.4"
  }
 },
 "nbformat": 4,
 "nbformat_minor": 5
}

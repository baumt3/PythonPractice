{
 "cells": [
  {
   "cell_type": "markdown",
   "id": "ac2558f8",
   "metadata": {},
   "source": [
    "# Chapter Six Exercises "
   ]
  },
  {
   "cell_type": "markdown",
   "id": "040ce990",
   "metadata": {},
   "source": [
    "## Alogorithm Workbench 9 & 10"
   ]
  },
  {
   "cell_type": "markdown",
   "id": "ed7c140e",
   "metadata": {},
   "source": [
    "### 9) What will the following code display?\n"
   ]
  },
  {
   "cell_type": "code",
   "execution_count": null,
   "id": "11a23549",
   "metadata": {},
   "outputs": [],
   "source": [
    "try:\n",
    "    x = float('abc123')\n",
    "    print('The conversion is complete.')\n",
    "except IOError:\n",
    "    print('This code caused an IOError')\n",
    "except ValueError:\n",
    "    print('This code caused a ValueError.')\n",
    "print('The end.')"
   ]
  },
  {
   "cell_type": "markdown",
   "id": "18322a78",
   "metadata": {},
   "source": [
    "The code above is a try/except statement.\n",
    "I believe the variable x = float('abc123') will cause an error due to the string having letters instead of just numbers and trying to convert it to a float. \n",
    "So when the statement executes and cannot convert the string to a float number, the program will jump to the exception ValueError and print: This code caused a ValueError. Then continue to prit('The end.'). I will now run the statement and see what happens. "
   ]
  }
 ],
 "metadata": {
  "kernelspec": {
   "display_name": "Python 3 (ipykernel)",
   "language": "python",
   "name": "python3"
  },
  "language_info": {
   "codemirror_mode": {
    "name": "ipython",
    "version": 3
   },
   "file_extension": ".py",
   "mimetype": "text/x-python",
   "name": "python",
   "nbconvert_exporter": "python",
   "pygments_lexer": "ipython3",
   "version": "3.11.4"
  }
 },
 "nbformat": 4,
 "nbformat_minor": 5
}

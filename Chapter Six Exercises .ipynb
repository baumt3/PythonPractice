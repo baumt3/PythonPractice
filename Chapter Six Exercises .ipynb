{
 "cells": [
  {
   "cell_type": "markdown",
   "id": "12c2dfee",
   "metadata": {},
   "source": [
    "# Chapter Six Exercises "
   ]
  },
  {
   "cell_type": "markdown",
   "id": "48c8cae0",
   "metadata": {},
   "source": [
    "## Alogorithm Workbench 9 & 10"
   ]
  },
  {
   "cell_type": "markdown",
   "id": "22d1831d",
   "metadata": {},
   "source": [
    "### 9) What will the following code display?\n"
   ]
  },
  {
   "cell_type": "code",
   "execution_count": 1,
   "id": "51731d14",
   "metadata": {},
   "outputs": [
    {
     "name": "stdout",
     "output_type": "stream",
     "text": [
      "This code caused a ValueError.\n",
      "The end.\n"
     ]
    }
   ],
   "source": [
    "try:\n",
    "    x = float('abc123')\n",
    "    print('The conversion is complete.')\n",
    "except IOError:\n",
    "    print('This code caused an IOError')\n",
    "except ValueError:\n",
    "    print('This code caused a ValueError.')\n",
    "print('The end.')"
   ]
  },
  {
   "cell_type": "markdown",
   "id": "25f7cab7",
   "metadata": {},
   "source": [
    "The code above is a try/except statement.\n",
    "I believe the variable x = float('abc123') will cause an error due to the string having letters instead of just numbers and trying to convert it to a float. \n",
    "So when the statement executes and cannot convert the string to a float number, the program will jump to the exception ValueError and print: This code caused a ValueError. Then continue to prit('The end.'). I will now run the statement and see what happens. "
   ]
  },
  {
   "cell_type": "markdown",
   "id": "16ea3cdd",
   "metadata": {},
   "source": [
    "After running the code I see that I was correct in my thinking! :)"
   ]
  },
  {
   "cell_type": "markdown",
   "id": "98d29576",
   "metadata": {},
   "source": [
    "### 10) What will the following code display?"
   ]
  },
  {
   "cell_type": "code",
   "execution_count": 2,
   "id": "272c4ea9",
   "metadata": {},
   "outputs": [
    {
     "name": "stdout",
     "output_type": "stream",
     "text": [
      "An error happened.\n",
      "The end.\n"
     ]
    }
   ],
   "source": [
    "try:\n",
    "    x = float('abc123')\n",
    "    print(x)\n",
    "except IOError:\n",
    "    print('This code caused and IOError.')\n",
    "except ZeroDivisionError:\n",
    "    print('This code caused a ZeroDivisionError.')\n",
    "except:\n",
    "    print('An error happened.')\n",
    "print('The end.')"
   ]
  },
  {
   "cell_type": "markdown",
   "id": "d0bc4d80",
   "metadata": {},
   "source": [
    "The code above is another try/except statement. The statement will try and do the same thing as above with the x variable. But since the string contains letters and not just numbers an error will occur. Since it is not an IOError or a ZeroDivisionError, the program will skip over these two exceptions and jump to the exception without a description. I believe the program will then print: An error happened. Then continue down to print: The end. I will now run the program and see if I am correct. "
   ]
  },
  {
   "cell_type": "markdown",
   "id": "b04407a0",
   "metadata": {},
   "source": [
    "After running the code I see that I was correct in my thinking! :) "
   ]
  },
  {
   "cell_type": "code",
   "execution_count": null,
   "id": "2c9d37cf",
   "metadata": {},
   "outputs": [],
   "source": []
  }
 ],
 "metadata": {
  "kernelspec": {
   "display_name": "Python 3 (ipykernel)",
   "language": "python",
   "name": "python3"
  },
  "language_info": {
   "codemirror_mode": {
    "name": "ipython",
    "version": 3
   },
   "file_extension": ".py",
   "mimetype": "text/x-python",
   "name": "python",
   "nbconvert_exporter": "python",
   "pygments_lexer": "ipython3",
   "version": "3.11.4"
  }
 },
 "nbformat": 4,
 "nbformat_minor": 5
}

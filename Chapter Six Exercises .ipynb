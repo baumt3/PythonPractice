{
 "cells": [
  {
   "cell_type": "markdown",
   "id": "ce9439c6",
   "metadata": {},
   "source": [
    "# Chapter Six Exercises "
   ]
  },
  {
   "cell_type": "markdown",
   "id": "23e5be7b",
   "metadata": {},
   "source": [
    "## Alogorithm Workbench 9 & 10"
   ]
  },
  {
   "cell_type": "markdown",
   "id": "8eca680f",
   "metadata": {},
   "source": [
    "### 9) What will the following code display?\n"
   ]
  },
  {
   "cell_type": "code",
   "execution_count": 1,
   "id": "ac60f6e3",
   "metadata": {},
   "outputs": [
    {
     "name": "stdout",
     "output_type": "stream",
     "text": [
      "This code caused a ValueError.\n",
      "The end.\n"
     ]
    }
   ],
   "source": [
    "try:\n",
    "    x = float('abc123')\n",
    "    print('The conversion is complete.')\n",
    "except IOError:\n",
    "    print('This code caused an IOError')\n",
    "except ValueError:\n",
    "    print('This code caused a ValueError.')\n",
    "print('The end.')"
   ]
  },
  {
   "cell_type": "markdown",
   "id": "ad9743f7",
   "metadata": {},
   "source": [
    "The code above is a try/except statement.\n",
    "I believe the variable x = float('abc123') will cause an error due to the string having letters instead of just numbers and trying to convert it to a float. \n",
    "So when the statement executes and cannot convert the string to a float number, the program will jump to the exception ValueError and print: This code caused a ValueError. Then continue to prit('The end.'). I will now run the statement and see what happens. "
   ]
  },
  {
   "cell_type": "markdown",
   "id": "13bd50f2",
   "metadata": {},
   "source": [
    "After running the code I see that I was correct in my thinking! :)"
   ]
  },
  {
   "cell_type": "markdown",
   "id": "db048f3c",
   "metadata": {},
   "source": [
    "### 10) What will the following code display?"
   ]
  },
  {
   "cell_type": "code",
   "execution_count": 2,
   "id": "efda194d",
   "metadata": {},
   "outputs": [
    {
     "name": "stdout",
     "output_type": "stream",
     "text": [
      "An error happened.\n",
      "The end.\n"
     ]
    }
   ],
   "source": [
    "try:\n",
    "    x = float('abc123')\n",
    "    print(x)\n",
    "except IOError:\n",
    "    print('This code caused and IOError.')\n",
    "except ZeroDivisionError:\n",
    "    print('This code caused a ZeroDivisionError.')\n",
    "except:\n",
    "    print('An error happened.')\n",
    "print('The end.')"
   ]
  },
  {
   "cell_type": "markdown",
   "id": "e805dea6",
   "metadata": {},
   "source": [
    "The code above is another try/except statement. The statement will try and do the same thing as above with the x variable. But since the string contains letters and not just numbers an error will occur. Since it is not an IOError or a ZeroDivisionError, the program will skip over these two exceptions and jump to the exception without a description. I believe the program will then print: An error happened. Then continue down to print: The end. I will now run the program and see if I am correct. "
   ]
  },
  {
   "cell_type": "markdown",
   "id": "f0c30b7f",
   "metadata": {},
   "source": [
    "After running the code I see that I was correct in my thinking! :) "
   ]
  },
  {
   "cell_type": "markdown",
   "id": "42bd8eed",
   "metadata": {},
   "source": [
    "## Programming Exercises: 1, 5, 6, & 9"
   ]
  },
  {
   "cell_type": "markdown",
   "id": "57fc655d",
   "metadata": {},
   "source": [
    "### 1) Assume a file containing a series of integers is named numbers.txt and esists on the computer's disk. Write a program that displays all of the numbers in the file."
   ]
  },
  {
   "cell_type": "markdown",
   "id": "3b522c02",
   "metadata": {},
   "source": [
    "First I am going to create the file numbers.txt and save it in the same folder as my program.\n",
    "\n",
    "Then I will write out the pseudocode:\n",
    "\n",
    "1) Open the file\n",
    "2) For each line in the file:\n",
    "    Read the line and display it\n",
    "3) Close the file\n",
    "\n",
    "Then I will write out the program:"
   ]
  },
  {
   "cell_type": "code",
   "execution_count": 3,
   "id": "8fa1896d",
   "metadata": {},
   "outputs": [
    {
     "name": "stdout",
     "output_type": "stream",
     "text": [
      "2\n",
      "4\n",
      "56\n",
      "76\n",
      "54\n",
      "6\n",
      "2\n",
      "3\n",
      "34\n",
      "90\n",
      "76\n",
      "46\n",
      "37\n",
      "58\n",
      "28\n",
      "48\n",
      "3\n",
      "2\n",
      "7\n",
      "90\n"
     ]
    }
   ],
   "source": [
    "# Open the file\n",
    "myfile = open('numbers.txt', 'r')\n",
    "\n",
    "# Read and display the file's contents.\n",
    "for line in myfile:\n",
    "    # Convert the data in the file to an integer:\n",
    "    number = int(line)\n",
    "    print(number)\n",
    "# Close the file\n",
    "myfile.close()"
   ]
  },
  {
   "cell_type": "markdown",
   "id": "84fa19fe",
   "metadata": {},
   "source": [
    "I expect this program to open the file numbers.txt, read each line and covert it to an integer, print the number in each line and then close the file. I will now run the program. "
   ]
  },
  {
   "cell_type": "code",
   "execution_count": null,
   "id": "3d0bb02c",
   "metadata": {},
   "outputs": [],
   "source": []
  }
 ],
 "metadata": {
  "kernelspec": {
   "display_name": "Python 3 (ipykernel)",
   "language": "python",
   "name": "python3"
  },
  "language_info": {
   "codemirror_mode": {
    "name": "ipython",
    "version": 3
   },
   "file_extension": ".py",
   "mimetype": "text/x-python",
   "name": "python",
   "nbconvert_exporter": "python",
   "pygments_lexer": "ipython3",
   "version": "3.11.4"
  }
 },
 "nbformat": 4,
 "nbformat_minor": 5
}

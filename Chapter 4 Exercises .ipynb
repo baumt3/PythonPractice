{
 "cells": [
  {
   "cell_type": "markdown",
   "id": "15af5a02",
   "metadata": {},
   "source": [
    "# Chapter 4 Exercises "
   ]
  },
  {
   "cell_type": "markdown",
   "id": "e9721a50",
   "metadata": {},
   "source": [
    "## Algorithm Workbench Questions 1 and 4"
   ]
  },
  {
   "cell_type": "markdown",
   "id": "8ea104e7",
   "metadata": {},
   "source": [
    "### 1) Question one asks that I create a while loop that lets the user enter a number. The number should be multiplied by 10, and the result assigned to a variable named product. The loop should iterate as long as product is less than 100. "
   ]
  },
  {
   "cell_type": "code",
   "execution_count": null,
   "id": "1585524d",
   "metadata": {},
   "outputs": [],
   "source": [
    "# Ask the user for a number:\n",
    "Number = int(input('Please enter a number. '))\n",
    "\n",
    "# Create a math problem that takes the number from the user and multiplies is by 10 and assign the result to the variable 'Product'. \n",
    "product = Number * 10\n",
    "\n",
    "# Create the While loop:\n",
    "while product < 100:\n",
    "    print(f'{product}')\n",
    "\n",
    "# I expect this to be an infinite loop. "
   ]
  },
  {
   "cell_type": "code",
   "execution_count": null,
   "id": "ab2d3aba",
   "metadata": {},
   "outputs": [],
   "source": [
    "# Since this is an infinite loop it is too big to be seen in GitHub when I save after running the program. \n",
    "# Please try it to see it work! :)"
   ]
  },
  {
   "cell_type": "markdown",
   "id": "735c8f08",
   "metadata": {},
   "source": [
    "### 4) Question 4 asks me to write a loop that asks the user to enter a number. The loop should iterate 10 times and keep a running total of the numbers entered. "
   ]
  },
  {
   "cell_type": "code",
   "execution_count": 3,
   "id": "549d9223",
   "metadata": {},
   "outputs": [
    {
     "name": "stdout",
     "output_type": "stream",
     "text": [
      "This program will calculate the sum of the 10 numbers you enter.\n",
      "Please enter a number: 3\n",
      "The total is 3.0.\n",
      "Please enter a number: 4\n",
      "The total is 7.0.\n",
      "Please enter a number: 3\n",
      "The total is 10.0.\n",
      "Please enter a number: 2\n",
      "The total is 12.0.\n",
      "Please enter a number: 1\n",
      "The total is 13.0.\n",
      "Please enter a number: 2\n",
      "The total is 15.0.\n",
      "Please enter a number: 12\n",
      "The total is 27.0.\n",
      "Please enter a number: 33\n",
      "The total is 60.0.\n",
      "Please enter a number: 22\n",
      "The total is 82.0.\n",
      "Please enter a number: 1\n",
      "The total is 83.0.\n"
     ]
    }
   ],
   "source": [
    "# Maximum number of numbers the user is allowed to input\n",
    "MAX = 10\n",
    "\n",
    "# This initializes an accumulator variable:\n",
    "total = 0.0\n",
    "\n",
    "# Explain to the user what the program does:\n",
    "print('This program will calculate the sum of the ', end='')\n",
    "print(f'{MAX} numbers you enter.')\n",
    "\n",
    "# Ask for the numbers and accumulate them:\n",
    "for counter in range(MAX):\n",
    "    number = int(input('Please enter a number: '))\n",
    "    # This formula will take the current total and add the number provided by the user 10 times.\n",
    "    total = total + number\n",
    "    \n",
    "# Display the total of all the numbers entered:\n",
    "    print(f'The total is {total}.')"
   ]
  },
  {
   "cell_type": "markdown",
   "id": "3b92eccd",
   "metadata": {},
   "source": [
    "## Programming Exercises 1, 4, 12, 14"
   ]
  },
  {
   "cell_type": "markdown",
   "id": "7d76ee79",
   "metadata": {},
   "source": [
    "### 1) Bug Collector: This exercise asks that I write a code that keeps a running total of the number of bugs collected during the 5 days. The loop should ask for the number of bugs collected for each day, and when the loop is finished, the program should display the total number of bugs collected. \n"
   ]
  },
  {
   "cell_type": "code",
   "execution_count": 7,
   "id": "e5b644e8",
   "metadata": {},
   "outputs": [
    {
     "name": "stdout",
     "output_type": "stream",
     "text": [
      "This program will calculate the sum of the bugs you collected over the 5 days.\n",
      "Please enter the total number of bugs collected each of the 5 days: 2\n",
      "The total number of bugs collected over the 5 days is: 2.0.\n",
      "Please enter the total number of bugs collected each of the 5 days: 1\n",
      "The total number of bugs collected over the 5 days is: 3.0.\n",
      "Please enter the total number of bugs collected each of the 5 days: 2\n",
      "The total number of bugs collected over the 5 days is: 5.0.\n",
      "Please enter the total number of bugs collected each of the 5 days: 4\n",
      "The total number of bugs collected over the 5 days is: 9.0.\n",
      "Please enter the total number of bugs collected each of the 5 days: 6\n",
      "The total number of bugs collected over the 5 days is: 15.0.\n"
     ]
    }
   ],
   "source": [
    "# Maximum number of days the user is allowed to input the amount of bugs collected\n",
    "MAX = 5\n",
    "\n",
    "# This initializes an accumulator variable:\n",
    "total = 0.0\n",
    "\n",
    "# Explain to the user what the program does:\n",
    "print(f'This program will calculate the sum of the bugs you collected over the {MAX} days.')\n",
    "\n",
    "# Ask for the numbers and accumulate them:\n",
    "for counter in range(MAX):\n",
    "    number_of_bugs = int(input('Please enter the total number of bugs collected each of the 5 days: '))\n",
    "    # This formula will take the current total and add the number provided by the user 10 times.\n",
    "    total = total + number_of_bugs\n",
    "    \n",
    "# Display the total of all the numbers entered:\n",
    "    print(f'The total number of bugs collected over the 5 days is: {total}.')"
   ]
  },
  {
   "cell_type": "code",
   "execution_count": null,
   "id": "a5df1b36",
   "metadata": {},
   "outputs": [],
   "source": []
  }
 ],
 "metadata": {
  "kernelspec": {
   "display_name": "Python 3 (ipykernel)",
   "language": "python",
   "name": "python3"
  },
  "language_info": {
   "codemirror_mode": {
    "name": "ipython",
    "version": 3
   },
   "file_extension": ".py",
   "mimetype": "text/x-python",
   "name": "python",
   "nbconvert_exporter": "python",
   "pygments_lexer": "ipython3",
   "version": "3.11.4"
  }
 },
 "nbformat": 4,
 "nbformat_minor": 5
}

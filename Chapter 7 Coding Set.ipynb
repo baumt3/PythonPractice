{
 "cells": [
  {
   "cell_type": "markdown",
   "id": "7b109b81",
   "metadata": {},
   "source": [
    "# Chapter 7 Coding Set"
   ]
  },
  {
   "cell_type": "markdown",
   "id": "d60d26d6",
   "metadata": {},
   "source": [
    "## Algorithm Workbench Questions 3 & 7"
   ]
  },
  {
   "cell_type": "markdown",
   "id": "f21b5e3e",
   "metadata": {},
   "source": [
    "### 3) Assume the list numbers1 has 100 elements, and numbers2 is an empty list. Write code that copies the values in numbers1 to numbers2. "
   ]
  },
  {
   "cell_type": "code",
   "execution_count": 2,
   "id": "b6f60e1e",
   "metadata": {},
   "outputs": [
    {
     "name": "stdout",
     "output_type": "stream",
     "text": [
      "[1, 2, 3, 4, 5, 6, 7, 8, 9, 10, 11, 12, 13, 14, 15, 16, 17, 18, 19, 20, 21, 22, 23, 24, 25, 26, 27, 28, 29, 30, 31, 32, 33, 34, 35, 36, 37, 38, 39, 40, 41, 42, 43, 44, 45, 46, 47, 48, 49, 50, 51, 52, 53, 54, 55, 56, 57, 58, 59, 60, 61, 62, 63, 64, 65, 66, 67, 68, 69, 70, 71, 72, 73, 74, 75, 76, 77, 78, 79, 80, 81, 82, 83, 84, 85, 86, 87, 88, 89, 90, 91, 92, 93, 94, 95, 96, 97, 98, 99, 100]\n",
      "[1, 2, 3, 4, 5, 6, 7, 8, 9, 10, 11, 12, 13, 14, 15, 16, 17, 18, 19, 20, 21, 22, 23, 24, 25, 26, 27, 28, 29, 30, 31, 32, 33, 34, 35, 36, 37, 38, 39, 40, 41, 42, 43, 44, 45, 46, 47, 48, 49, 50, 51, 52, 53, 54, 55, 56, 57, 58, 59, 60, 61, 62, 63, 64, 65, 66, 67, 68, 69, 70, 71, 72, 73, 74, 75, 76, 77, 78, 79, 80, 81, 82, 83, 84, 85, 86, 87, 88, 89, 90, 91, 92, 93, 94, 95, 96, 97, 98, 99, 100]\n"
     ]
    }
   ],
   "source": [
    "# Create the two lists one with a range from 1 - 100. I used 1 - 101 since this range needs to include 1 and 100 but not \n",
    "# excede 100. List 2 is currently empty. \n",
    "numbers1 = list(range(1, 101))\n",
    "numbers2 = list()\n",
    "\n",
    "# Write the code that copies the values in numbers1 to numbers 2.\n",
    "for item in numbers1:\n",
    "    numbers2.append(item)\n",
    "# When this code executes numbers1 and numbers2 will refrence two separate but identical lists. \n",
    "\n",
    "# Lastly I will print the values in numbers1 and numbers2\n",
    "print(numbers1)\n",
    "print(numbers2)"
   ]
  },
  {
   "cell_type": "markdown",
   "id": "31dffa27",
   "metadata": {},
   "source": [
    "When I first executed the code nothing showed. I realized I had forgotten to print the two lists so I added that code and executed it again and received the output above. "
   ]
  },
  {
   "cell_type": "code",
   "execution_count": null,
   "id": "93a0cb59",
   "metadata": {},
   "outputs": [],
   "source": []
  }
 ],
 "metadata": {
  "kernelspec": {
   "display_name": "Python 3 (ipykernel)",
   "language": "python",
   "name": "python3"
  },
  "language_info": {
   "codemirror_mode": {
    "name": "ipython",
    "version": 3
   },
   "file_extension": ".py",
   "mimetype": "text/x-python",
   "name": "python",
   "nbconvert_exporter": "python",
   "pygments_lexer": "ipython3",
   "version": "3.11.4"
  }
 },
 "nbformat": 4,
 "nbformat_minor": 5
}

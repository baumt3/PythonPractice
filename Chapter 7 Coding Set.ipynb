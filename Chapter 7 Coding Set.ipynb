{
 "cells": [
  {
   "cell_type": "markdown",
   "id": "066b74b9",
   "metadata": {},
   "source": [
    "# Chapter 7 Coding Set"
   ]
  },
  {
   "cell_type": "markdown",
   "id": "0f1fdd7d",
   "metadata": {},
   "source": [
    "## Algorithm Workbench Questions 3 & 7"
   ]
  },
  {
   "cell_type": "markdown",
   "id": "00da0297",
   "metadata": {},
   "source": [
    "### 3) Assume the list numbers1 has 100 elements, and numbers2 is an empty list. Write code that copies the values in numbers1 to numbers2. "
   ]
  },
  {
   "cell_type": "code",
   "execution_count": 1,
   "id": "e76bd696",
   "metadata": {},
   "outputs": [
    {
     "name": "stdout",
     "output_type": "stream",
     "text": [
      "[1, 2, 3, 4, 5, 6, 7, 8, 9, 10, 11, 12, 13, 14, 15, 16, 17, 18, 19, 20, 21, 22, 23, 24, 25, 26, 27, 28, 29, 30, 31, 32, 33, 34, 35, 36, 37, 38, 39, 40, 41, 42, 43, 44, 45, 46, 47, 48, 49, 50, 51, 52, 53, 54, 55, 56, 57, 58, 59, 60, 61, 62, 63, 64, 65, 66, 67, 68, 69, 70, 71, 72, 73, 74, 75, 76, 77, 78, 79, 80, 81, 82, 83, 84, 85, 86, 87, 88, 89, 90, 91, 92, 93, 94, 95, 96, 97, 98, 99, 100]\n",
      "[1, 2, 3, 4, 5, 6, 7, 8, 9, 10, 11, 12, 13, 14, 15, 16, 17, 18, 19, 20, 21, 22, 23, 24, 25, 26, 27, 28, 29, 30, 31, 32, 33, 34, 35, 36, 37, 38, 39, 40, 41, 42, 43, 44, 45, 46, 47, 48, 49, 50, 51, 52, 53, 54, 55, 56, 57, 58, 59, 60, 61, 62, 63, 64, 65, 66, 67, 68, 69, 70, 71, 72, 73, 74, 75, 76, 77, 78, 79, 80, 81, 82, 83, 84, 85, 86, 87, 88, 89, 90, 91, 92, 93, 94, 95, 96, 97, 98, 99, 100]\n"
     ]
    }
   ],
   "source": [
    "# Create the two lists one with a range from 1 - 100. I used 1 - 101 since this range needs to include 1 and 100 but not \n",
    "# excede 100. List 2 is currently empty. \n",
    "numbers1 = list(range(1, 101))\n",
    "numbers2 = list()\n",
    "\n",
    "# Write the code that copies the values in numbers1 to numbers 2.\n",
    "for item in numbers1:\n",
    "    numbers2.append(item)\n",
    "# When this code executes numbers1 and numbers2 will refrence two separate but identical lists. \n",
    "\n",
    "# Lastly I will print the values in numbers1 and numbers2\n",
    "print(numbers1)\n",
    "print(numbers2)"
   ]
  },
  {
   "cell_type": "markdown",
   "id": "d9d17a8a",
   "metadata": {},
   "source": [
    "When I first executed the code nothing showed. I realized I had forgotten to print the two lists so I added that code and executed it again and received the output above. "
   ]
  },
  {
   "cell_type": "markdown",
   "id": "e05f374c",
   "metadata": {},
   "source": [
    "### 7) What will the following code print?\n"
   ]
  },
  {
   "cell_type": "code",
   "execution_count": 2,
   "id": "a0bc7f44",
   "metadata": {},
   "outputs": [
    {
     "name": "stdout",
     "output_type": "stream",
     "text": [
      "[40, 50, 60, 10, 20, 30]\n"
     ]
    }
   ],
   "source": [
    "list1 = [40, 50, 60]\n",
    "list2 = [10, 20, 30]\n",
    "list3 = list1 + list2\n",
    "print(list3)"
   ]
  },
  {
   "cell_type": "markdown",
   "id": "605af28b",
   "metadata": {},
   "source": [
    "I think this code will print: \n",
    "40, 50, 60, 10, 20, 30"
   ]
  },
  {
   "cell_type": "markdown",
   "id": "6661a20c",
   "metadata": {},
   "source": [
    "I was correct! :) "
   ]
  },
  {
   "cell_type": "markdown",
   "id": "200661b5",
   "metadata": {},
   "source": [
    "## Programming Exercises 1, 2, 3, & 14"
   ]
  },
  {
   "cell_type": "markdown",
   "id": "6799cc61",
   "metadata": {},
   "source": [
    "### 1) Design a program that asks the user to enter a store's sales for each day of the week. The amounts should be stored in a list. Use a loop to calculate the total sales for the week and display the result. "
   ]
  },
  {
   "cell_type": "markdown",
   "id": "d1616d9b",
   "metadata": {},
   "source": [
    "1) Get the total sales for each day of the week\n",
    "2) Store the amounts in a list\n",
    "3) Use a loop to calculate the total sales for the week\n",
    "4) Display the total sales"
   ]
  },
  {
   "cell_type": "code",
   "execution_count": 6,
   "id": "09f5a235",
   "metadata": {},
   "outputs": [
    {
     "name": "stdout",
     "output_type": "stream",
     "text": [
      "What is the total sales for the day? 20\n",
      "Do you want to add another day of total sales? \n",
      "y = yes, anything else = no: y\n",
      "\n",
      "What is the total sales for the day? 40\n",
      "Do you want to add another day of total sales? \n",
      "y = yes, anything else = no: y\n",
      "\n",
      "What is the total sales for the day? 150\n",
      "Do you want to add another day of total sales? \n",
      "y = yes, anything else = no: y\n",
      "\n",
      "What is the total sales for the day? 170\n",
      "Do you want to add another day of total sales? \n",
      "y = yes, anything else = no: y\n",
      "\n",
      "What is the total sales for the day? 200\n",
      "Do you want to add another day of total sales? \n",
      "y = yes, anything else = no: y\n",
      "\n",
      "What is the total sales for the day? 300\n",
      "Do you want to add another day of total sales? \n",
      "y = yes, anything else = no: y\n",
      "\n",
      "What is the total sales for the day? 200\n",
      "Do you want to add another day of total sales? \n",
      "y = yes, anything else = no: n\n",
      "\n",
      "The sum is 1080.\n"
     ]
    }
   ],
   "source": [
    "def main():\n",
    "    # Create the empty list that will house the total sales for each day of the week:\n",
    "    sales_for_week = []\n",
    "\n",
    "    # Create a variable to control the loop.\n",
    "    again = 'y'\n",
    "\n",
    "    # Add the total sales to the list.\n",
    "    while again == 'y':\n",
    "        # Get the amount for the day from the user.\n",
    "        day = int(input('What is the total sales for the day? '))\n",
    "\n",
    "        # Append the sales for that day to the list.\n",
    "        sales_for_week.append(day)\n",
    "\n",
    "        # Ask if the user wants to add another day's sales\n",
    "        print('Do you want to add another day of total sales? ')\n",
    "        again = input('y = yes, anything else = no: ')\n",
    "        print()\n",
    "\n",
    "    # Calculate and print the sum of all the values\n",
    "    print(f'The sum is {sum(sales_for_week)}.')\n",
    "\n",
    "if __name__ == \"__main__\":\n",
    "    main()\n",
    "\n",
    "    \n"
   ]
  },
  {
   "cell_type": "markdown",
   "id": "3a800309",
   "metadata": {},
   "source": [
    "Received the error above and corrected the indent issue. Will try again to execute. "
   ]
  },
  {
   "cell_type": "markdown",
   "id": "c82112a1",
   "metadata": {},
   "source": [
    "### 2) Design a program that generates a seven digit lottery number. The program should generate seven random numbers, each in the range of 0 through 9, and assign each number to a list element. Then write another loop that displays the contents of the list. "
   ]
  },
  {
   "cell_type": "code",
   "execution_count": 8,
   "id": "6f9d9b96",
   "metadata": {},
   "outputs": [
    {
     "ename": "NameError",
     "evalue": "name 'random' is not defined",
     "output_type": "error",
     "traceback": [
      "\u001b[0;31m---------------------------------------------------------------------------\u001b[0m",
      "\u001b[0;31mNameError\u001b[0m                                 Traceback (most recent call last)",
      "Cell \u001b[0;32mIn[8], line 24\u001b[0m\n\u001b[1;32m     21\u001b[0m     \u001b[38;5;28mprint\u001b[39m()\n\u001b[1;32m     23\u001b[0m \u001b[38;5;66;03m# Call the main function\u001b[39;00m\n\u001b[0;32m---> 24\u001b[0m main()\n",
      "Cell \u001b[0;32mIn[8], line 15\u001b[0m, in \u001b[0;36mmain\u001b[0;34m()\u001b[0m\n\u001b[1;32m     13\u001b[0m \u001b[38;5;66;03m# Populate the list with random numbers\u001b[39;00m\n\u001b[1;32m     14\u001b[0m \u001b[38;5;28;01mfor\u001b[39;00m index \u001b[38;5;129;01min\u001b[39;00m \u001b[38;5;28mrange\u001b[39m(Max_Digits):\n\u001b[0;32m---> 15\u001b[0m     numbers[index] \u001b[38;5;241m=\u001b[39m random\u001b[38;5;241m.\u001b[39mrandint(Start, End)\n\u001b[1;32m     17\u001b[0m \u001b[38;5;66;03m# Display the random numbers \u001b[39;00m\n\u001b[1;32m     18\u001b[0m \u001b[38;5;28mprint\u001b[39m(\u001b[38;5;124m'\u001b[39m\u001b[38;5;124mHere are your lottery numbers: \u001b[39m\u001b[38;5;124m'\u001b[39m)\n",
      "\u001b[0;31mNameError\u001b[0m: name 'random' is not defined"
     ]
    }
   ],
   "source": [
    "import random\n",
    "\n",
    "# Max number of digits\n",
    "Max_Digits = 7\n",
    "# Start of random number range\n",
    "Start = 0\n",
    "# end of the random number range\n",
    "End = 9\n",
    "\n",
    "# Main function\n",
    "def main():\n",
    "    #create a list\n",
    "    numbers = [0] * 7\n",
    "    \n",
    "    # Populate the list with random numbers\n",
    "    for index in range(Max_Digits):\n",
    "        numbers[index] = random.randint(Start, End)\n",
    "    \n",
    "    # Display the random numbers \n",
    "    print('Here are your lottery numbers: ')\n",
    "    for index in range(Max_Digits):\n",
    "        print(numbers[index], end = '')\n",
    "    print()\n",
    "    \n",
    "# Call the main function\n",
    "main()\n",
    "\n",
    "# I anticipate that this program will output of 7 random numbers. "
   ]
  },
  {
   "cell_type": "markdown",
   "id": "c6c032af",
   "metadata": {},
   "source": [
    "Received the error above above since I forgot to import the random function. Corrected this and I will run the code again. "
   ]
  },
  {
   "cell_type": "code",
   "execution_count": null,
   "id": "40729db6",
   "metadata": {},
   "outputs": [],
   "source": []
  }
 ],
 "metadata": {
  "kernelspec": {
   "display_name": "Python 3 (ipykernel)",
   "language": "python",
   "name": "python3"
  },
  "language_info": {
   "codemirror_mode": {
    "name": "ipython",
    "version": 3
   },
   "file_extension": ".py",
   "mimetype": "text/x-python",
   "name": "python",
   "nbconvert_exporter": "python",
   "pygments_lexer": "ipython3",
   "version": "3.11.4"
  }
 },
 "nbformat": 4,
 "nbformat_minor": 5
}

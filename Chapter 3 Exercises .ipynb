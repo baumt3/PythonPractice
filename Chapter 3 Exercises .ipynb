{
 "cells": [
  {
   "cell_type": "markdown",
   "id": "448a0a2b",
   "metadata": {},
   "source": [
    "# Chapter 3 Exercises"
   ]
  },
  {
   "cell_type": "markdown",
   "id": "4f5bffcc",
   "metadata": {},
   "source": [
    "## Algorithm Workbench Questions 4 & 5"
   ]
  },
  {
   "cell_type": "markdown",
   "id": "4ed66972",
   "metadata": {},
   "source": [
    "### 4) Question 4 asks me to rewrite the code with the proper conventions of alignment and indentation. The code as written in the book is:\n"
   ]
  },
  {
   "cell_type": "code",
   "execution_count": 1,
   "id": "74406ec7",
   "metadata": {},
   "outputs": [
    {
     "ename": "IndentationError",
     "evalue": "expected an indented block after 'if' statement on line 1 (3110184893.py, line 2)",
     "output_type": "error",
     "traceback": [
      "\u001b[0;36m  Cell \u001b[0;32mIn[1], line 2\u001b[0;36m\u001b[0m\n\u001b[0;31m    print('Your grade is A.')\u001b[0m\n\u001b[0m    ^\u001b[0m\n\u001b[0;31mIndentationError\u001b[0m\u001b[0;31m:\u001b[0m expected an indented block after 'if' statement on line 1\n"
     ]
    }
   ],
   "source": [
    "if score >= A_score:\n",
    "print('Your grade is A.')\n",
    "else:\n",
    "if score >= B_score:\n",
    "print('Your grade is B.')\n",
    "if score >= C_score:\n",
    "print('Your grade is C.')\n",
    "if score >= D_score:\n",
    "print('Your grade is D.')\n",
    "else:\n",
    "print('Your grade is F.')\n"
   ]
  },
  {
   "cell_type": "markdown",
   "id": "052394cf",
   "metadata": {},
   "source": [
    "I would rewrite the code as follows:"
   ]
  },
  {
   "cell_type": "code",
   "execution_count": null,
   "id": "0fc47919",
   "metadata": {},
   "outputs": [],
   "source": [
    "if score >= A_score:\n",
    "    print('Your grade is A.')\n",
    "else:\n",
    "    if score >= B_score:\n",
    "        print('Your grade is B.')\n",
    "    else:\n",
    "        if score >= C_score:\n",
    "            print('Your grade is C.')\n",
    "        else:\n",
    "            if score >= D_score:\n",
    "                print('Your grade is D.')\n",
    "            else:\n",
    "                print('Your grade is F.')"
   ]
  },
  {
   "cell_type": "markdown",
   "id": "3abb6a93",
   "metadata": {},
   "source": [
    "This errored since I didn't assign values to the A_score - D_score. And didn't ask for an input value for score. "
   ]
  },
  {
   "cell_type": "markdown",
   "id": "98f80f69",
   "metadata": {},
   "source": [
    "### 5) Question 5 asks that I write a nested decision structure that performs the following: If amount1 is greater than 10 and amount2 is less than 100, display the greater amount of amount1 and amount 2. "
   ]
  },
  {
   "cell_type": "code",
   "execution_count": null,
   "id": "cdbcf047",
   "metadata": {},
   "outputs": [],
   "source": [
    "amount1 = int(input('Enter a number greater than 10: '))\n",
    "amount2 = int(input('Enter a number less than 100: '))\n",
    "max = amount1 if amount1 > amount2 else amount2\n",
    "print(f'The bigger number is {max}.')"
   ]
  },
  {
   "cell_type": "markdown",
   "id": "0f3b98ca",
   "metadata": {},
   "source": [
    "I expect that I will be asked to input a numbre greater than 10 and after pressing Enter I expect to be asked to input a number less that 100 after pressing Enter I will then receive the statement The bigger number is either amount1 or amount2 depending on my input vaues. "
   ]
  },
  {
   "cell_type": "markdown",
   "id": "96b76cbf",
   "metadata": {},
   "source": [
    "## Programming Exercises 1, 5, 15, 16"
   ]
  },
  {
   "cell_type": "markdown",
   "id": "19a0ff07",
   "metadata": {},
   "source": [
    "### 1) Question 1 asks me to write a program that asks the user for the a number in the range of 1-7. The program should then display the corresponding day of the week. The program should display an error message if the user enters a number outside the range of 1-7. \n",
    "\n",
    "Monday = 1\n",
    "Tuesday = 2\n",
    "Wednesday = 3\n",
    "Thursday = 4\n",
    "Friday = 5\n",
    "Saturday = 6\n",
    "Sunday = 7"
   ]
  },
  {
   "cell_type": "code",
   "execution_count": null,
   "id": "2e5f984f",
   "metadata": {},
   "outputs": [],
   "source": [
    "Day1 = 1\n",
    "Day2 = 2\n",
    "Day3 = 3\n",
    "Day4 = 4\n",
    "Day5 = 5\n",
    "Day6 = 6\n",
    "Day7 = 7\n",
    "\n",
    "Weekday = int(input('Please provide a number between 1 and 7: '))\n",
    "\n",
    "if Weekday == Day1:\n",
    "    print('Today is Monday.') \n",
    "else:\n",
    "    if Weekday == Day2:\n",
    "        print('Today is Tuesday.')\n",
    "    else:\n",
    "        if Weekday == Day3:\n",
    "            print('Today is Wednesday.')\n",
    "        else:\n",
    "            if Weekday == Day4:\n",
    "                print('Today is Thrusday.')\n",
    "            else:\n",
    "                if Weekday == Day5:\n",
    "                    print('Today is Friday.')\n",
    "                else:\n",
    "                    if Weekday == Day6:\n",
    "                         print('Today is Saturday.')\n",
    "                    else: \n",
    "                        if Weekday == Day7:\n",
    "                            print('Today is Sunday.')\n",
    "                        else: \n",
    "                            if Weekday < Day1 or Weekday > Day7:\n",
    "                                print('Error: Please provide a number between 1 and 7.')"
   ]
  },
  {
   "cell_type": "markdown",
   "id": "b92af0ff",
   "metadata": {},
   "source": [
    "From the code above I would expect to be asked to provide a number between 1 and 7 and as long as a number between 1 and 7 was prvided the corresponding day of the week would display. If a number outside 1 and 7 was provided the error message would display."
   ]
  },
  {
   "cell_type": "markdown",
   "id": "8209e97f",
   "metadata": {},
   "source": [
    "Received error that the days of the week are not defined changed to the numerical value. "
   ]
  },
  {
   "cell_type": "markdown",
   "id": "c6abe6a6",
   "metadata": {},
   "source": [
    "### 5) Question 5 asks me to write a program that asks the user to enter an object's mass, then calculates its weight. If the object weighs less than 100 newtons, display a message indicating that it is too light. "
   ]
  },
  {
   "cell_type": "code",
   "execution_count": null,
   "id": "4d0eec3d",
   "metadata": {},
   "outputs": [],
   "source": [
    "mass = int(input('Please provide the object mass in kilograms: '))\n",
    "weight = mass * 9.8\n",
    "if weight > 100:\n",
    "    print(f'The object weight is {weight} newtons.')\n",
    "else:\n",
    "    if weight < 100:\n",
    "        print('The object is too light.')"
   ]
  },
  {
   "cell_type": "markdown",
   "id": "d284efb5",
   "metadata": {},
   "source": [
    "I expect to asked to input the object mass and then have the program calculate the weight and if the weight is greater than 100 newtons the statement \"The object weight is \"weight\" newtons.\" and if the weight is less than 100 newtons the statement \"The object is too light\" will display. "
   ]
  },
  {
   "cell_type": "markdown",
   "id": "5c342b5b",
   "metadata": {},
   "source": [
    "### 15) Question 15 February Days asks me to write a program that asks the user to enter a year. The program should then display the number of days in February for that year. "
   ]
  },
  {
   "cell_type": "code",
   "execution_count": null,
   "id": "1753c22b",
   "metadata": {},
   "outputs": [],
   "source": [
    "# Ask for the year.\n",
    "year = int(input('What is the year? '))\n",
    "\n",
    "# Condition 1 says that the year has to be divisible by 100 and by 400 to be a leap year.\n",
    "if (year % 400 == 0) and (year % 100 == 0):\n",
    "    print('There are 29 days in February')\n",
    "\n",
    "# Condition 2 says that if the year is not divisible by 100 but is divisible by 4 than it is a leap year.\n",
    "elif (year % 4 ==0) and (year % 100 != 0):\n",
    "    print('There are 29 days in February')\n",
    "\n",
    "# However if the year does not fit into Condition 1 or 2 it is not a leap year and February has 28 days that year. \n",
    "else:\n",
    "    print('There are 28 days in February')"
   ]
  },
  {
   "cell_type": "markdown",
   "id": "7e6adbae",
   "metadata": {},
   "source": [
    "From the code above I would expect that I would have to input the year and then the program would tell me how many day there are in February that year. "
   ]
  }
 ],
 "metadata": {
  "kernelspec": {
   "display_name": "Python 3 (ipykernel)",
   "language": "python",
   "name": "python3"
  },
  "language_info": {
   "codemirror_mode": {
    "name": "ipython",
    "version": 3
   },
   "file_extension": ".py",
   "mimetype": "text/x-python",
   "name": "python",
   "nbconvert_exporter": "python",
   "pygments_lexer": "ipython3",
   "version": "3.11.4"
  }
 },
 "nbformat": 4,
 "nbformat_minor": 5
}

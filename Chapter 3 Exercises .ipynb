{
 "cells": [
  {
   "cell_type": "markdown",
   "id": "8f142ad7",
   "metadata": {},
   "source": [
    "# Chapter 3 Exercises"
   ]
  },
  {
   "cell_type": "markdown",
   "id": "395aba70",
   "metadata": {},
   "source": [
    "## Algorithm Workbench Questions 4 & 5"
   ]
  },
  {
   "cell_type": "markdown",
   "id": "81983c0b",
   "metadata": {},
   "source": [
    "### 4) Question 4 asks me to rewrite the code with the proper conventions of alignment and indentation. The code as written in the book is:\n"
   ]
  },
  {
   "cell_type": "code",
   "execution_count": null,
   "id": "485de25d",
   "metadata": {},
   "outputs": [],
   "source": [
    "if score >= A_score:\n",
    "print('Your grade is A.')\n",
    "else:\n",
    "if score >= B_score:\n",
    "print('Your grade is B.')\n",
    "if score >= C_score:\n",
    "print('Your grade is C.')\n",
    "if score >= D_score:\n",
    "print('Your grade is D.')\n",
    "else:\n",
    "print('Your grade is F.')\n"
   ]
  },
  {
   "cell_type": "markdown",
   "id": "71e32bd5",
   "metadata": {},
   "source": [
    "I would rewrite the code as follows:"
   ]
  },
  {
   "cell_type": "code",
   "execution_count": 1,
   "id": "bba16353",
   "metadata": {},
   "outputs": [
    {
     "ename": "NameError",
     "evalue": "name 'score' is not defined",
     "output_type": "error",
     "traceback": [
      "\u001b[0;31m---------------------------------------------------------------------------\u001b[0m",
      "\u001b[0;31mNameError\u001b[0m                                 Traceback (most recent call last)",
      "Cell \u001b[0;32mIn[1], line 1\u001b[0m\n\u001b[0;32m----> 1\u001b[0m \u001b[38;5;28;01mif\u001b[39;00m score \u001b[38;5;241m>\u001b[39m\u001b[38;5;241m=\u001b[39m A_score:\n\u001b[1;32m      2\u001b[0m     \u001b[38;5;28mprint\u001b[39m(\u001b[38;5;124m'\u001b[39m\u001b[38;5;124mYour grade is A.\u001b[39m\u001b[38;5;124m'\u001b[39m)\n\u001b[1;32m      3\u001b[0m \u001b[38;5;28;01melse\u001b[39;00m:\n",
      "\u001b[0;31mNameError\u001b[0m: name 'score' is not defined"
     ]
    }
   ],
   "source": [
    "if score >= A_score:\n",
    "    print('Your grade is A.')\n",
    "else:\n",
    "    if score >= B_score:\n",
    "        print('Your grade is B.')\n",
    "    else:\n",
    "        if score >= C_score:\n",
    "            print('Your grade is C.')\n",
    "        else:\n",
    "            if score >= D_score:\n",
    "                print('Your grade is D.')\n",
    "            else:\n",
    "                print('Your grade is F.')"
   ]
  },
  {
   "cell_type": "markdown",
   "id": "69640263",
   "metadata": {},
   "source": [
    "This errored since I didn't assign values to the A_score - D_score. And didn't ask for an input value for score. "
   ]
  },
  {
   "cell_type": "markdown",
   "id": "b7d1a331",
   "metadata": {},
   "source": [
    "### 5) Question 5 asks that I write a nested decision structure that performs the following: If amount1 is greater than 10 and amount2 is less than 100, display the greater amount of amount1 and amount 2. "
   ]
  },
  {
   "cell_type": "code",
   "execution_count": null,
   "id": "929cac5a",
   "metadata": {},
   "outputs": [],
   "source": [
    "amount1 = int(input('Enter a number greater than 10: '))\n",
    "amount2 = int(input('Enter a number less than 100: '))\n",
    "max = amount1 if amount1 > amount2 else amount2\n",
    "print(f'The bigger number is {max}.')"
   ]
  },
  {
   "cell_type": "markdown",
   "id": "2af93c1d",
   "metadata": {},
   "source": [
    "I expect that I will be asked to input a numbre greater than 10 and after pressing Enter I expect to be asked to input a number less that 100 after pressing Enter I will then receive the statement The bigger number is either amount1 or amount2 depending on my input vaues. "
   ]
  },
  {
   "cell_type": "code",
   "execution_count": null,
   "id": "4bb2e900",
   "metadata": {},
   "outputs": [],
   "source": []
  }
 ],
 "metadata": {
  "kernelspec": {
   "display_name": "Python 3 (ipykernel)",
   "language": "python",
   "name": "python3"
  },
  "language_info": {
   "codemirror_mode": {
    "name": "ipython",
    "version": 3
   },
   "file_extension": ".py",
   "mimetype": "text/x-python",
   "name": "python",
   "nbconvert_exporter": "python",
   "pygments_lexer": "ipython3",
   "version": "3.11.4"
  }
 },
 "nbformat": 4,
 "nbformat_minor": 5
}

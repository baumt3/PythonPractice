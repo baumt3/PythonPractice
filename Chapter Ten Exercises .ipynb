{
 "cells": [
  {
   "cell_type": "markdown",
   "id": "5587985b",
   "metadata": {},
   "source": [
    "# Chapter Ten Programming Exercises 1 & 6"
   ]
  },
  {
   "cell_type": "markdown",
   "id": "f3a373ad",
   "metadata": {},
   "source": [
    "## 1) Pet Class: Write a class named Pet. Once you have written the class, write a program that creates an object of the class and prompts the user to enter the name, type, and age of his or her pet. Use the object's accessor methods to retrieve the pet's name, type, and age and display this data on the screen."
   ]
  },
  {
   "cell_type": "markdown",
   "id": "aab1938b",
   "metadata": {},
   "source": [
    "When I first ran my code I got an error saying my Pet import wasn't working. I copied my code into Visual Studio Code and saved it and then it worked but here is my UML Diagram from my prior notebook:\n",
    "UML Diagram\n",
    " _______________________________________________\n",
    "|       Pet                                     |\n",
    "|-----------------------------------------------|\n",
    "| __Animal_Name                                 |\n",
    "| __Animal_Type                                 |\n",
    "| __Animal_Age                                  |\n",
    "|-----------------------------------------------|\n",
    "| __init__(Animal_Name, Animal_Type, Animal_Age) |  \n",
    "|set_Animal_Name(Animal_Name)                   |\n",
    "|set_Animal_Type(Animal_Type)                   |\n",
    "|set_Animal_Age(Animal_Age)                     |\n",
    "|get_Animal_Name()                              |\n",
    "|get_Animal_Type()                              |\n",
    "|get_Animal_Age()                               |\n",
    "|_______________________________________________|\n"
   ]
  },
  {
   "cell_type": "code",
   "execution_count": 3,
   "id": "310f932e",
   "metadata": {},
   "outputs": [
    {
     "name": "stdout",
     "output_type": "stream",
     "text": [
      "What is the name of your pet? Buddy\n",
      "What type of pet do you have? Dog\n",
      "How old is your pet? 4\n",
      "Information about your pet:\n",
      "Name: Buddy\n",
      "Type: Dog\n",
      "Age: 4\n"
     ]
    }
   ],
   "source": [
    "# Import the Pet class\n",
    "from Pet import Pet\n",
    "\n",
    "# Create an object of the Pet class\n",
    "def main():\n",
    "    # Ask the user to input information\n",
    "    Animal_Name = input('What is the name of your pet? ')\n",
    "    Animal_Type = input('What type of pet do you have? ')\n",
    "    Animal_Age = int(input('How old is your pet? '))  # Convert to integer\n",
    "    \n",
    "    pet_instance = Pet(Animal_Name, Animal_Type, Animal_Age)\n",
    "    \n",
    "    # Retrieve and display the pet information using the accessor methods\n",
    "    print('Information about your pet:')\n",
    "    print('Name:', pet_instance.get_Animal_Name())\n",
    "    print('Type:', pet_instance.get_Animal_Type())\n",
    "    print('Age:', pet_instance.get_Animal_Age())\n",
    "    \n",
    "if __name__ == \"__main__\":\n",
    "    main()\n",
    "\n",
    "          \n",
    "    \n",
    "    \n",
    "    \n",
    "    \n",
    "    "
   ]
  },
  {
   "cell_type": "markdown",
   "id": "861999a5",
   "metadata": {},
   "source": [
    "I received the error \"cannot access local variable 'Pet' where it is not associated witha value\" I used Chat GTP to see what I did wrong and it gave me this information: \n",
    "\n",
    "You're trying to import a module named Pet and create an object with the same name (Pet) in your code. This will lead to a naming conflict, and you'll lose access to the Pet class you're trying to import. You should use a different variable name for your Pet object to avoid this conflict.\n",
    "\n",
    "The input for Animal_Age is stored as a string. You should convert it to an integer if you want to work with it as an integer.\n",
    "\n",
    "You have indentation errors for the methods and the main function. Ensure that all methods and the main() function are at the same indentation level.\n",
    "\n",
    "I have fixed these errors. "
   ]
  },
  {
   "cell_type": "code",
   "execution_count": null,
   "id": "10d96c7b",
   "metadata": {},
   "outputs": [],
   "source": []
  }
 ],
 "metadata": {
  "kernelspec": {
   "display_name": "Python 3 (ipykernel)",
   "language": "python",
   "name": "python3"
  },
  "language_info": {
   "codemirror_mode": {
    "name": "ipython",
    "version": 3
   },
   "file_extension": ".py",
   "mimetype": "text/x-python",
   "name": "python",
   "nbconvert_exporter": "python",
   "pygments_lexer": "ipython3",
   "version": "3.11.4"
  }
 },
 "nbformat": 4,
 "nbformat_minor": 5
}

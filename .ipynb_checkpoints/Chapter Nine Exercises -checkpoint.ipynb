{
 "cells": [
  {
   "cell_type": "markdown",
   "id": "cd6ca48f",
   "metadata": {},
   "source": [
    "# Chapter Nine Exercises"
   ]
  },
  {
   "cell_type": "markdown",
   "id": "d729fe52",
   "metadata": {},
   "source": [
    "## Programming Exercise 2"
   ]
  },
  {
   "cell_type": "markdown",
   "id": "a110274f",
   "metadata": {},
   "source": [
    "### 2) Capital Quiz -  Write a program that creates a dictionary containing the U.S. states as keys, and their capitals as values. The program should then randomly quiz the user by displaying the name of a state and asking the user to enter that state's capital. The program should keep count of the number of correct and incorrect responses. "
   ]
  },
  {
   "cell_type": "markdown",
   "id": "5aa9550c",
   "metadata": {},
   "source": [
    "Hierarchy Chart:\n",
    "\n",
    "- Main Program\n",
    "  - Initialize Dictionary in a .py file that can be imported\n",
    "  - Initialize Count of Correct Responses\n",
    "  - Initialize Count of Incorrect Responses\n",
    "  - Loop (5 times)\n",
    "    - Get Random Entry\n",
    "    - Ask User for Input\n",
    "    - Check User's Response\n",
    "      - If Correct\n",
    "        - Add 1 to Correct Responses\n",
    "      - If Incorrect\n",
    "        - Add 1 to Incorrect Responses\n",
    "    - End of Loop\n",
    "  - Display Results\n",
    "\n",
    "Pseudocode:\n",
    "\n",
    "Initialize a dictionary containing the states and their capitals in a .py file that can be imported. \n",
    "Initialize a variable to count the correct responses = 0\n",
    "Initialize a variable to count the incorrect responses = 0\n",
    "Write a loop that repeats five times.\n",
    "    Get a random entry from the dictionary (State, Capital)\n",
    "    Ask the User to enter the capital for the state\n",
    "    If the User's response is correct:\n",
    "        Add 1 to the count of correct responses\n",
    "        Print a message indicating a correct response\n",
    "    Else: \n",
    "        Add 1 to the count of incorrect responses. \n",
    "        Print a message indicating an incorrect response. \n",
    "Display the results (number of correct and incorrect responses). "
   ]
  },
  {
   "cell_type": "code",
   "execution_count": null,
   "id": "9423ee7f",
   "metadata": {},
   "outputs": [
    {
     "name": "stdout",
     "output_type": "stream",
     "text": [
      "What is the capital of  Wyoming ?"
     ]
    }
   ],
   "source": [
    "# Import my .py file that contains my dictionary. \n",
    "from States_and_Capitals import States_and_Capitals\n",
    "\n",
    "# Constant for the number of states to quiz the user on.\n",
    "num_states = 5\n",
    "\n",
    "def main ():\n",
    "    # Initial variables to keep count of the number of correct and incorrect answers.\n",
    "    correct = 0\n",
    "    incorrect = 0\n",
    "    \n",
    "    # Quiz the User.\n",
    "    for count in range(num_states):\n",
    "        # Get a random entry from the dictionary.\n",
    "        state, capital = States_and_Capitals.popitem()\n",
    "        \n",
    "        # Quiz the User.\n",
    "        print ('What is the capital of ', state, '?', end='')\n",
    "        response = input()\n",
    "        \n",
    "        # Is the user correct?\n",
    "        if response.lower() == capital.lower():\n",
    "            correct += 1\n",
    "            print('Correct')\n",
    "            \n",
    "        else:\n",
    "            incorrect += 1\n",
    "            print('Incorrect')\n",
    "            \n",
    "    # Display the results.\n",
    "    print('Correct responses: ', correct)\n",
    "    print('Incorrect responses: ', incorrect)\n",
    "    \n",
    "# Call the main function. \n",
    "main()\n",
    "    "
   ]
  },
  {
   "cell_type": "markdown",
   "id": "c65a6de8",
   "metadata": {},
   "source": [
    "In my snaggit video I had an error that appeared. I looked back through my code and realized I had a typo. "
   ]
  },
  {
   "cell_type": "code",
   "execution_count": null,
   "id": "1dd04d84",
   "metadata": {},
   "outputs": [],
   "source": []
  }
 ],
 "metadata": {
  "kernelspec": {
   "display_name": "Python 3 (ipykernel)",
   "language": "python",
   "name": "python3"
  },
  "language_info": {
   "codemirror_mode": {
    "name": "ipython",
    "version": 3
   },
   "file_extension": ".py",
   "mimetype": "text/x-python",
   "name": "python",
   "nbconvert_exporter": "python",
   "pygments_lexer": "ipython3",
   "version": "3.11.4"
  }
 },
 "nbformat": 4,
 "nbformat_minor": 5
}

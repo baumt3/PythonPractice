{
 "cells": [
  {
   "cell_type": "markdown",
   "id": "67982b27",
   "metadata": {},
   "source": [
    "# Chapter Six Exercises "
   ]
  },
  {
   "cell_type": "markdown",
   "id": "dcfa3aec",
   "metadata": {},
   "source": [
    "## Alogorithm Workbench 9 & 10"
   ]
  },
  {
   "cell_type": "markdown",
   "id": "773ed888",
   "metadata": {},
   "source": [
    "### 9) What will the following code display?\n"
   ]
  },
  {
   "cell_type": "code",
   "execution_count": 1,
   "id": "b9dda9b6",
   "metadata": {},
   "outputs": [
    {
     "name": "stdout",
     "output_type": "stream",
     "text": [
      "This code caused a ValueError.\n",
      "The end.\n"
     ]
    }
   ],
   "source": [
    "try:\n",
    "    x = float('abc123')\n",
    "    print('The conversion is complete.')\n",
    "except IOError:\n",
    "    print('This code caused an IOError')\n",
    "except ValueError:\n",
    "    print('This code caused a ValueError.')\n",
    "print('The end.')"
   ]
  },
  {
   "cell_type": "markdown",
   "id": "fb131ff6",
   "metadata": {},
   "source": [
    "The code above is a try/except statement.\n",
    "I believe the variable x = float('abc123') will cause an error due to the string having letters instead of just numbers and trying to convert it to a float. \n",
    "So when the statement executes and cannot convert the string to a float number, the program will jump to the exception ValueError and print: This code caused a ValueError. Then continue to prit('The end.'). I will now run the statement and see what happens. "
   ]
  },
  {
   "cell_type": "markdown",
   "id": "73893c8c",
   "metadata": {},
   "source": [
    "After running the code I see that I was correct in my thinking! :)"
   ]
  },
  {
   "cell_type": "markdown",
   "id": "2c616551",
   "metadata": {},
   "source": [
    "### 10) What will the following code display?"
   ]
  },
  {
   "cell_type": "code",
   "execution_count": null,
   "id": "5b6882aa",
   "metadata": {},
   "outputs": [],
   "source": [
    "try:\n",
    "    x = float('abc123')\n",
    "    print(x)\n",
    "except IOError:\n",
    "    print('This code caused and IOError.')\n",
    "except ZeroDivisionError:\n",
    "    print('This code caused a ZeroDivisionError.')\n",
    "except:\n",
    "    print('An error happened.')\n",
    "print('The end.')"
   ]
  },
  {
   "cell_type": "markdown",
   "id": "5a672a91",
   "metadata": {},
   "source": [
    "The code above is another try/except statement. The statement will try and do the same thing as above with the x variable. But since the string contains letters and not just numbers an error will occur. Since it is not an IOError or a ZeroDivisionError, the program will skip over these two exceptions and jump to the exception without a description. I believe the program will then print: An error happened. Then continue down to print: The end. I will now run the program and see if I am correct. "
   ]
  },
  {
   "cell_type": "code",
   "execution_count": null,
   "id": "f93a461d",
   "metadata": {},
   "outputs": [],
   "source": []
  }
 ],
 "metadata": {
  "kernelspec": {
   "display_name": "Python 3 (ipykernel)",
   "language": "python",
   "name": "python3"
  },
  "language_info": {
   "codemirror_mode": {
    "name": "ipython",
    "version": 3
   },
   "file_extension": ".py",
   "mimetype": "text/x-python",
   "name": "python",
   "nbconvert_exporter": "python",
   "pygments_lexer": "ipython3",
   "version": "3.11.4"
  }
 },
 "nbformat": 4,
 "nbformat_minor": 5
}

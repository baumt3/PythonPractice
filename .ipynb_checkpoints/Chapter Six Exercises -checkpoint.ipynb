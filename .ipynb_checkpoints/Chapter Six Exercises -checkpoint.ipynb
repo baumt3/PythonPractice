{
 "cells": [
  {
   "cell_type": "markdown",
   "id": "eb0c6eef",
   "metadata": {},
   "source": [
    "# Chapter Six Exercises "
   ]
  },
  {
   "cell_type": "markdown",
   "id": "ad60b8b3",
   "metadata": {},
   "source": [
    "## Alogorithm Workbench 9 & 10"
   ]
  },
  {
   "cell_type": "markdown",
   "id": "a5ff9278",
   "metadata": {},
   "source": [
    "### 9) What will the following code display?\n"
   ]
  },
  {
   "cell_type": "code",
   "execution_count": 1,
   "id": "8ec45709",
   "metadata": {},
   "outputs": [
    {
     "name": "stdout",
     "output_type": "stream",
     "text": [
      "This code caused a ValueError.\n",
      "The end.\n"
     ]
    }
   ],
   "source": [
    "try:\n",
    "    x = float('abc123')\n",
    "    print('The conversion is complete.')\n",
    "except IOError:\n",
    "    print('This code caused an IOError')\n",
    "except ValueError:\n",
    "    print('This code caused a ValueError.')\n",
    "print('The end.')"
   ]
  },
  {
   "cell_type": "markdown",
   "id": "690e5540",
   "metadata": {},
   "source": [
    "The code above is a try/except statement.\n",
    "I believe the variable x = float('abc123') will cause an error due to the string having letters instead of just numbers and trying to convert it to a float. \n",
    "So when the statement executes and cannot convert the string to a float number, the program will jump to the exception ValueError and print: This code caused a ValueError. Then continue to prit('The end.'). I will now run the statement and see what happens. "
   ]
  },
  {
   "cell_type": "code",
   "execution_count": null,
   "id": "beb65a45",
   "metadata": {},
   "outputs": [],
   "source": []
  }
 ],
 "metadata": {
  "kernelspec": {
   "display_name": "Python 3 (ipykernel)",
   "language": "python",
   "name": "python3"
  },
  "language_info": {
   "codemirror_mode": {
    "name": "ipython",
    "version": 3
   },
   "file_extension": ".py",
   "mimetype": "text/x-python",
   "name": "python",
   "nbconvert_exporter": "python",
   "pygments_lexer": "ipython3",
   "version": "3.11.4"
  }
 },
 "nbformat": 4,
 "nbformat_minor": 5
}

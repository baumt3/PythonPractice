{
 "cells": [
  {
   "cell_type": "markdown",
   "id": "157cf551",
   "metadata": {},
   "source": [
    "# Chapter Six Exercises "
   ]
  },
  {
   "cell_type": "markdown",
   "id": "46efa5fb",
   "metadata": {},
   "source": [
    "## Alogorithm Workbench 9 & 10"
   ]
  },
  {
   "cell_type": "markdown",
   "id": "60417a96",
   "metadata": {},
   "source": [
    "### 9) What will the following code display?\n"
   ]
  },
  {
   "cell_type": "code",
   "execution_count": 1,
   "id": "5ea06093",
   "metadata": {},
   "outputs": [
    {
     "name": "stdout",
     "output_type": "stream",
     "text": [
      "This code caused a ValueError.\n",
      "The end.\n"
     ]
    }
   ],
   "source": [
    "try:\n",
    "    x = float('abc123')\n",
    "    print('The conversion is complete.')\n",
    "except IOError:\n",
    "    print('This code caused an IOError')\n",
    "except ValueError:\n",
    "    print('This code caused a ValueError.')\n",
    "print('The end.')"
   ]
  },
  {
   "cell_type": "markdown",
   "id": "4617acb1",
   "metadata": {},
   "source": [
    "The code above is a try/except statement.\n",
    "I believe the variable x = float('abc123') will cause an error due to the string having letters instead of just numbers and trying to convert it to a float. \n",
    "So when the statement executes and cannot convert the string to a float number, the program will jump to the exception ValueError and print: This code caused a ValueError. Then continue to prit('The end.'). I will now run the statement and see what happens. "
   ]
  },
  {
   "cell_type": "markdown",
   "id": "8a435a3f",
   "metadata": {},
   "source": [
    "After running the code I see that I was correct in my thinking! :)"
   ]
  },
  {
   "cell_type": "markdown",
   "id": "2c7298d9",
   "metadata": {},
   "source": [
    "### 10) What will the following code display?"
   ]
  },
  {
   "cell_type": "code",
   "execution_count": 2,
   "id": "06b0005c",
   "metadata": {},
   "outputs": [
    {
     "name": "stdout",
     "output_type": "stream",
     "text": [
      "An error happened.\n",
      "The end.\n"
     ]
    }
   ],
   "source": [
    "try:\n",
    "    x = float('abc123')\n",
    "    print(x)\n",
    "except IOError:\n",
    "    print('This code caused and IOError.')\n",
    "except ZeroDivisionError:\n",
    "    print('This code caused a ZeroDivisionError.')\n",
    "except:\n",
    "    print('An error happened.')\n",
    "print('The end.')"
   ]
  },
  {
   "cell_type": "markdown",
   "id": "cd3da706",
   "metadata": {},
   "source": [
    "The code above is another try/except statement. The statement will try and do the same thing as above with the x variable. But since the string contains letters and not just numbers an error will occur. Since it is not an IOError or a ZeroDivisionError, the program will skip over these two exceptions and jump to the exception without a description. I believe the program will then print: An error happened. Then continue down to print: The end. I will now run the program and see if I am correct. "
   ]
  },
  {
   "cell_type": "markdown",
   "id": "793d8aab",
   "metadata": {},
   "source": [
    "After running the code I see that I was correct in my thinking! :) "
   ]
  },
  {
   "cell_type": "markdown",
   "id": "e2d103b5",
   "metadata": {},
   "source": [
    "## Programming Exercises: 1, 5, 6, & 9"
   ]
  },
  {
   "cell_type": "markdown",
   "id": "87bce44a",
   "metadata": {},
   "source": [
    "### 1) Assume a file containing a series of integers is named numbers.txt and esists on the computer's disk. Write a program that displays all of the numbers in the file."
   ]
  },
  {
   "cell_type": "markdown",
   "id": "1ebc2202",
   "metadata": {},
   "source": [
    "First I am going to create the file numbers.txt and save it in the same folder as my program.\n",
    "\n",
    "Then I will write out the pseudocode:\n",
    "\n",
    "1) Open the file\n",
    "2) For each line in the file:\n",
    "    Read the line and display it\n",
    "3) Close the file\n",
    "\n",
    "Then I will write out the program:"
   ]
  },
  {
   "cell_type": "code",
   "execution_count": 3,
   "id": "b3618a9e",
   "metadata": {},
   "outputs": [
    {
     "name": "stdout",
     "output_type": "stream",
     "text": [
      "2\n",
      "4\n",
      "56\n",
      "76\n",
      "54\n",
      "6\n",
      "2\n",
      "3\n",
      "34\n",
      "90\n",
      "76\n",
      "46\n",
      "37\n",
      "58\n",
      "28\n",
      "48\n",
      "3\n",
      "2\n",
      "7\n",
      "90\n"
     ]
    }
   ],
   "source": [
    "# Open the file\n",
    "myfile = open('numbers.txt', 'r')\n",
    "\n",
    "# Read and display the file's contents.\n",
    "for line in myfile:\n",
    "    # Convert the data in the file to an integer:\n",
    "    number = int(line)\n",
    "    print(number)\n",
    "# Close the file\n",
    "myfile.close()"
   ]
  },
  {
   "cell_type": "markdown",
   "id": "3b2ccf2b",
   "metadata": {},
   "source": [
    "I expect this program to open the file numbers.txt, read each line and covert it to an integer, print the number in each line and then close the file. I will now run the program. "
   ]
  },
  {
   "cell_type": "markdown",
   "id": "13484338",
   "metadata": {},
   "source": [
    "### 5) Sum of numbers: Assume a file containing a series of integers is name numbers.txt and exists on the computer's disk. Write a program that reads all of the numbers stored in the file and calculates their total."
   ]
  },
  {
   "cell_type": "markdown",
   "id": "3ed568b1",
   "metadata": {},
   "source": [
    "I will use the same document and base code from above.\n",
    "\n",
    "I will write out the pseudocode:\n",
    "\n",
    "1) Open the file\n",
    "2) For each line in the file: \n",
    "    Read the line and display it\n",
    "    Covert data in the file to an integer.\n",
    "    Add all lines together to get the total\n",
    "3) Close the file\n",
    "\n",
    "Then I will write out the program:\n",
    "I wasn't sure how to write the code that would add each line together so I used ChatGTP and got the code below. I learned that you first have to initaialize a variable to store the total at 0. Then you open and read the document. Next you separate the numerical data from all other data. Next you convert the token to an integer and write total += number to add each line together to get the sum. Lastly write an exception that handles non-numerical data, and since a with statement was used the document is automatically closed. After all that write a statement to print the total. "
   ]
  },
  {
   "cell_type": "code",
   "execution_count": 4,
   "id": "755db6e9",
   "metadata": {},
   "outputs": [
    {
     "name": "stdout",
     "output_type": "stream",
     "text": [
      "The total is: 722\n"
     ]
    }
   ],
   "source": [
    "# Initialize a variable to store the total\n",
    "total = 0\n",
    "\n",
    "# Open and read the text document\n",
    "with open('numbers.txt', 'r') as file:\n",
    "    # Read lines from the file\n",
    "    lines = file.readlines()\n",
    "\n",
    "    # Iterate through lines\n",
    "    for line in lines:\n",
    "        # Split the line into tokens based on spaces or commas\n",
    "        tokens = line.split()\n",
    "\n",
    "        # Iterate through tokens\n",
    "        for token in tokens:\n",
    "            try:\n",
    "                # Try to convert the token to a integer and add to the total\n",
    "                number = int(token)\n",
    "                total += number\n",
    "            except ValueError:\n",
    "                # Handle non-numeric tokens (e.g., words or symbols)\n",
    "                pass\n",
    "\n",
    "# Print the total\n",
    "print(\"The total is:\", total)\n"
   ]
  },
  {
   "cell_type": "markdown",
   "id": "8b448969",
   "metadata": {},
   "source": [
    "### 6) Average of Numbers: Write a program that calculates the average of all the numbers stored in the file. "
   ]
  },
  {
   "cell_type": "markdown",
   "id": "707cdcd1",
   "metadata": {},
   "source": [
    "I will use the code from above and add the formula for dividing the total by the number of lines to get the average. "
   ]
  },
  {
   "cell_type": "code",
   "execution_count": 5,
   "id": "de471b2e",
   "metadata": {},
   "outputs": [
    {
     "name": "stdout",
     "output_type": "stream",
     "text": [
      "The total is: 722\n"
     ]
    }
   ],
   "source": [
    "# Initialize a variable to store the total\n",
    "total = 0\n",
    "\n",
    "# Open and read the text document\n",
    "with open('numbers.txt', 'r') as file:\n",
    "    # Read lines from the file\n",
    "    lines = file.readlines()\n",
    "\n",
    "    # Iterate through lines\n",
    "    for line in lines:\n",
    "        # Split the line into tokens based on spaces or commas\n",
    "        tokens = line.split()\n",
    "\n",
    "        # Iterate through tokens\n",
    "        for token in tokens:\n",
    "            try:\n",
    "                # Try to convert the token to a integer and add to the total\n",
    "                number = int(token)\n",
    "                total += number\n",
    "                total / number\n",
    "            except ValueError:\n",
    "                # Handle non-numeric tokens (e.g., words or symbols)\n",
    "                pass\n",
    "\n",
    "# Print the total\n",
    "print(\"The average is:\", total)"
   ]
  },
  {
   "cell_type": "markdown",
   "id": "da426d8f",
   "metadata": {},
   "source": [
    "My thinking is I would take the total and / by number. I am going to try this and see what happens. "
   ]
  },
  {
   "cell_type": "markdown",
   "id": "54ae1206",
   "metadata": {},
   "source": [
    "This only provided me with the total again. I am going to use ChatGTP to learn how to do this. "
   ]
  },
  {
   "cell_type": "markdown",
   "id": "a5f6e30b",
   "metadata": {},
   "source": [
    "When I asked Chat GTP I learned that I need to keep track of the count while processing the file. To do this I  need to modify the code like below:"
   ]
  },
  {
   "cell_type": "code",
   "execution_count": 6,
   "id": "56be65bf",
   "metadata": {},
   "outputs": [
    {
     "name": "stdout",
     "output_type": "stream",
     "text": [
      "Total: 722.0\n",
      "Average: 36.1\n"
     ]
    }
   ],
   "source": [
    "# Initialize variables to store the total and count\n",
    "total = 0\n",
    "count = 0\n",
    "\n",
    "# Open and read the text document\n",
    "with open('numbers.txt', 'r') as file:\n",
    "    # Read lines from the file\n",
    "    lines = file.readlines()\n",
    "\n",
    "    # Iterate through lines\n",
    "    for line in lines:\n",
    "        # Split the line into tokens based on spaces or commas\n",
    "        tokens = line.split()\n",
    "\n",
    "        # Iterate through tokens\n",
    "        for token in tokens:\n",
    "            try:\n",
    "                # Try to convert the token to a float\n",
    "                number = float(token)\n",
    "                total += number\n",
    "                count += 1\n",
    "            except ValueError:\n",
    "                # Handle non-numeric tokens (e.g., words or symbols)\n",
    "                pass\n",
    "\n",
    "# Calculate the average\n",
    "if count > 0:\n",
    "    average = total / count\n",
    "else:\n",
    "    average = 0  # To handle the case when no numbers are found\n",
    "\n",
    "# Print the total and average\n",
    "print(\"Total:\", total)\n",
    "print(\"Average:\", average)\n"
   ]
  },
  {
   "cell_type": "markdown",
   "id": "463544c3",
   "metadata": {},
   "source": [
    "In this modified code, a count variable is used to keep track of the number of valid numeric values encountered while processing the file. After processing the file, the average is calculated by dividing the total by the count. The if count > 0 check is included to handle the case when there are no numbers in the file to prevent division by zero."
   ]
  },
  {
   "cell_type": "code",
   "execution_count": null,
   "id": "b63545a7",
   "metadata": {},
   "outputs": [],
   "source": []
  }
 ],
 "metadata": {
  "kernelspec": {
   "display_name": "Python 3 (ipykernel)",
   "language": "python",
   "name": "python3"
  },
  "language_info": {
   "codemirror_mode": {
    "name": "ipython",
    "version": 3
   },
   "file_extension": ".py",
   "mimetype": "text/x-python",
   "name": "python",
   "nbconvert_exporter": "python",
   "pygments_lexer": "ipython3",
   "version": "3.11.4"
  }
 },
 "nbformat": 4,
 "nbformat_minor": 5
}

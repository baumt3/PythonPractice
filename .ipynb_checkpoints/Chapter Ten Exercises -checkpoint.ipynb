{
 "cells": [
  {
   "cell_type": "markdown",
   "id": "434ab4a8",
   "metadata": {},
   "source": [
    "# Chapter Ten Programming Exercises 1 & 6"
   ]
  },
  {
   "cell_type": "markdown",
   "id": "8fbe80de",
   "metadata": {},
   "source": [
    "## 1) Pet Class: Write a class named Pet. Once you have written the class, write a program that creates an object of the class and prompts the user to enter the name, type, and age of his or her pet. Use the object's accessor methods to retrieve the pet's name, type, and age and display this data on the screen."
   ]
  },
  {
   "cell_type": "markdown",
   "id": "a81f1d82",
   "metadata": {},
   "source": [
    "When I first ran my code I got an error saying my Pet import wasn't working. I copied my code into Visual Studio Code and saved it and then it worked but here is my UML Diagram from my prior notebook:\n",
    "UML Diagram\n",
    " _______________________________________________\n",
    "|       Pet                                     |\n",
    "|-----------------------------------------------|\n",
    "| __Animal_Name                                 |\n",
    "| __Animal_Type                                 |\n",
    "| __Animal_Age                                  |\n",
    "|-----------------------------------------------|\n",
    "| __init__(Animal_Name, Animal_Type, Animal_Age) |  \n",
    "|set_Animal_Name(Animal_Name)                   |\n",
    "|set_Animal_Type(Animal_Type)                   |\n",
    "|set_Animal_Age(Animal_Age)                     |\n",
    "|get_Animal_Name()                              |\n",
    "|get_Animal_Type()                              |\n",
    "|get_Animal_Age()                               |\n",
    "|_______________________________________________|\n"
   ]
  },
  {
   "cell_type": "code",
   "execution_count": 3,
   "id": "69f29029",
   "metadata": {},
   "outputs": [
    {
     "name": "stdout",
     "output_type": "stream",
     "text": [
      "What is the name of your pet? Buddy\n",
      "What type of pet do you have? Dog\n",
      "How old is your pet? 4\n",
      "Information about your pet:\n",
      "Name: Buddy\n",
      "Type: Dog\n",
      "Age: 4\n"
     ]
    }
   ],
   "source": [
    "# Import the Pet class\n",
    "from Pet import Pet\n",
    "\n",
    "# Create an object of the Pet class\n",
    "def main():\n",
    "    # Ask the user to input information\n",
    "    Animal_Name = input('What is the name of your pet? ')\n",
    "    Animal_Type = input('What type of pet do you have? ')\n",
    "    Animal_Age = int(input('How old is your pet? '))  # Convert to integer\n",
    "    \n",
    "    pet_instance = Pet(Animal_Name, Animal_Type, Animal_Age)\n",
    "    \n",
    "    # Retrieve and display the pet information using the accessor methods\n",
    "    print('Information about your pet:')\n",
    "    print('Name:', pet_instance.get_Animal_Name())\n",
    "    print('Type:', pet_instance.get_Animal_Type())\n",
    "    print('Age:', pet_instance.get_Animal_Age())\n",
    "    \n",
    "if __name__ == \"__main__\":\n",
    "    main()\n",
    "\n",
    "          \n",
    "    \n",
    "    \n",
    "    \n",
    "    \n",
    "    "
   ]
  },
  {
   "cell_type": "markdown",
   "id": "c5c289b1",
   "metadata": {},
   "source": [
    "I received the error \"cannot access local variable 'Pet' where it is not associated witha value\" I used Chat GTP to see what I did wrong and it gave me this information: \n",
    "\n",
    "You're trying to import a module named Pet and create an object with the same name (Pet) in your code. This will lead to a naming conflict, and you'll lose access to the Pet class you're trying to import. You should use a different variable name for your Pet object to avoid this conflict.\n",
    "\n",
    "The input for Animal_Age is stored as a string. You should convert it to an integer if you want to work with it as an integer.\n",
    "\n",
    "You have indentation errors for the methods and the main function. Ensure that all methods and the main() function are at the same indentation level.\n",
    "\n",
    "I have fixed these errors. "
   ]
  },
  {
   "cell_type": "markdown",
   "id": "f5df2769",
   "metadata": {},
   "source": [
    "## 6) Write a class named Patient and a class named Procedure. Write a program that creates an instance of the Patient class, initialized with sample data. Then, create 3 instances of the Procedure class, initialized with the provided data. The program should display the patient's informaton, information about all 3 procedures, and the total charges of the 3 procedures. "
   ]
  },
  {
   "cell_type": "markdown",
   "id": "92d1eae2",
   "metadata": {},
   "source": [
    "UML Diagram\n",
    " _______________________________________________\n",
    "|       Patient                                 |\n",
    "|-----------------------------------------------|\n",
    "| full_name                                     |\n",
    "| address                                       |\n",
    "| phone_number                                  |\n",
    "| emergency_contact                             |\n",
    "|-----------------------------------------------|\n",
    "| __init__(full_name, address, phone_number, emergency_contact) |  \n",
    "|self.full_name                                 |\n",
    "|self.address                                   |\n",
    "|self.phone_number                              |\n",
    "|self.emergency_contact                         |\n",
    "|_______________________________________________|\n",
    "\n",
    "\n",
    "UML Diagram\n",
    " _______________________________________________\n",
    "|       Procedure                               |\n",
    "|-----------------------------------------------|\n",
    "| name                                          |\n",
    "| date                                          |\n",
    "| practitioner                                  |\n",
    "| cost                                          |                            \n",
    "|-----------------------------------------------|\n",
    "| __init__(name, date, practitioner, cost)      |  \n",
    "|self.name = name                               |\n",
    "|self.date = date                               |\n",
    "|self.practitioner = practitioner               |\n",
    "|self.cost = cost                               |\n",
    "|_______________________________________________|\n"
   ]
  },
  {
   "cell_type": "code",
   "execution_count": 19,
   "id": "126351c2",
   "metadata": {},
   "outputs": [
    {
     "ename": "UnboundLocalError",
     "evalue": "cannot access local variable 'Patient' where it is not associated with a value",
     "output_type": "error",
     "traceback": [
      "\u001b[0;31m---------------------------------------------------------------------------\u001b[0m",
      "\u001b[0;31mUnboundLocalError\u001b[0m                         Traceback (most recent call last)",
      "Cell \u001b[0;32mIn[19], line 30\u001b[0m\n\u001b[1;32m     27\u001b[0m     \u001b[38;5;28mprint\u001b[39m(\u001b[38;5;124m'\u001b[39m\u001b[38;5;124mThe total cost of all the procedures is:\u001b[39m\u001b[38;5;124m'\u001b[39m, total_procedures)\n\u001b[1;32m     29\u001b[0m \u001b[38;5;28;01mif\u001b[39;00m \u001b[38;5;18m__name__\u001b[39m \u001b[38;5;241m==\u001b[39m \u001b[38;5;124m\"\u001b[39m\u001b[38;5;124m__main__\u001b[39m\u001b[38;5;124m\"\u001b[39m:\n\u001b[0;32m---> 30\u001b[0m     main()\n",
      "Cell \u001b[0;32mIn[19], line 8\u001b[0m, in \u001b[0;36mmain\u001b[0;34m()\u001b[0m\n\u001b[1;32m      6\u001b[0m \u001b[38;5;28;01mdef\u001b[39;00m \u001b[38;5;21mmain\u001b[39m():\n\u001b[1;32m      7\u001b[0m     \u001b[38;5;66;03m# Create a patient instance with sample data\u001b[39;00m\n\u001b[0;32m----> 8\u001b[0m     Patient \u001b[38;5;241m=\u001b[39m Patient(\u001b[38;5;124m'\u001b[39m\u001b[38;5;124mTest La Test\u001b[39m\u001b[38;5;124m'\u001b[39m, \u001b[38;5;124m'\u001b[39m\u001b[38;5;124m123 W Main St. Lansing MI 48917\u001b[39m\u001b[38;5;124m'\u001b[39m, \u001b[38;5;124m'\u001b[39m\u001b[38;5;124m123-456-7893\u001b[39m\u001b[38;5;124m'\u001b[39m, \u001b[38;5;124m'\u001b[39m\u001b[38;5;124mTest Test 231-343-2232\u001b[39m\u001b[38;5;124m'\u001b[39m)\n\u001b[1;32m     10\u001b[0m     \u001b[38;5;66;03m# Display patient information\u001b[39;00m\n\u001b[1;32m     11\u001b[0m     patient\u001b[38;5;241m.\u001b[39mdisplay_info()\n",
      "\u001b[0;31mUnboundLocalError\u001b[0m: cannot access local variable 'Patient' where it is not associated with a value"
     ]
    }
   ],
   "source": [
    "# Import the classes\n",
    "from Patient import Patient\n",
    "from Procedure import Procedure\n",
    "\n",
    "# Create a main function\n",
    "def main():\n",
    "    # Create a patient instance with sample data\n",
    "    Patient_instance = Patient('Test La Test', '123 W Main St. Lansing MI 48917', '123-456-7893', 'Test Test 231-343-2232')\n",
    "    \n",
    "    # Display patient information\n",
    "    Patient_instance.display_info()\n",
    "    \n",
    "    # Create the Procedure instances\n",
    "    procedure1 = Procedure('Physical Exam', '11-06-23', 'Dr. Irvine', 250)\n",
    "    procedure2 = Procedure('X-Ray', '11-06-23', 'Dr. Jamison', 500)\n",
    "    procedure3 = Procedure('Blood Test', '11-06-23', 'Dr. Smith', 200)\n",
    "    \n",
    "    # Display the procedure information \n",
    "    procedure1.display_info()\n",
    "    procedure2.display_info()\n",
    "    procedure3.display_info()\n",
    "    \n",
    "    # Calculate the total charges of the procedures\n",
    "    total_procedures = procedure1.get_cost() + procedure2.get_cost() + procedure3.get_cost()\n",
    "    \n",
    "    # Print the total\n",
    "    print('The total cost of all the procedures is:', total_procedures)\n",
    "    \n",
    "if __name__ == \"__main__\":\n",
    "    main()\n",
    "\n",
    "    "
   ]
  },
  {
   "cell_type": "markdown",
   "id": "5da62558",
   "metadata": {},
   "source": [
    "I received the error cannot access local variable 'Patient' where it is not associated with a value. I used Chat GTP to see what I did wrong and I learned this: \n",
    "\n",
    "When importing modules, you should not include the \".py\" extension in the module names. Therefore, you should import the classes without the \".py\" extension.\n",
    "\n",
    "In your main function, you should use the class names to create instances, not the module names. For example, use Patient() to create a Patient instance, not Patient.Patient().\n",
    "\n",
    "There are some typographical errors such as display_infor() instead of display_info(), and dispaly_info() instead of display_info().\n",
    "\n",
    "The data passed as arguments when creating instances should be separate and passed as individual arguments to the constructor, not as a single string.\n",
    "\n",
    "I have fixed my code"
   ]
  },
  {
   "cell_type": "markdown",
   "id": "14eadf7c",
   "metadata": {},
   "source": [
    "Received another error of cannot access local variable 'Patient' where it is not associated with a value and ths is because my instance has the same name as my class I am importing. \n",
    "I have fixed this now. "
   ]
  },
  {
   "cell_type": "code",
   "execution_count": null,
   "id": "7fd478b4",
   "metadata": {},
   "outputs": [],
   "source": []
  }
 ],
 "metadata": {
  "kernelspec": {
   "display_name": "Python 3 (ipykernel)",
   "language": "python",
   "name": "python3"
  },
  "language_info": {
   "codemirror_mode": {
    "name": "ipython",
    "version": 3
   },
   "file_extension": ".py",
   "mimetype": "text/x-python",
   "name": "python",
   "nbconvert_exporter": "python",
   "pygments_lexer": "ipython3",
   "version": "3.11.4"
  }
 },
 "nbformat": 4,
 "nbformat_minor": 5
}

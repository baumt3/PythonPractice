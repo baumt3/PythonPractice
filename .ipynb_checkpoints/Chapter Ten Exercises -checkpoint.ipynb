{
 "cells": [
  {
   "cell_type": "markdown",
   "id": "3ed31242",
   "metadata": {},
   "source": [
    "# Chapter Ten Programming Exercises 1 & 6"
   ]
  },
  {
   "cell_type": "markdown",
   "id": "57e25c22",
   "metadata": {},
   "source": [
    "## 1) Pet Class: Write a class named Pet. Once you have written the class, write a program that creates an object of the class and prompts the user to enter the name, type, and age of his or her pet. Use the object's accessor methods to retrieve the pet's name, type, and age and display this data on the screen."
   ]
  },
  {
   "cell_type": "code",
   "execution_count": null,
   "id": "74f91a5e",
   "metadata": {},
   "outputs": [],
   "source": [
    "# Import the my Pet class\n",
    "import Pet\n",
    "\n",
    "# Create an object of the Pet class\n",
    "def main():\n",
    "    # Ask the user to input information\n",
    "    Animal_Name = input('What is the name of your pet? ')\n",
    "    Animal_Type = input('What type of pet do you have? ')\n",
    "    Animal_Age = input('How old is your pet? ')\n",
    "    \n",
    "    Pet = Pet(Animal_Name, Animal_Type, Animal_Age)\n",
    "    \n",
    "    # Retrieve and display the pet information using the accessor method\n",
    "    print('Information about your pet: ')\n",
    "    print('Name: ', Pet.get_Animal_Name())\n",
    "    print('Type: ', Pet.get_Animal_Type())\n",
    "    print('Age: ', Pet.get_Animal_Age())\n",
    "    \n",
    "main()\n",
    "          \n",
    "    \n",
    "    \n",
    "    \n",
    "    \n",
    "    "
   ]
  }
 ],
 "metadata": {
  "kernelspec": {
   "display_name": "Python 3 (ipykernel)",
   "language": "python",
   "name": "python3"
  },
  "language_info": {
   "codemirror_mode": {
    "name": "ipython",
    "version": 3
   },
   "file_extension": ".py",
   "mimetype": "text/x-python",
   "name": "python",
   "nbconvert_exporter": "python",
   "pygments_lexer": "ipython3",
   "version": "3.11.4"
  }
 },
 "nbformat": 4,
 "nbformat_minor": 5
}

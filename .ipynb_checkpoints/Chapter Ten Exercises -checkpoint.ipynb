{
 "cells": [
  {
   "cell_type": "markdown",
   "id": "280efee2",
   "metadata": {},
   "source": [
    "# Chapter Ten Programming Exercises 1 & 6"
   ]
  },
  {
   "cell_type": "markdown",
   "id": "9ab93698",
   "metadata": {},
   "source": [
    "## 1) Pet Class: Write a class named Pet. Once you have written the class, write a program that creates an object of the class and prompts the user to enter the name, type, and age of his or her pet. Use the object's accessor methods to retrieve the pet's name, type, and age and display this data on the screen."
   ]
  },
  {
   "cell_type": "markdown",
   "id": "cb7b6a64",
   "metadata": {},
   "source": [
    "When I first ran my code I got an error saying my Pet import wasn't working. I copied my code into Visual Studio Code and saved it and then it worked but here is my UML Diagram from my prior notebook:\n",
    "UML Diagram\n",
    " _______________________________________________\n",
    "|       Pet                                     |\n",
    "|-----------------------------------------------|\n",
    "| __Animal_Name                                 |\n",
    "| __Animal_Type                                 |\n",
    "| __Animal_Age                                  |\n",
    "|-----------------------------------------------|\n",
    "| __init__(Animal_Name, Animal_Type, Animal_Age) |  \n",
    "|set_Animal_Name(Animal_Name)                   |\n",
    "|set_Animal_Type(Animal_Type)                   |\n",
    "|set_Animal_Age(Animal_Age)                     |\n",
    "|get_Animal_Name()                              |\n",
    "|get_Animal_Type()                              |\n",
    "|get_Animal_Age()                               |\n",
    "|_______________________________________________|\n"
   ]
  },
  {
   "cell_type": "code",
   "execution_count": 2,
   "id": "4acf49f3",
   "metadata": {},
   "outputs": [
    {
     "name": "stdout",
     "output_type": "stream",
     "text": [
      "What is the name of your pet? Buddy\n",
      "What type of pet do you have? Dog\n",
      "How old is your pet? 4\n"
     ]
    },
    {
     "ename": "UnboundLocalError",
     "evalue": "cannot access local variable 'Pet' where it is not associated with a value",
     "output_type": "error",
     "traceback": [
      "\u001b[0;31m---------------------------------------------------------------------------\u001b[0m",
      "\u001b[0;31mUnboundLocalError\u001b[0m                         Traceback (most recent call last)",
      "Cell \u001b[0;32mIn[2], line 19\u001b[0m\n\u001b[1;32m     16\u001b[0m     \u001b[38;5;28mprint\u001b[39m(\u001b[38;5;124m'\u001b[39m\u001b[38;5;124mType: \u001b[39m\u001b[38;5;124m'\u001b[39m, Pet\u001b[38;5;241m.\u001b[39mget_Animal_Type())\n\u001b[1;32m     17\u001b[0m     \u001b[38;5;28mprint\u001b[39m(\u001b[38;5;124m'\u001b[39m\u001b[38;5;124mAge: \u001b[39m\u001b[38;5;124m'\u001b[39m, Pet\u001b[38;5;241m.\u001b[39mget_Animal_Age())\n\u001b[0;32m---> 19\u001b[0m main()\n",
      "Cell \u001b[0;32mIn[2], line 11\u001b[0m, in \u001b[0;36mmain\u001b[0;34m()\u001b[0m\n\u001b[1;32m      8\u001b[0m Animal_Type \u001b[38;5;241m=\u001b[39m \u001b[38;5;28minput\u001b[39m(\u001b[38;5;124m'\u001b[39m\u001b[38;5;124mWhat type of pet do you have? \u001b[39m\u001b[38;5;124m'\u001b[39m)\n\u001b[1;32m      9\u001b[0m Animal_Age \u001b[38;5;241m=\u001b[39m \u001b[38;5;28minput\u001b[39m(\u001b[38;5;124m'\u001b[39m\u001b[38;5;124mHow old is your pet? \u001b[39m\u001b[38;5;124m'\u001b[39m)\n\u001b[0;32m---> 11\u001b[0m Pet \u001b[38;5;241m=\u001b[39m Pet(Animal_Name, Animal_Type, Animal_Age)\n\u001b[1;32m     13\u001b[0m \u001b[38;5;66;03m# Retrieve and display the pet information using the accessor method\u001b[39;00m\n\u001b[1;32m     14\u001b[0m \u001b[38;5;28mprint\u001b[39m(\u001b[38;5;124m'\u001b[39m\u001b[38;5;124mInformation about your pet: \u001b[39m\u001b[38;5;124m'\u001b[39m)\n",
      "\u001b[0;31mUnboundLocalError\u001b[0m: cannot access local variable 'Pet' where it is not associated with a value"
     ]
    }
   ],
   "source": [
    "# Import the my Pet class\n",
    "import Pet\n",
    "\n",
    "# Create an object of the Pet class\n",
    "def main():\n",
    "    # Ask the user to input information\n",
    "    Animal_Name = input('What is the name of your pet? ')\n",
    "    Animal_Type = input('What type of pet do you have? ')\n",
    "    Animal_Age = input('How old is your pet? ')\n",
    "    \n",
    "    Pet = Pet(Animal_Name, Animal_Type, Animal_Age)\n",
    "    \n",
    "    # Retrieve and display the pet information using the accessor method\n",
    "    print('Information about your pet: ')\n",
    "    print('Name: ', Pet.get_Animal_Name())\n",
    "    print('Type: ', Pet.get_Animal_Type())\n",
    "    print('Age: ', Pet.get_Animal_Age())\n",
    "    \n",
    "main()\n",
    "          \n",
    "    \n",
    "    \n",
    "    \n",
    "    \n",
    "    "
   ]
  },
  {
   "cell_type": "code",
   "execution_count": null,
   "id": "10a1ddf6",
   "metadata": {},
   "outputs": [],
   "source": []
  }
 ],
 "metadata": {
  "kernelspec": {
   "display_name": "Python 3 (ipykernel)",
   "language": "python",
   "name": "python3"
  },
  "language_info": {
   "codemirror_mode": {
    "name": "ipython",
    "version": 3
   },
   "file_extension": ".py",
   "mimetype": "text/x-python",
   "name": "python",
   "nbconvert_exporter": "python",
   "pygments_lexer": "ipython3",
   "version": "3.11.4"
  }
 },
 "nbformat": 4,
 "nbformat_minor": 5
}

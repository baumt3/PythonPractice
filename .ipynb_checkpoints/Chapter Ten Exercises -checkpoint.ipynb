{
 "cells": [
  {
   "cell_type": "markdown",
   "id": "d46a39e5",
   "metadata": {},
   "source": [
    "# Chapter Ten Programming Exercises 1 & 6"
   ]
  },
  {
   "cell_type": "markdown",
   "id": "80f77e53",
   "metadata": {},
   "source": [
    "## 1) Pet Class: Write a class named Pet. Once you have written the class, write a program that creates an object of the class and prompts the user to enter the name, type, and age of his or her pet. Use the object's accessor methods to retrieve the pet's name, type, and age and display this data on the screen."
   ]
  },
  {
   "cell_type": "markdown",
   "id": "3c8e08f8",
   "metadata": {},
   "source": [
    "When I first ran my code I got an error saying my Pet import wasn't working. I copied my code into Visual Studio Code and saved it and then it worked but here is my UML Diagram from my prior notebook:\n",
    "UML Diagram\n",
    " _______________________________________________\n",
    "|       Pet                                     |\n",
    "|-----------------------------------------------|\n",
    "| __Animal_Name                                 |\n",
    "| __Animal_Type                                 |\n",
    "| __Animal_Age                                  |\n",
    "|-----------------------------------------------|\n",
    "| __init__(Animal_Name, Animal_Type, Animal_Age) |  \n",
    "|set_Animal_Name(Animal_Name)                   |\n",
    "|set_Animal_Type(Animal_Type)                   |\n",
    "|set_Animal_Age(Animal_Age)                     |\n",
    "|get_Animal_Name()                              |\n",
    "|get_Animal_Type()                              |\n",
    "|get_Animal_Age()                               |\n",
    "|_______________________________________________|\n"
   ]
  },
  {
   "cell_type": "code",
   "execution_count": 3,
   "id": "df2ee2e8",
   "metadata": {},
   "outputs": [
    {
     "name": "stdout",
     "output_type": "stream",
     "text": [
      "What is the name of your pet? Buddy\n",
      "What type of pet do you have? Dog\n",
      "How old is your pet? 4\n",
      "Information about your pet:\n",
      "Name: Buddy\n",
      "Type: Dog\n",
      "Age: 4\n"
     ]
    }
   ],
   "source": [
    "# Import the Pet class\n",
    "from Pet import Pet\n",
    "\n",
    "# Create an object of the Pet class\n",
    "def main():\n",
    "    # Ask the user to input information\n",
    "    Animal_Name = input('What is the name of your pet? ')\n",
    "    Animal_Type = input('What type of pet do you have? ')\n",
    "    Animal_Age = int(input('How old is your pet? '))  # Convert to integer\n",
    "    \n",
    "    pet_instance = Pet(Animal_Name, Animal_Type, Animal_Age)\n",
    "    \n",
    "    # Retrieve and display the pet information using the accessor methods\n",
    "    print('Information about your pet:')\n",
    "    print('Name:', pet_instance.get_Animal_Name())\n",
    "    print('Type:', pet_instance.get_Animal_Type())\n",
    "    print('Age:', pet_instance.get_Animal_Age())\n",
    "    \n",
    "if __name__ == \"__main__\":\n",
    "    main()\n",
    "\n",
    "          \n",
    "    \n",
    "    \n",
    "    \n",
    "    \n",
    "    "
   ]
  },
  {
   "cell_type": "markdown",
   "id": "4a0e2b76",
   "metadata": {},
   "source": [
    "I received the error \"cannot access local variable 'Pet' where it is not associated witha value\" I used Chat GTP to see what I did wrong and it gave me this information: \n",
    "\n",
    "You're trying to import a module named Pet and create an object with the same name (Pet) in your code. This will lead to a naming conflict, and you'll lose access to the Pet class you're trying to import. You should use a different variable name for your Pet object to avoid this conflict.\n",
    "\n",
    "The input for Animal_Age is stored as a string. You should convert it to an integer if you want to work with it as an integer.\n",
    "\n",
    "You have indentation errors for the methods and the main function. Ensure that all methods and the main() function are at the same indentation level.\n",
    "\n",
    "I have fixed these errors. "
   ]
  },
  {
   "cell_type": "markdown",
   "id": "fa6bd9a4",
   "metadata": {},
   "source": [
    "## 6) Write a class named Patient and a class named Procedure. Write a program that creates an instance of the Patient class, initialized with sample data. Then, create 3 instances of the Procedure class, initialized with the provided data. The program should display the patient's informaton, information about all 3 procedures, and the total charges of the 3 procedures. "
   ]
  },
  {
   "cell_type": "markdown",
   "id": "1f9f6a9b",
   "metadata": {},
   "source": [
    "UML Diagram\n",
    " _______________________________________________\n",
    "|       Patient                                 |\n",
    "|-----------------------------------------------|\n",
    "| full_name                                     |\n",
    "| address                                       |\n",
    "| phone_number                                  |\n",
    "| emergency_contact                             |\n",
    "|-----------------------------------------------|\n",
    "| __init__(full_name, address, phone_number, emergency_contact) |  \n",
    "|self.full_name                                 |\n",
    "|self.address                                   |\n",
    "|self.phone_number                              |\n",
    "|self.emergency_contact                         |\n",
    "|_______________________________________________|\n",
    "\n",
    "\n",
    "UML Diagram\n",
    " _______________________________________________\n",
    "|       Procedure                               |\n",
    "|-----------------------------------------------|\n",
    "| name                                          |\n",
    "| date                                          |\n",
    "| practitioner                                  |\n",
    "| cost                                          |                            \n",
    "|-----------------------------------------------|\n",
    "| __init__(name, date, practitioner, cost)      |  \n",
    "|self.name = name                               |\n",
    "|self.date = date                               |\n",
    "|self.practitioner = practitioner               |\n",
    "|self.cost = cost                               |\n",
    "|_______________________________________________|\n"
   ]
  },
  {
   "cell_type": "code",
   "execution_count": 16,
   "id": "09464823",
   "metadata": {},
   "outputs": [],
   "source": [
    "# Import my classes\n",
    "import Patient\n",
    "import Procedure\n",
    "\n",
    "# Create a main function\n",
    "def main():\n",
    "    #create patient instance with sample data\n",
    "    Patient = Patient('Test La Test, 123 W Main St. Lansing MI 48917, 123-456-7893, Test Test 231-343-2232')\n",
    "    \n",
    "    # Display patient information\n",
    "    Patient.display_infor()\n",
    "    \n",
    "    # Create the Procedure instances\n",
    "    procedure1 = Procedure('Physical Exam, 11-06-23, Dr. Irvine, 250')\n",
    "    procedure2 = Procedure('X-Ray, 11-06-23, Dr. Jamison, 500')\n",
    "    procedure3 = Procedure('Blood Test, 11-06-23, Dr. Smith, 200')\n",
    "    \n",
    "    # Display the procedure information \n",
    "    procedure1.display_info()\n",
    "    procedure2.display_info()\n",
    "    procedure3.dispaly_info()\n",
    "    \n",
    "    # Calculate the total charges of the procedures\n",
    "    total_procedures = procedure1.get_cost() + procedure2.get_cost() + procedure3.get_cost()\n",
    "    \n",
    "    # Print the total\n",
    "    print('The total cost of all the procedures is: ', total_procedures)\n",
    "    \n",
    "main()\n",
    "    "
   ]
  },
  {
   "cell_type": "code",
   "execution_count": null,
   "id": "6f1a8f47",
   "metadata": {},
   "outputs": [],
   "source": []
  }
 ],
 "metadata": {
  "kernelspec": {
   "display_name": "Python 3 (ipykernel)",
   "language": "python",
   "name": "python3"
  },
  "language_info": {
   "codemirror_mode": {
    "name": "ipython",
    "version": 3
   },
   "file_extension": ".py",
   "mimetype": "text/x-python",
   "name": "python",
   "nbconvert_exporter": "python",
   "pygments_lexer": "ipython3",
   "version": "3.11.4"
  }
 },
 "nbformat": 4,
 "nbformat_minor": 5
}

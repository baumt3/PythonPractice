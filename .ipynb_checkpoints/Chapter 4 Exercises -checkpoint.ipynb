{
 "cells": [
  {
   "cell_type": "markdown",
   "id": "49f4ec78",
   "metadata": {},
   "source": [
    "# Chapter 4 Exercises 6th Edition of the Book"
   ]
  },
  {
   "cell_type": "markdown",
   "id": "93b1966c",
   "metadata": {},
   "source": [
    "## Algorithm Workbench Questions 1 and 4"
   ]
  },
  {
   "cell_type": "markdown",
   "id": "3b4f8a09",
   "metadata": {},
   "source": [
    "### 1) Question one asks that I create a while loop that lets the user enter a number. The number should be multiplied by 10, and the result assigned to a variable named product. The loop should iterate as long as product is less than 100. "
   ]
  },
  {
   "cell_type": "code",
   "execution_count": null,
   "id": "e60884b6",
   "metadata": {},
   "outputs": [],
   "source": [
    "# Ask the user for a number:\n",
    "Number = int(input('Please enter a number. '))\n",
    "\n",
    "# Create a math problem that takes the number from the user and multiplies is by 10 and assign the result to the variable 'Product'. \n",
    "product = Number * 10\n",
    "\n",
    "# Create the While loop:\n",
    "while product < 100:\n",
    "    print(f'{product}')\n",
    "\n",
    "# I expect this to be an infinite loop. "
   ]
  },
  {
   "cell_type": "code",
   "execution_count": null,
   "id": "fff8d2a9",
   "metadata": {},
   "outputs": [],
   "source": [
    "# Since this is an infinite loop it is too big to be seen in GitHub when I save after running the program. \n",
    "# Please try it to see it work! :)"
   ]
  },
  {
   "cell_type": "markdown",
   "id": "5b1cdd49",
   "metadata": {},
   "source": [
    "### 4) Question 4 asks me to write a loop that asks the user to enter a number. The loop should iterate 10 times and keep a running total of the numbers entered. "
   ]
  },
  {
   "cell_type": "code",
   "execution_count": null,
   "id": "4929d76e",
   "metadata": {},
   "outputs": [],
   "source": [
    "# Maximum number of numbers the user is allowed to input\n",
    "MAX = 10\n",
    "\n",
    "# This initializes an accumulator variable:\n",
    "total = 0.0\n",
    "\n",
    "# Explain to the user what the program does:\n",
    "print('This program will calculate the sum of the ', end='')\n",
    "print(f'{MAX} numbers you enter.')\n",
    "\n",
    "# Ask for the numbers and accumulate them:\n",
    "for counter in range(MAX):\n",
    "    number = int(input('Please enter a number: '))\n",
    "    # This formula will take the current total and add the number provided by the user 10 times.\n",
    "    total = total + number\n",
    "    \n",
    "# Display the total of all the numbers entered:\n",
    "    print(f'The total is {total}.')"
   ]
  },
  {
   "cell_type": "markdown",
   "id": "2de18476",
   "metadata": {},
   "source": [
    "## Programming Exercises 1, 4, 12, 14"
   ]
  },
  {
   "cell_type": "markdown",
   "id": "9dfb7a00",
   "metadata": {},
   "source": [
    "### 1) Bug Collector: This exercise asks that I write a code that keeps a running total of the number of bugs collected during the 5 days. The loop should ask for the number of bugs collected for each day, and when the loop is finished, the program should display the total number of bugs collected. \n"
   ]
  },
  {
   "cell_type": "code",
   "execution_count": null,
   "id": "bfe4036a",
   "metadata": {},
   "outputs": [],
   "source": [
    "# Maximum number of days the user is allowed to input the amount of bugs collected\n",
    "MAX = 5\n",
    "\n",
    "# This initializes an accumulator variable:\n",
    "total = 0.0\n",
    "\n",
    "# Explain to the user what the program does:\n",
    "print(f'This program will calculate the sum of the bugs you collected over the {MAX} days.')\n",
    "\n",
    "# Ask for the numbers and accumulate them:\n",
    "for counter in range(MAX):\n",
    "    number_of_bugs = int(input('Please enter the total number of bugs collected each of the 5 days: '))\n",
    "    # This formula will take the current total and add the number provided by the user 10 times.\n",
    "    total = total + number_of_bugs\n",
    "    \n",
    "# Display the total of all the numbers entered:\n",
    "    print(f'The total number of bugs collected over the 5 days is: {total}.')"
   ]
  },
  {
   "cell_type": "markdown",
   "id": "b80adc4a",
   "metadata": {},
   "source": [
    "### 4) Distance Traveled: This exercise asks that I write a program that asks the user for the speed of a vehicle (in mph) and the number of hours it has traveled. It should then use a loop to display the distance the vehicle has traveled for each hour of that time period. Formula: distance = speed * time"
   ]
  },
  {
   "cell_type": "code",
   "execution_count": null,
   "id": "8ba9745f",
   "metadata": {},
   "outputs": [],
   "source": [
    "# Ask the user to input the speed value of the vehicle in mph:\n",
    "speed = int(input('What is the speed of the vehicle in mph? '))\n",
    "\n",
    "# Ask the user to input the hours the vehicle has traveled:\n",
    "hours = int(input('How many hours has the vehicle traveled? '))\n",
    "\n",
    "\n",
    "\n",
    "# Set up the table;\n",
    "print('Hour\\tDistance')\n",
    "print('_________________________')\n",
    "\n",
    "# write the loop that will display the distance the vehicle has traveled each hour for that time period.\n",
    "for hours in range(hours + 1):\n",
    "    distance = speed * hours\n",
    "    print(f'{hours}\\t{distance:}')"
   ]
  },
  {
   "cell_type": "code",
   "execution_count": null,
   "id": "bc67b32e",
   "metadata": {},
   "outputs": [],
   "source": [
    "# I expect the above code to output a table displaying the \n",
    "# distance the vehicle has traveled each hour for that time period in two columns."
   ]
  },
  {
   "cell_type": "markdown",
   "id": "729bbd7f",
   "metadata": {},
   "source": [
    "### 13) Exercise 13 asks that I write a program that uses nested loops to draw the pattern shown in the book."
   ]
  },
  {
   "cell_type": "code",
   "execution_count": null,
   "id": "4b7d02b5",
   "metadata": {},
   "outputs": [],
   "source": [
    "# This program will display a step pattern with 7 steps. \n",
    "Num_Steps = 7\n",
    "\n",
    "# The loop below uses nested loops to increase the number of * by 1 for each step until there are 7 * in the top row.\n",
    "for c in range (Num_Steps):\n",
    "    for r in range(r * 1):\n",
    "        print('*', end='')\n",
    "    print('*')\n",
    "\n",
    "# When I run this program I expect it to look just like the image in the book."
   ]
  },
  {
   "cell_type": "markdown",
   "id": "22ed9ce4",
   "metadata": {},
   "source": [
    "### 14) This exercise asks that I write a program using nested loops to draw the pattern shown in the book. "
   ]
  },
  {
   "cell_type": "code",
   "execution_count": null,
   "id": "b2fbfdd0",
   "metadata": {},
   "outputs": [],
   "source": [
    "Num_Steps = 1\n",
    "\n",
    "# The loop below uses nested loops to increase the number of spaces by 1 for each step until there are 5 spaces in\n",
    "# last row. \n",
    "for r in range (Num_Steps):\n",
    "    for c in range(1):\n",
    "        print('#', end='')\n",
    "    print('#')\n",
    "    \n",
    "for r in range (Num_Steps):\n",
    "    for c in range(1):\n",
    "        print('#', end=' ')\n",
    "    print('#')\n",
    "    \n",
    "for r in range (Num_Steps):\n",
    "    for c in range(1):\n",
    "        print('#', end='  ')\n",
    "    print('#')\n",
    "    \n",
    "for r in range (Num_Steps):\n",
    "    for c in range(1):\n",
    "        print('#', end='   ')\n",
    "    print('#')\n",
    "    \n",
    "for r in range (Num_Steps):\n",
    "    for c in range(1):\n",
    "        print('#', end='    ')\n",
    "    print('#')\n",
    "    \n",
    "for r in range (Num_Steps):\n",
    "    for c in range(1):\n",
    "        print('#', end='     ')\n",
    "    print('#')\n",
    "    \n",
    "    # I expect this program to produce the same image as shown in the book. "
   ]
  },
  {
   "cell_type": "code",
   "execution_count": null,
   "id": "9546304c",
   "metadata": {},
   "outputs": [],
   "source": []
  }
 ],
 "metadata": {
  "kernelspec": {
   "display_name": "Python 3 (ipykernel)",
   "language": "python",
   "name": "python3"
  },
  "language_info": {
   "codemirror_mode": {
    "name": "ipython",
    "version": 3
   },
   "file_extension": ".py",
   "mimetype": "text/x-python",
   "name": "python",
   "nbconvert_exporter": "python",
   "pygments_lexer": "ipython3",
   "version": "3.11.4"
  }
 },
 "nbformat": 4,
 "nbformat_minor": 5
}

{
 "cells": [
  {
   "cell_type": "markdown",
   "id": "330ab0e4",
   "metadata": {},
   "source": [
    "# Chapter 4 Exercises 6th Edition of the Book"
   ]
  },
  {
   "cell_type": "markdown",
   "id": "aecebc24",
   "metadata": {},
   "source": [
    "## Algorithm Workbench Questions 1 and 4"
   ]
  },
  {
   "cell_type": "markdown",
   "id": "0740278f",
   "metadata": {},
   "source": [
    "### 1) Question one asks that I create a while loop that lets the user enter a number. The number should be multiplied by 10, and the result assigned to a variable named product. The loop should iterate as long as product is less than 100. "
   ]
  },
  {
   "cell_type": "code",
   "execution_count": 1,
   "id": "2b8a3445",
   "metadata": {},
   "outputs": [
    {
     "ename": "KeyboardInterrupt",
     "evalue": "Interrupted by user",
     "output_type": "error",
     "traceback": [
      "\u001b[0;31m---------------------------------------------------------------------------\u001b[0m",
      "\u001b[0;31mKeyboardInterrupt\u001b[0m                         Traceback (most recent call last)",
      "Cell \u001b[0;32mIn[1], line 2\u001b[0m\n\u001b[1;32m      1\u001b[0m \u001b[38;5;66;03m# Ask the user for a number:\u001b[39;00m\n\u001b[0;32m----> 2\u001b[0m Number \u001b[38;5;241m=\u001b[39m \u001b[38;5;28mint\u001b[39m(\u001b[38;5;28minput\u001b[39m(\u001b[38;5;124m'\u001b[39m\u001b[38;5;124mPlease enter a number. \u001b[39m\u001b[38;5;124m'\u001b[39m))\n\u001b[1;32m      4\u001b[0m \u001b[38;5;66;03m# Create a math problem that takes the number from the user and multiplies is by 10 and assign the result to the variable 'Product'. \u001b[39;00m\n\u001b[1;32m      5\u001b[0m product \u001b[38;5;241m=\u001b[39m Number \u001b[38;5;241m*\u001b[39m \u001b[38;5;241m10\u001b[39m\n",
      "File \u001b[0;32m/Applications/anaconda3/lib/python3.11/site-packages/ipykernel/kernelbase.py:1175\u001b[0m, in \u001b[0;36mKernel.raw_input\u001b[0;34m(self, prompt)\u001b[0m\n\u001b[1;32m   1171\u001b[0m \u001b[38;5;28;01mif\u001b[39;00m \u001b[38;5;129;01mnot\u001b[39;00m \u001b[38;5;28mself\u001b[39m\u001b[38;5;241m.\u001b[39m_allow_stdin:\n\u001b[1;32m   1172\u001b[0m     \u001b[38;5;28;01mraise\u001b[39;00m StdinNotImplementedError(\n\u001b[1;32m   1173\u001b[0m         \u001b[38;5;124m\"\u001b[39m\u001b[38;5;124mraw_input was called, but this frontend does not support input requests.\u001b[39m\u001b[38;5;124m\"\u001b[39m\n\u001b[1;32m   1174\u001b[0m     )\n\u001b[0;32m-> 1175\u001b[0m \u001b[38;5;28;01mreturn\u001b[39;00m \u001b[38;5;28mself\u001b[39m\u001b[38;5;241m.\u001b[39m_input_request(\n\u001b[1;32m   1176\u001b[0m     \u001b[38;5;28mstr\u001b[39m(prompt),\n\u001b[1;32m   1177\u001b[0m     \u001b[38;5;28mself\u001b[39m\u001b[38;5;241m.\u001b[39m_parent_ident[\u001b[38;5;124m\"\u001b[39m\u001b[38;5;124mshell\u001b[39m\u001b[38;5;124m\"\u001b[39m],\n\u001b[1;32m   1178\u001b[0m     \u001b[38;5;28mself\u001b[39m\u001b[38;5;241m.\u001b[39mget_parent(\u001b[38;5;124m\"\u001b[39m\u001b[38;5;124mshell\u001b[39m\u001b[38;5;124m\"\u001b[39m),\n\u001b[1;32m   1179\u001b[0m     password\u001b[38;5;241m=\u001b[39m\u001b[38;5;28;01mFalse\u001b[39;00m,\n\u001b[1;32m   1180\u001b[0m )\n",
      "File \u001b[0;32m/Applications/anaconda3/lib/python3.11/site-packages/ipykernel/kernelbase.py:1217\u001b[0m, in \u001b[0;36mKernel._input_request\u001b[0;34m(self, prompt, ident, parent, password)\u001b[0m\n\u001b[1;32m   1214\u001b[0m             \u001b[38;5;28;01mbreak\u001b[39;00m\n\u001b[1;32m   1215\u001b[0m \u001b[38;5;28;01mexcept\u001b[39;00m \u001b[38;5;167;01mKeyboardInterrupt\u001b[39;00m:\n\u001b[1;32m   1216\u001b[0m     \u001b[38;5;66;03m# re-raise KeyboardInterrupt, to truncate traceback\u001b[39;00m\n\u001b[0;32m-> 1217\u001b[0m     \u001b[38;5;28;01mraise\u001b[39;00m \u001b[38;5;167;01mKeyboardInterrupt\u001b[39;00m(\u001b[38;5;124m\"\u001b[39m\u001b[38;5;124mInterrupted by user\u001b[39m\u001b[38;5;124m\"\u001b[39m) \u001b[38;5;28;01mfrom\u001b[39;00m \u001b[38;5;28;01mNone\u001b[39;00m\n\u001b[1;32m   1218\u001b[0m \u001b[38;5;28;01mexcept\u001b[39;00m \u001b[38;5;167;01mException\u001b[39;00m:\n\u001b[1;32m   1219\u001b[0m     \u001b[38;5;28mself\u001b[39m\u001b[38;5;241m.\u001b[39mlog\u001b[38;5;241m.\u001b[39mwarning(\u001b[38;5;124m\"\u001b[39m\u001b[38;5;124mInvalid Message:\u001b[39m\u001b[38;5;124m\"\u001b[39m, exc_info\u001b[38;5;241m=\u001b[39m\u001b[38;5;28;01mTrue\u001b[39;00m)\n",
      "\u001b[0;31mKeyboardInterrupt\u001b[0m: Interrupted by user"
     ]
    }
   ],
   "source": [
    "# Ask the user for a number:\n",
    "Number = int(input('Please enter a number. '))\n",
    "\n",
    "# Create a math problem that takes the number from the user and multiplies is by 10 and assign the result to the variable 'Product'. \n",
    "product = Number * 10\n",
    "\n",
    "# Create the While loop:\n",
    "while product < 100:\n",
    "    print(f'{product}')\n",
    "\n",
    "# I expect this to be an infinite loop. "
   ]
  },
  {
   "cell_type": "code",
   "execution_count": null,
   "id": "c2495779",
   "metadata": {},
   "outputs": [],
   "source": [
    "# Since this is an infinite loop it is too big to be seen in GitHub when I save after running the program. \n",
    "# Please try it to see it work! :)"
   ]
  },
  {
   "cell_type": "markdown",
   "id": "a155ab32",
   "metadata": {},
   "source": [
    "### 4) Question 4 asks me to write a loop that asks the user to enter a number. The loop should iterate 10 times and keep a running total of the numbers entered. "
   ]
  },
  {
   "cell_type": "code",
   "execution_count": null,
   "id": "c2c987bc",
   "metadata": {},
   "outputs": [],
   "source": [
    "# Maximum number of numbers the user is allowed to input\n",
    "MAX = 10\n",
    "\n",
    "# This initializes an accumulator variable:\n",
    "total = 0.0\n",
    "\n",
    "# Explain to the user what the program does:\n",
    "print('This program will calculate the sum of the ', end='')\n",
    "print(f'{MAX} numbers you enter.')\n",
    "\n",
    "# Ask for the numbers and accumulate them:\n",
    "for counter in range(MAX):\n",
    "    number = int(input('Please enter a number: '))\n",
    "    # This formula will take the current total and add the number provided by the user 10 times.\n",
    "    total = total + number\n",
    "    \n",
    "# Display the total of all the numbers entered:\n",
    "    print(f'The total is {total}.')"
   ]
  },
  {
   "cell_type": "markdown",
   "id": "bb5e2d9e",
   "metadata": {},
   "source": [
    "## Programming Exercises 1, 4, 12, 14"
   ]
  },
  {
   "cell_type": "markdown",
   "id": "9e470475",
   "metadata": {},
   "source": [
    "### 1) Bug Collector: This exercise asks that I write a code that keeps a running total of the number of bugs collected during the 5 days. The loop should ask for the number of bugs collected for each day, and when the loop is finished, the program should display the total number of bugs collected. \n"
   ]
  },
  {
   "cell_type": "code",
   "execution_count": null,
   "id": "09bedfdf",
   "metadata": {},
   "outputs": [],
   "source": [
    "# Maximum number of days the user is allowed to input the amount of bugs collected\n",
    "MAX = 5\n",
    "\n",
    "# This initializes an accumulator variable:\n",
    "total = 0.0\n",
    "\n",
    "# Explain to the user what the program does:\n",
    "print(f'This program will calculate the sum of the bugs you collected over the {MAX} days.')\n",
    "\n",
    "# Ask for the numbers and accumulate them:\n",
    "for counter in range(MAX):\n",
    "    number_of_bugs = int(input('Please enter the total number of bugs collected each of the 5 days: '))\n",
    "    # This formula will take the current total and add the number provided by the user 10 times.\n",
    "    total = total + number_of_bugs\n",
    "    \n",
    "# Display the total of all the numbers entered:\n",
    "    print(f'The total number of bugs collected over the 5 days is: {total}.')"
   ]
  },
  {
   "cell_type": "markdown",
   "id": "e1b74b81",
   "metadata": {},
   "source": [
    "### 4) Distance Traveled: This exercise asks that I write a program that asks the user for the speed of a vehicle (in mph) and the number of hours it has traveled. It should then use a loop to display the distance the vehicle has traveled for each hour of that time period. Formula: distance = speed * time"
   ]
  },
  {
   "cell_type": "code",
   "execution_count": 2,
   "id": "a5135aea",
   "metadata": {},
   "outputs": [
    {
     "name": "stdout",
     "output_type": "stream",
     "text": [
      "What is the speed of the vehicle in mph? 12\n",
      "How many hours has the vehicle traveled? 12\n",
      "Hour\tDistance\n",
      "_________________________\n",
      "0\t0\n",
      "1\t12\n",
      "2\t24\n",
      "3\t36\n",
      "4\t48\n",
      "5\t60\n",
      "6\t72\n",
      "7\t84\n",
      "8\t96\n",
      "9\t108\n",
      "10\t120\n",
      "11\t132\n",
      "12\t144\n"
     ]
    }
   ],
   "source": [
    "# Ask the user to input the speed value of the vehicle in mph:\n",
    "speed = int(input('What is the speed of the vehicle in mph? '))\n",
    "\n",
    "# Ask the user to input the hours the vehicle has traveled:\n",
    "hours = int(input('How many hours has the vehicle traveled? '))\n",
    "\n",
    "\n",
    "\n",
    "# Set up the table;\n",
    "print('Hour\\tDistance')\n",
    "print('_________________________')\n",
    "\n",
    "# write the loop that will display the distance the vehicle has traveled each hour for that time period.\n",
    "for hours in range(hours + 1):\n",
    "    distance = speed * hours\n",
    "    print(f'{hours}\\t{distance:}')"
   ]
  },
  {
   "cell_type": "code",
   "execution_count": null,
   "id": "43b0470d",
   "metadata": {},
   "outputs": [],
   "source": [
    "# I expect the above code to output a table displaying the \n",
    "# distance the vehicle has traveled each hour for that time period in two columns."
   ]
  },
  {
   "cell_type": "code",
   "execution_count": null,
   "id": "53cf3735",
   "metadata": {},
   "outputs": [],
   "source": []
  }
 ],
 "metadata": {
  "kernelspec": {
   "display_name": "Python 3 (ipykernel)",
   "language": "python",
   "name": "python3"
  },
  "language_info": {
   "codemirror_mode": {
    "name": "ipython",
    "version": 3
   },
   "file_extension": ".py",
   "mimetype": "text/x-python",
   "name": "python",
   "nbconvert_exporter": "python",
   "pygments_lexer": "ipython3",
   "version": "3.11.4"
  }
 },
 "nbformat": 4,
 "nbformat_minor": 5
}

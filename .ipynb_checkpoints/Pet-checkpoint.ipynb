{
 "cells": [
  {
   "cell_type": "markdown",
   "id": "c2b1b24e",
   "metadata": {},
   "source": [
    "UML Diagram\n",
    " _______________________________________________\n",
    "|       Pet                                     |\n",
    "|-----------------------------------------------|\n",
    "| __Animal_Name                                 |\n",
    "| __Animal_Type                                 |\n",
    "| __Animal_Age                                  |\n",
    "|-----------------------------------------------|\n",
    "| __int__(Animal_Name, Animal_Type, Animal_Age) |  \n",
    "|set_Animal_Name(Animal_Name)                   |\n",
    "|set_Animal_Type(Animal_Type)                   |\n",
    "|set_Animal_Age(Animal_Age)                     |\n",
    "|get_Animal_Name()                              |\n",
    "|get_Animal_Type()                              |\n",
    "|get_Animal_Age()                               |\n",
    "|_______________________________________________|\n"
   ]
  },
  {
   "cell_type": "code",
   "execution_count": 2,
   "id": "9516aeda",
   "metadata": {},
   "outputs": [],
   "source": [
    "# Create a class called Pet\n",
    "class Pet:\n",
    "    # The __init__ method will initialize the name, type, and age attributes\n",
    "    def __init__(self, Animal_Name, Animal_Type, Animal_Age):\n",
    "        # Create the instance variables that will store the information provided by the user.\n",
    "        self.Animal_Name = Animal_Name\n",
    "        self.Animal_Type = Animal_Type\n",
    "        self.Animal_Age = Animal_Age\n",
    "\n",
    "    # Use the accessor methods to retrieve the attribute values.\n",
    "    def get_Animal_Name(self):\n",
    "        return self.Animal_Name\n",
    "\n",
    "    def get_Animal_Type(self):\n",
    "        return self.Animal_Type\n",
    "\n",
    "    def get_Animal_Age(self):\n",
    "        return self.Animal_Age\n",
    "\n",
    "        "
   ]
  },
  {
   "cell_type": "code",
   "execution_count": null,
   "id": "8c9243cd",
   "metadata": {},
   "outputs": [],
   "source": []
  }
 ],
 "metadata": {
  "kernelspec": {
   "display_name": "Python 3 (ipykernel)",
   "language": "python",
   "name": "python3"
  },
  "language_info": {
   "codemirror_mode": {
    "name": "ipython",
    "version": 3
   },
   "file_extension": ".py",
   "mimetype": "text/x-python",
   "name": "python",
   "nbconvert_exporter": "python",
   "pygments_lexer": "ipython3",
   "version": "3.11.4"
  }
 },
 "nbformat": 4,
 "nbformat_minor": 5
}

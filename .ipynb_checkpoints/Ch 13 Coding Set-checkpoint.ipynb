{
 "cells": [
  {
   "cell_type": "markdown",
   "id": "45ec2c64",
   "metadata": {},
   "source": [
    "# Chapter 13 Coding Set "
   ]
  },
  {
   "cell_type": "markdown",
   "id": "2a1f3a64",
   "metadata": {},
   "source": [
    "## Programming Exercise Question 1"
   ]
  },
  {
   "cell_type": "markdown",
   "id": "a30d82a1",
   "metadata": {},
   "source": [
    "### Write a GUI program that displays your name and address when a button is clicked. Whent the user clicks the Show Info button, the program should display your name and address. "
   ]
  },
  {
   "cell_type": "code",
   "execution_count": 6,
   "id": "00f2f575",
   "metadata": {},
   "outputs": [],
   "source": [
    "# I am working alongside the video from the textbook to complete the problem above. \n",
    "# I am going to create two frames one to hold the Name and Address widgets and one to hold the button widget.\n",
    "# I have created a .py file to hold my class code that I have imported and then created a main funtion.\n",
    "\n",
    "\n",
    "from MyGUI import MyGUI\n",
    "\n",
    "def main():\n",
    "    # Create an instance of the MyGUI class.\n",
    "    my_gui = MyGUI()\n",
    "\n",
    "# Call the main function if the script is run.\n",
    "if __name__ == \"__main__\":\n",
    "    main()\n",
    "\n"
   ]
  },
  {
   "cell_type": "markdown",
   "id": "138a4ab9",
   "metadata": {},
   "source": [
    "### I ran into some typo errors when I initially ran the class code. I put my code into Chat GTP and it corrected them for me. "
   ]
  },
  {
   "cell_type": "code",
   "execution_count": null,
   "id": "e31d6a05",
   "metadata": {},
   "outputs": [],
   "source": []
  }
 ],
 "metadata": {
  "kernelspec": {
   "display_name": "Python 3 (ipykernel)",
   "language": "python",
   "name": "python3"
  },
  "language_info": {
   "codemirror_mode": {
    "name": "ipython",
    "version": 3
   },
   "file_extension": ".py",
   "mimetype": "text/x-python",
   "name": "python",
   "nbconvert_exporter": "python",
   "pygments_lexer": "ipython3",
   "version": "3.11.4"
  }
 },
 "nbformat": 4,
 "nbformat_minor": 5
}

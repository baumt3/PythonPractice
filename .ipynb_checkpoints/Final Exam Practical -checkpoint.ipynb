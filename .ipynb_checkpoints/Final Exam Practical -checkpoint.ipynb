{
 "cells": [
  {
   "cell_type": "markdown",
   "id": "a5179657",
   "metadata": {},
   "source": [
    "# Final Exam Practical "
   ]
  },
  {
   "cell_type": "markdown",
   "id": "8d700bc2",
   "metadata": {},
   "source": [
    "### 2) Please paste the following line of Python code in your coding environment:\n",
    "greeting = \"  Hello, little people of Earth!      \"\n",
    "\n",
    "Perform the following operations using a combination of Python functions, string methods, and math capabilities.\n",
    "\n",
    "Determine the length of the string.\n",
    "Determine if this length is evenly divisible by 5.\n",
    "Create and store a new version of the string in a newly named variable that removes any spaces at the end or the beginning of the string.\n",
    "Using string you created in step 2, store the first 5 characters of the string in a new variable.\n",
    "Using the string you created in step 4, append 59 'o' characters to the string and print out the result."
   ]
  },
  {
   "cell_type": "code",
   "execution_count": null,
   "id": "aa51d15a",
   "metadata": {},
   "outputs": [],
   "source": [
    "def main():\n",
    "    # String copied from D2L.\n",
    "    greeting = \"  Hello, little people of Earth!      \"\n",
    "    \n",
    "    # Get the length of the string:\n",
    "    length = len(greeting)\n",
    "    \n",
    "    # print the length.\n",
    "    print(length)\n",
    "    \n",
    "     # See if the length is divisible by 5. \n",
    "    if length % 5 == 0:\n",
    "        print(f'The length ({length}) is divisible by 5.')\n",
    "    else:\n",
    "        print(f'The length ({length}) is not divisible by 5.')\n",
    "    \n",
    "main()\n",
    "    \n",
    "    \n"
   ]
  },
  {
   "cell_type": "code",
   "execution_count": null,
   "id": "bb5dca6b",
   "metadata": {},
   "outputs": [],
   "source": [
    "def main():\n",
    "    # String copied from D2L.\n",
    "    greeting = \"  Hello, little people of Earth!      \"\n",
    "    \n",
    "    # Remove spaces from the beginning and end of the string.\n",
    "    New_Greeting = greeting.strip()\n",
    "    \n",
    "    # Print the original string:\n",
    "    print('Greeting String:', repr(greeting))\n",
    "    \n",
    "    # print the new string:\n",
    "    print('New Greeting String:', repr(New_Greeting))\n",
    "    \n",
    "main()"
   ]
  },
  {
   "cell_type": "code",
   "execution_count": null,
   "id": "dd62d8a4",
   "metadata": {},
   "outputs": [],
   "source": [
    "def main():\n",
    "    # String copied from D2L.\n",
    "    greeting = \"Hello, little people of Earth!\"\n",
    "    \n",
    "    # Get the first 5 characters of the string. \n",
    "    first_5_digits = greeting[:5]\n",
    "    \n",
    "    # print the original string and the new string.\n",
    "    print('Greeting String:', repr(greeting))\n",
    "    print('First 5 Digits of Greeting String', repr(first_5_digits))\n",
    "    \n",
    "     # Add the 'o'. \n",
    "    first_5_digits += 'ooooooooooooooooooooooooooooooooooooooooooooooooooooooooooooooooooooooooooooooooo'\n",
    "    \n",
    "    # print the original string and the new string.\n",
    "    print('Greeting String:', repr(greeting))\n",
    "    print('Appended Greeting', repr(first_5_digits))\n",
    "    \n",
    "    \n",
    "main()\n",
    "    \n",
    "    "
   ]
  },
  {
   "cell_type": "markdown",
   "id": "2ccde688",
   "metadata": {},
   "source": [
    "Used Chat GTP to figure out what was wrong with my code. "
   ]
  },
  {
   "cell_type": "markdown",
   "id": "8cd3db93",
   "metadata": {},
   "source": [
    "### 3) Please define a function named super_duper that accepts a number and then returns one of the following values:\n",
    "\n",
    "The function returns \"super\" if the number is evenly divisible by 3.\n",
    "The function returns \"duper\" if the number is evenly divisible by 7.\n",
    "The function returns \"superduper\" if the number is evenly divisible by 3 and 7.\n",
    "The function returns the number it was originally passed if the number is not divisible by either 3 or 7.\n",
    "Finally, please define a main function that loops through numbers 51 through 99 (inclusive) as inputs to the super_duper function and prints each of the results. Your instructor will call this main method to test your solution."
   ]
  },
  {
   "cell_type": "code",
   "execution_count": 1,
   "id": "78c9de71",
   "metadata": {},
   "outputs": [
    {
     "name": "stdout",
     "output_type": "stream",
     "text": [
      "Input: 51, Result: super\n",
      "Input: 52, Result: 52\n",
      "Input: 53, Result: 53\n",
      "Input: 54, Result: super\n",
      "Input: 55, Result: 55\n",
      "Input: 56, Result: duper\n",
      "Input: 57, Result: super\n",
      "Input: 58, Result: 58\n",
      "Input: 59, Result: 59\n",
      "Input: 60, Result: super\n",
      "Input: 61, Result: 61\n",
      "Input: 62, Result: 62\n",
      "Input: 63, Result: superduper\n",
      "Input: 64, Result: 64\n",
      "Input: 65, Result: 65\n",
      "Input: 66, Result: super\n",
      "Input: 67, Result: 67\n",
      "Input: 68, Result: 68\n",
      "Input: 69, Result: super\n",
      "Input: 70, Result: duper\n",
      "Input: 71, Result: 71\n",
      "Input: 72, Result: super\n",
      "Input: 73, Result: 73\n",
      "Input: 74, Result: 74\n",
      "Input: 75, Result: super\n",
      "Input: 76, Result: 76\n",
      "Input: 77, Result: duper\n",
      "Input: 78, Result: super\n",
      "Input: 79, Result: 79\n",
      "Input: 80, Result: 80\n",
      "Input: 81, Result: super\n",
      "Input: 82, Result: 82\n",
      "Input: 83, Result: 83\n",
      "Input: 84, Result: superduper\n",
      "Input: 85, Result: 85\n",
      "Input: 86, Result: 86\n",
      "Input: 87, Result: super\n",
      "Input: 88, Result: 88\n",
      "Input: 89, Result: 89\n",
      "Input: 90, Result: super\n",
      "Input: 91, Result: duper\n",
      "Input: 92, Result: 92\n",
      "Input: 93, Result: super\n",
      "Input: 94, Result: 94\n",
      "Input: 95, Result: 95\n",
      "Input: 96, Result: super\n",
      "Input: 97, Result: 97\n",
      "Input: 98, Result: duper\n",
      "Input: 99, Result: super\n"
     ]
    }
   ],
   "source": [
    "# Create the super_duper function that accepts a number and then returns one of the following values. \n",
    "def super_duper(number):\n",
    "    if number % 3 == 0 and number % 7 == 0:\n",
    "        return \"superduper\"\n",
    "    elif number % 3 == 0:\n",
    "        return \"super\"\n",
    "    elif number % 7 ==0:\n",
    "        return \"duper\"\n",
    "    else:\n",
    "        return number\n",
    "    \n",
    "def main():\n",
    "    # Loop throug the numbers 51 - 99 \n",
    "    for num in range (51, 100):\n",
    "        result = super_duper(num)\n",
    "        print(f'Input: {num}, Result: {result}')\n",
    "        \n",
    "main()\n",
    "    "
   ]
  },
  {
   "cell_type": "markdown",
   "id": "8935ddd7",
   "metadata": {},
   "source": [
    "### 4 ) Please create two classes that implement all of the names, data attributes, and methods reflected in the following UML diagram. These classes will be used within an inventory management system for ACME Eyewear.\n",
    "\n",
    "The __str__() method in both classes should create a reasonable string representation for use in calls to the Python print() function."
   ]
  },
  {
   "cell_type": "code",
   "execution_count": 3,
   "id": "4d81f1ec",
   "metadata": {},
   "outputs": [],
   "source": [
    "# Create the first class\n",
    "class Glasses:\n",
    "    def __init__(self, price, perscription):\n",
    "        self.price = price\n",
    "        self.perscription = perscription\n",
    "        \n",
    "    def __str__(self):\n",
    "        return f\"Price: {self.price}, Perscription: {self.perscription}\"\n",
    "    \n",
    "    def get_price(self):\n",
    "        return self.price\n",
    "    \n",
    "    def get_perscription(self):\n",
    "        return self.perscripton\n",
    "\n",
    "# Create the second class\n",
    "class Bifocals:\n",
    "    def __init__(self, reading_perscription):\n",
    "        self.reading_perscription = reading_perscription\n",
    "        \n",
    "    def __str__(self):\n",
    "        return f\"{self.reading_perscription}\"\n",
    "    \n",
    "    def get_reading_perscription(self):\n",
    "        return self.reading_perscription\n",
    "        \n",
    "    \n",
    "    "
   ]
  },
  {
   "cell_type": "code",
   "execution_count": null,
   "id": "8531e252",
   "metadata": {},
   "outputs": [],
   "source": []
  }
 ],
 "metadata": {
  "kernelspec": {
   "display_name": "Python 3 (ipykernel)",
   "language": "python",
   "name": "python3"
  },
  "language_info": {
   "codemirror_mode": {
    "name": "ipython",
    "version": 3
   },
   "file_extension": ".py",
   "mimetype": "text/x-python",
   "name": "python",
   "nbconvert_exporter": "python",
   "pygments_lexer": "ipython3",
   "version": "3.11.4"
  }
 },
 "nbformat": 4,
 "nbformat_minor": 5
}

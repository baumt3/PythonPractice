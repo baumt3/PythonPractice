{
 "cells": [
  {
   "cell_type": "markdown",
   "id": "56008d37",
   "metadata": {},
   "source": [
    "# Chapter 11 Exercises 1 & 3"
   ]
  },
  {
   "cell_type": "markdown",
   "id": "b101fa33",
   "metadata": {},
   "source": [
    "## 1) Question one asks me to write an Employee class that keeps data attributes for Employee Name and Employee Number. The to write a class name ProductionWorker that is a subclass of the Employee class. the ProductionWorker class should keep data attributes for Shift Number (an integer, such as 1, 2, or 3) and Hourly Pay Rate. Once the class codes have been written I will need to write a program that creates an object of the ProductionWorker class and prompts the user to enter data for each of the object's data attributes. It will then need to store that data in the object, then use the object's accessor methods to retrieve it and display it on the screen."
   ]
  },
  {
   "cell_type": "code",
   "execution_count": 12,
   "id": "9af869bf",
   "metadata": {},
   "outputs": [],
   "source": [
    "# Import my production_worker class.\n",
    "import production_worker\n",
    "\n",
    "# Main function to demonstrate the usage of the production_worker class.\n",
    "def main():\n",
    "    \n",
    "    #Create an instance of the production_worker class.\n",
    "    worker = production_worker.Production_Worker()\n",
    "    \n",
    "    # Prompt the user for input\n",
    "    name = input(\"Enter the worker's name: \")\n",
    "    employee_id = input(\"Enter the worker's employee ID number: \")\n",
    "    shift = int(input(\"Enter the worker's shift number (1 for day shift, 2 for night shift): \"))\n",
    "    hourly_pay_rate = float(input(\"Enter the worker's hourly pay rate: \"))\n",
    "    \n",
    "    # Set the object's attributes using setter methods\n",
    "    worker.set__name(name)\n",
    "    worker.set__employee_id(employee_id)\n",
    "    worker.set__shift(shift)\n",
    "    worker.set__hourly_pay_rate(hourly_pay_rate)\n",
    "    \n",
    "    # Retrieve and display the data using accessor methods\n",
    "    print(\"n/Worker Information:\")\n",
    "    print(\"Name: \", worker.get_name())\n",
    "    print(\"Employee ID: \", worker,get_employee_id())\n",
    "    print(\"Shift: \", \"Day Shift\" if worker.get_shift() == 1 else \"Night Shift\")\n",
    "    print(\"Hourly pay rate: \", worker.get_hourly_pay_rate())\n",
    "    \n",
    "# Call the main function\n",
    "main()"
   ]
  },
  {
   "cell_type": "markdown",
   "id": "b29ad63c",
   "metadata": {},
   "source": [
    "## 3) Question three asks me to write a class named Person with data attributes for a person's name, address, and telephone number. Then to write a class named Customer that is a subclass of the Person class. The Customer class should have a data attribute for a customer number, and a Boolean data attribute indicating whether the customer wishes to be on a mailing list. Then I will demonstrate some instances of the customer class in a simple program. "
   ]
  },
  {
   "cell_type": "code",
   "execution_count": 1,
   "id": "a69eff98",
   "metadata": {},
   "outputs": [],
   "source": [
    "import customer "
   ]
  },
  {
   "cell_type": "code",
   "execution_count": 7,
   "id": "d39412aa",
   "metadata": {},
   "outputs": [
    {
     "name": "stdout",
     "output_type": "stream",
     "text": [
      "23282828\n",
      "1234567\n",
      "123 North Lane Rd. Charlotte MI 48813\n",
      "232 West Columbia Mason MI 48854\n"
     ]
    }
   ],
   "source": [
    "# Main function to demonstrate the usage of the Customer class.\n",
    "def main():\n",
    "\n",
    "    # Create a customer\n",
    "    customer1 = customer.Customer(\"Julie\", \"123 North Lane Rd. Charlotte MI 48813\", \"231-444-2345\", 23282828, False)\n",
    "    \n",
    "    # Display the initial customer ID\n",
    "    print(\"Initial Customer ID:\", customer1.get_customer_id())\n",
    "    \n",
    "    # Update the customer ID\n",
    "    customer1.set_customer_id(\"1234567\")\n",
    "    \n",
    "    # Display the updated customer ID\n",
    "    print(\"Updated Customer ID:\", customer1.get_customer_id())\n",
    "    \n",
    "    # Display the initial customer address\n",
    "    print(\"Initial Customer Address:\", customer1.get_address())\n",
    "    \n",
    "    # Update the customer address\n",
    "    customer1.set_address(\"232 West Columbia Mason MI 48854\")\n",
    "    \n",
    "    # Display the updated customer address\n",
    "    print(\"Updated Customer Address:\", customer1.get_address())\n",
    "\n",
    "# Calling the main function to run the code\n",
    "main()\n"
   ]
  },
  {
   "cell_type": "markdown",
   "id": "113ed3c5",
   "metadata": {},
   "source": [
    "### To work through this problem, I first created my superclass 'Person' and my subclass 'Customer'. I then imported these into my code. I ended by creating my main function where I created a customer and displayed/updated the attributes for that customer. I did use Chat GTP to add my notes into my code and working alongside the walkthrough video. "
   ]
  }
 ],
 "metadata": {
  "kernelspec": {
   "display_name": "Python 3 (ipykernel)",
   "language": "python",
   "name": "python3"
  },
  "language_info": {
   "codemirror_mode": {
    "name": "ipython",
    "version": 3
   },
   "file_extension": ".py",
   "mimetype": "text/x-python",
   "name": "python",
   "nbconvert_exporter": "python",
   "pygments_lexer": "ipython3",
   "version": "3.11.4"
  }
 },
 "nbformat": 4,
 "nbformat_minor": 5
}

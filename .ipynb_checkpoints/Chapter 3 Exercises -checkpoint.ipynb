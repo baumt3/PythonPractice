{
 "cells": [
  {
   "cell_type": "markdown",
   "id": "d110d02c",
   "metadata": {},
   "source": [
    "# Chapter 3 Exercises"
   ]
  },
  {
   "cell_type": "markdown",
   "id": "a2283fc1",
   "metadata": {},
   "source": [
    "## Algorithm Workbench Questions 4 & 5"
   ]
  },
  {
   "cell_type": "markdown",
   "id": "7e65c552",
   "metadata": {},
   "source": [
    "### 4) Question 4 asks me to rewrite the code with the proper conventions of alignment and indentation. The code as written in the book is:\n"
   ]
  },
  {
   "cell_type": "code",
   "execution_count": 1,
   "id": "cadf0648",
   "metadata": {},
   "outputs": [
    {
     "ename": "IndentationError",
     "evalue": "expected an indented block after 'if' statement on line 1 (3110184893.py, line 2)",
     "output_type": "error",
     "traceback": [
      "\u001b[0;36m  Cell \u001b[0;32mIn[1], line 2\u001b[0;36m\u001b[0m\n\u001b[0;31m    print('Your grade is A.')\u001b[0m\n\u001b[0m    ^\u001b[0m\n\u001b[0;31mIndentationError\u001b[0m\u001b[0;31m:\u001b[0m expected an indented block after 'if' statement on line 1\n"
     ]
    }
   ],
   "source": [
    "if score >= A_score:\n",
    "print('Your grade is A.')\n",
    "else:\n",
    "if score >= B_score:\n",
    "print('Your grade is B.')\n",
    "if score >= C_score:\n",
    "print('Your grade is C.')\n",
    "if score >= D_score:\n",
    "print('Your grade is D.')\n",
    "else:\n",
    "print('Your grade is F.')\n"
   ]
  },
  {
   "cell_type": "markdown",
   "id": "737822fa",
   "metadata": {},
   "source": [
    "I would rewrite the code as follows:"
   ]
  },
  {
   "cell_type": "code",
   "execution_count": null,
   "id": "fa42d2d0",
   "metadata": {},
   "outputs": [],
   "source": [
    "if score >= A_score:\n",
    "    print('Your grade is A.')\n",
    "else:\n",
    "    if score >= B_score:\n",
    "        print('Your grade is B.')\n",
    "    else:\n",
    "        if score >= C_score:\n",
    "            print('Your grade is C.')\n",
    "        else:\n",
    "            if score >= D_score:\n",
    "                print('Your grade is D.')\n",
    "            else:\n",
    "                print('Your grade is F.')"
   ]
  },
  {
   "cell_type": "markdown",
   "id": "9f91d672",
   "metadata": {},
   "source": [
    "This errored since I didn't assign values to the A_score - D_score. And didn't ask for an input value for score. "
   ]
  },
  {
   "cell_type": "markdown",
   "id": "3b133dee",
   "metadata": {},
   "source": [
    "### 5) Question 5 asks that I write a nested decision structure that performs the following: If amount1 is greater than 10 and amount2 is less than 100, display the greater amount of amount1 and amount 2. "
   ]
  },
  {
   "cell_type": "code",
   "execution_count": null,
   "id": "34920f8c",
   "metadata": {},
   "outputs": [],
   "source": [
    "amount1 = int(input('Enter a number greater than 10: '))\n",
    "amount2 = int(input('Enter a number less than 100: '))\n",
    "max = amount1 if amount1 > amount2 else amount2\n",
    "print(f'The bigger number is {max}.')"
   ]
  },
  {
   "cell_type": "markdown",
   "id": "d05f9d40",
   "metadata": {},
   "source": [
    "I expect that I will be asked to input a numbre greater than 10 and after pressing Enter I expect to be asked to input a number less that 100 after pressing Enter I will then receive the statement The bigger number is either amount1 or amount2 depending on my input vaues. "
   ]
  },
  {
   "cell_type": "markdown",
   "id": "8fe19cef",
   "metadata": {},
   "source": [
    "## Programming Exercises 1, 5, 15, 16"
   ]
  },
  {
   "cell_type": "markdown",
   "id": "668f88e0",
   "metadata": {},
   "source": [
    "### 1) Question 1 asks me to write a program that asks the user for the a number in the range of 1-7. The program should then display the corresponding day of the week. The program should display an error message if the user enters a number outside the range of 1-7. \n",
    "\n",
    "Monday = 1\n",
    "Tuesday = 2\n",
    "Wednesday = 3\n",
    "Thursday = 4\n",
    "Friday = 5\n",
    "Saturday = 6\n",
    "Sunday = 7"
   ]
  },
  {
   "cell_type": "code",
   "execution_count": null,
   "id": "d90cfeb0",
   "metadata": {},
   "outputs": [],
   "source": [
    "Day1 = Monday\n",
    "Day2 = Tuesday\n",
    "Day3 = Wednesday\n",
    "Day4 = Thursday\n",
    "Day5 = Friday\n",
    "Day6 = Saturday\n",
    "Day7 = Sunday\n",
    "\n",
    "Weekday = int(input('Please provide a number between 1 and 7: '))\n",
    "\n",
    "if Weekday == Day1:\n",
    "    print('Today is Monday.') \n",
    "else:\n",
    "    if Weekday == Day2:\n",
    "        print('Today is Tuesday.')\n",
    "    else:\n",
    "        if Weekday == Day3:\n",
    "            print('Today is Wednesday.')\n",
    "        else:\n",
    "            if Weekday == Day4:\n",
    "                print('Today is Thrusday.')\n",
    "            else:\n",
    "                if Weekday == Day5:\n",
    "                    print('Today is Friday.')\n",
    "                else:\n",
    "                    if Weekday == Day6:\n",
    "                         print('Today is Saturday.')\n",
    "                    else:\n",
    "                        if Weekday == Day7:\n",
    "                            print('Today is Sunday.')\n",
    "                        else: \n",
    "                            if Weekday < Monday or Weekday > Sunday:\n",
    "                                print('Error: Please provide a number between 1 and 7.')"
   ]
  },
  {
   "cell_type": "markdown",
   "id": "b0c6f73d",
   "metadata": {},
   "source": [
    "From the code above I would expect to be asked to provide a number between 1 and 7 and as long as a number between 1 and 7 was prvided the corresponding day of the week would display. If a number outside 1 and 7 was provided the error message would display."
   ]
  },
  {
   "cell_type": "code",
   "execution_count": null,
   "id": "6c21901f",
   "metadata": {},
   "outputs": [],
   "source": []
  }
 ],
 "metadata": {
  "kernelspec": {
   "display_name": "Python 3 (ipykernel)",
   "language": "python",
   "name": "python3"
  },
  "language_info": {
   "codemirror_mode": {
    "name": "ipython",
    "version": 3
   },
   "file_extension": ".py",
   "mimetype": "text/x-python",
   "name": "python",
   "nbconvert_exporter": "python",
   "pygments_lexer": "ipython3",
   "version": "3.11.4"
  }
 },
 "nbformat": 4,
 "nbformat_minor": 5
}

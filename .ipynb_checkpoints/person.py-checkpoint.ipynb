{
 "cells": [
  {
   "cell_type": "code",
   "execution_count": 1,
   "id": "dbc282ac",
   "metadata": {},
   "outputs": [],
   "source": [
    "# Create the Person class\n",
    "class Person:\n",
    "    def __init__(self, name, address, telephone):\n",
    "        # The constructor initializes a Person object with a name, address, and telephone number.\n",
    "        # Using double underscores to make these attributes private.\n",
    "        self.__name = name  \n",
    "        self.__address = address \n",
    "        self.__telephone = telephone\n",
    "    \n",
    "    # Setter method to update the person's name.\n",
    "    def set_name(self, name):\n",
    "        self.__name = name\n",
    "    \n",
    "    # Setter method to update the person's address.\n",
    "    def set_address(self, address):\n",
    "        self.__address = address\n",
    "        \n",
    "     # Setter method to update the person's telephone number.\n",
    "    def set_telephone(self, telephone):\n",
    "        self.__telephone = telephone\n",
    "    \n",
    "     # Getter method to retrieve the person's name.\n",
    "    def get_name(self):\n",
    "        return self.__name\n",
    "    \n",
    "     # Getter method to retrieve the person's address.\n",
    "    def get_address(self):\n",
    "        return self.__address\n",
    "    \n",
    "    # Getter method to retrieve the person's telephone number.\n",
    "    def get_telephone(self):\n",
    "        return self.__telephone"
   ]
  },
  {
   "cell_type": "code",
   "execution_count": null,
   "id": "27b7bada",
   "metadata": {},
   "outputs": [],
   "source": []
  }
 ],
 "metadata": {
  "kernelspec": {
   "display_name": "Python 3 (ipykernel)",
   "language": "python",
   "name": "python3"
  },
  "language_info": {
   "codemirror_mode": {
    "name": "ipython",
    "version": 3
   },
   "file_extension": ".py",
   "mimetype": "text/x-python",
   "name": "python",
   "nbconvert_exporter": "python",
   "pygments_lexer": "ipython3",
   "version": "3.11.4"
  }
 },
 "nbformat": 4,
 "nbformat_minor": 5
}

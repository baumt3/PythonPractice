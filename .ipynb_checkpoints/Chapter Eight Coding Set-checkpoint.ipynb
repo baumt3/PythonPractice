{
 "cells": [
  {
   "cell_type": "markdown",
   "id": "d6f88ac3",
   "metadata": {},
   "source": [
    "# Chapter Eight Coding Set"
   ]
  },
  {
   "cell_type": "markdown",
   "id": "669fdf89",
   "metadata": {},
   "source": [
    "## Algorithm Workbench Questions 2 & 3"
   ]
  },
  {
   "cell_type": "markdown",
   "id": "77a183e6",
   "metadata": {},
   "source": [
    "### 2) Write a loop that counts the number of space characters that appear in the string refrenced by mystring. "
   ]
  },
  {
   "cell_type": "code",
   "execution_count": null,
   "id": "e91af826",
   "metadata": {},
   "outputs": [],
   "source": [
    "def main():\n",
    "    #Get a string from the user.\n",
    "    mystring = input('Enter a string: ')\n",
    "\n",
    "    # Initialize a count variable to keep track of spaces\n",
    "    space_count = 0\n",
    "\n",
    "    # Iterate through each character in the string\n",
    "    for char in mystring:\n",
    "        if char == ' ':\n",
    "            space_count += 1\n",
    "\n",
    "    # Print the count of space characters\n",
    "    print(\"Number of space characters:\", space_count)\n",
    "\n",
    "main()\n",
    "\n",
    "    \n",
    "    "
   ]
  },
  {
   "cell_type": "code",
   "execution_count": null,
   "id": "fa73fc24",
   "metadata": {},
   "outputs": [],
   "source": []
  }
 ],
 "metadata": {
  "kernelspec": {
   "display_name": "Python 3 (ipykernel)",
   "language": "python",
   "name": "python3"
  },
  "language_info": {
   "codemirror_mode": {
    "name": "ipython",
    "version": 3
   },
   "file_extension": ".py",
   "mimetype": "text/x-python",
   "name": "python",
   "nbconvert_exporter": "python",
   "pygments_lexer": "ipython3",
   "version": "3.11.4"
  }
 },
 "nbformat": 4,
 "nbformat_minor": 5
}

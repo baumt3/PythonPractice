{
 "cells": [
  {
   "cell_type": "markdown",
   "id": "65961e51",
   "metadata": {},
   "source": [
    "# Chapter Eight Coding Set"
   ]
  },
  {
   "cell_type": "markdown",
   "id": "ff945917",
   "metadata": {},
   "source": [
    "## Algorithm Workbench Questions 2 & 3"
   ]
  },
  {
   "cell_type": "markdown",
   "id": "a19a70e8",
   "metadata": {},
   "source": [
    "### 2) Write a loop that counts the number of space characters that appear in the string referenced by mystring. "
   ]
  },
  {
   "cell_type": "code",
   "execution_count": 2,
   "id": "cd55d069",
   "metadata": {},
   "outputs": [
    {
     "name": "stdout",
     "output_type": "stream",
     "text": [
      "Enter a string: Once upon a time...\n",
      "Number of space characters: 3\n"
     ]
    }
   ],
   "source": [
    "def main():\n",
    "    #Get a string from the user.\n",
    "    mystring = input('Enter a string: ')\n",
    "\n",
    "    # Initialize a count variable to keep track of spaces\n",
    "    space_count = 0\n",
    "\n",
    "    # Iterate through each character in the string\n",
    "    for char in mystring:\n",
    "        if char == ' ':\n",
    "            space_count += 1\n",
    "\n",
    "    # Print the count of space characters\n",
    "    print(\"Number of space characters:\", space_count)\n",
    "\n",
    "main()\n",
    "\n",
    "    \n",
    "    "
   ]
  },
  {
   "cell_type": "markdown",
   "id": "68ba26d7",
   "metadata": {},
   "source": [
    "### 3) Write a loop that counts the number of digits that appear in the string referenced by mystring."
   ]
  },
  {
   "cell_type": "code",
   "execution_count": 3,
   "id": "dbd3b5ea",
   "metadata": {},
   "outputs": [
    {
     "name": "stdout",
     "output_type": "stream",
     "text": [
      "Enter a string: 1234 I declare a thumb war! \n",
      "Number of digits: 4\n"
     ]
    }
   ],
   "source": [
    "def main():\n",
    "    #Get a string from the user.\n",
    "    mystring = input('Enter a string: ')\n",
    "\n",
    "    #Initialize a count variable to keep track of digits.\n",
    "    digit_count = 0\n",
    "\n",
    "    #Iterate through each character in the string.\n",
    "    for char in mystring:\n",
    "        if char.isdigit():\n",
    "            digit_count += 1\n",
    "\n",
    "    #Print the amount of digits.\n",
    "    print(\"Number of digits:\", digit_count)\n",
    "\n",
    "main()"
   ]
  },
  {
   "cell_type": "markdown",
   "id": "3692c0e1",
   "metadata": {},
   "source": [
    "## Programming Exercises 1, 2, 5 & 10"
   ]
  },
  {
   "cell_type": "markdown",
   "id": "cf74555a",
   "metadata": {},
   "source": [
    "### 1) Write a program that gets a string containing a person's first, middle, and last names, and displays their first, middle, and last initials. "
   ]
  },
  {
   "cell_type": "code",
   "execution_count": 4,
   "id": "ede173ec",
   "metadata": {},
   "outputs": [
    {
     "name": "stdout",
     "output_type": "stream",
     "text": [
      "Enter your first name: Taylir \n",
      "Enter your middle name: De \n",
      "Enter your last name: Baum\n",
      "Your initials are: TDB\n"
     ]
    }
   ],
   "source": [
    "def main():\n",
    "    # Get the user to input their first, middle, and last name.\n",
    "    first_name = input('Enter your first name: ')\n",
    "    middle_name = input('Enter your middle name: ')\n",
    "    last_name = input('Enter your last name: ')\n",
    "\n",
    "    # Call the get_initials() function and store the result\n",
    "    initials = get_initials(first_name, middle_name, last_name)\n",
    "    \n",
    "    # Print the initials\n",
    "    print('Your initials are:', initials)\n",
    "\n",
    "def get_initials(first, middle, last):\n",
    "    # Get the first initial of the first name\n",
    "    set1 = first[0]\n",
    "\n",
    "    # Get the first initial of the middle name\n",
    "    set2 = middle[0]\n",
    "\n",
    "    # Get the first initial of the last name\n",
    "    set3 = last[0]\n",
    "\n",
    "    # Put the sets of characters together\n",
    "    initials = set1 + set2 + set3\n",
    "\n",
    "    # Return the initials\n",
    "    return initials\n",
    "\n",
    "# Call the main function to start the program\n",
    "main()    "
   ]
  },
  {
   "cell_type": "markdown",
   "id": "76f14a75",
   "metadata": {},
   "source": [
    "### 2) Write a program that asks the user to enter a series of single-digit numbers with nothing separating them. The program should display the sum of all the single digit numbers in the string. \n"
   ]
  },
  {
   "cell_type": "code",
   "execution_count": null,
   "id": "d7ebfb03",
   "metadata": {},
   "outputs": [],
   "source": [
    "def main():\n",
    "    # Get a string of single-digit numbers from the user\n",
    "    user_input = input(\"Enter a series of single-digit numbers (without spaces): \")\n",
    "\n",
    "    # Initialize a variable to keep track of the sum\n",
    "    total = 0\n",
    "\n",
    "    # I used ChatGTP for this section of code as I wasn't sure how to add the characters in the string together. \n",
    "    # Iterate through each character in the input string\n",
    "    for char in user_input:\n",
    "        if char.isdigit():  # Check if the character is a digit\n",
    "            digit = int(char)  # Convert the character to an integer\n",
    "            total += digit  # Add the digit to the total\n",
    "\n",
    "    # Display the sum of the single-digit numbers\n",
    "    print(\"The sum of the single-digit numbers is:\", total)\n",
    "\n",
    "# Call the main function to start the program\n",
    "main()\n"
   ]
  }
 ],
 "metadata": {
  "kernelspec": {
   "display_name": "Python 3 (ipykernel)",
   "language": "python",
   "name": "python3"
  },
  "language_info": {
   "codemirror_mode": {
    "name": "ipython",
    "version": 3
   },
   "file_extension": ".py",
   "mimetype": "text/x-python",
   "name": "python",
   "nbconvert_exporter": "python",
   "pygments_lexer": "ipython3",
   "version": "3.11.4"
  }
 },
 "nbformat": 4,
 "nbformat_minor": 5
}

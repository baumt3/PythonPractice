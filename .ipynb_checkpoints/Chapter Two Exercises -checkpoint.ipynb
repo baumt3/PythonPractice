{
 "cells": [
  {
   "cell_type": "markdown",
   "id": "ea6f2d75",
   "metadata": {},
   "source": [
    "# Chapter Two Exercises "
   ]
  },
  {
   "cell_type": "markdown",
   "id": "0b170c9b",
   "metadata": {},
   "source": [
    "## Algorithm Workbench - #2\n",
    "\n",
    "This exercise asks for code to be written that has the user enter his or her favorite color and assigns the input to a variable named COLOR. \n"
   ]
  },
  {
   "cell_type": "code",
   "execution_count": 1,
   "id": "93cbf059",
   "metadata": {},
   "outputs": [
    {
     "name": "stdout",
     "output_type": "stream",
     "text": [
      "What is your favorite color? purple\n"
     ]
    }
   ],
   "source": [
    "# This is an input string that asks the user to enter the name of their favorite color. \n",
    "Color = input('What is your favorite color? ')"
   ]
  },
  {
   "cell_type": "markdown",
   "id": "200eca1d",
   "metadata": {},
   "source": [
    "Above I have entered in my favorite color \"Purple\" which is now assigned to the Color variable.\n"
   ]
  },
  {
   "cell_type": "code",
   "execution_count": 2,
   "id": "2ed1be3c",
   "metadata": {},
   "outputs": [
    {
     "name": "stdout",
     "output_type": "stream",
     "text": [
      "I also like the color purple\n"
     ]
    }
   ],
   "source": [
    "# Now the variable can be refrenced, shown below. \n",
    "print('I also like the color', Color)"
   ]
  },
  {
   "cell_type": "markdown",
   "id": "39efc00f",
   "metadata": {},
   "source": [
    "## Programming Exercises 1 and 13"
   ]
  },
  {
   "cell_type": "markdown",
   "id": "11507c86",
   "metadata": {},
   "source": [
    "### 1. This exercise asks that I write a program that displays the following information for a student:\n",
    "            a. Name : Cameron Calero\n",
    "            b. Address, with city, state, and ZIP: 2045 Heliport Loop Riverfolk, IN 43286\n",
    "            c. Telephone number: 812-555-1212\n",
    "            d. College major: Finance"
   ]
  },
  {
   "cell_type": "code",
   "execution_count": 3,
   "id": "45617634",
   "metadata": {},
   "outputs": [
    {
     "name": "stdout",
     "output_type": "stream",
     "text": [
      "Cameron Calero\n",
      "2045 Heliport Loop\n",
      "Riverfolk, IN 43286\n",
      "812-555-1212\n",
      "Finance\n"
     ]
    }
   ],
   "source": [
    "# This string will output the student's name.\n",
    "print('Cameron Calero')\n",
    "# This string will output the student's street address.\n",
    "print('2045 Heliport Loop')\n",
    "# This string will output the student's city, state, and ZIP.\n",
    "print('Riverfolk, IN 43286')\n",
    "# This string will output the student's telephone number.\n",
    "print('812-555-1212')\n",
    "# This string will output the student's college major.\n",
    "print('Finance')\n",
    "# All these strings will appear on their own lines. "
   ]
  },
  {
   "cell_type": "markdown",
   "id": "80884a61",
   "metadata": {},
   "source": [
    "### 13. This exercise asks that I write code that makes the calculation of how many vines will fit in the row. \n",
    "First I have to write input function code for the following: The length of the row, the amount of space used by an end-post assembly, and the amount of space between the vines all in feet. These amounts will need to be assigned to variables that can then be called upon in the calculation.\n"
   ]
  },
  {
   "cell_type": "code",
   "execution_count": 4,
   "id": "6e5a5cfd",
   "metadata": {},
   "outputs": [
    {
     "name": "stdout",
     "output_type": "stream",
     "text": [
      "What is the length of the row in feet? 10\n"
     ]
    }
   ],
   "source": [
    "#int indicates that the input given needs to be an integer. \n",
    "Length = int(input('What is the length of the row in feet? '))"
   ]
  },
  {
   "cell_type": "code",
   "execution_count": 5,
   "id": "e220354c",
   "metadata": {},
   "outputs": [
    {
     "name": "stdout",
     "output_type": "stream",
     "text": [
      "What is the amount of space used by an end-post assembly in feet? 15\n"
     ]
    }
   ],
   "source": [
    "end_post_assembly = int(input('What is the amount of space used by an end-post assembly in feet? '))"
   ]
  },
  {
   "cell_type": "code",
   "execution_count": 6,
   "id": "a9cc9d93",
   "metadata": {},
   "outputs": [
    {
     "name": "stdout",
     "output_type": "stream",
     "text": [
      "What is the amount of space between the vines in feet? 30\n"
     ]
    }
   ],
   "source": [
    "space = int(input('What is the amount of space between the vines in feet? '))"
   ]
  },
  {
   "cell_type": "markdown",
   "id": "c603a1f9",
   "metadata": {},
   "source": [
    "### Now the user must input the correct values. I will now enter in the values. Once the values are entered the formula can be written and executed. "
   ]
  },
  {
   "cell_type": "code",
   "execution_count": 11,
   "id": "990f8d8d",
   "metadata": {},
   "outputs": [
    {
     "ename": "NameError",
     "evalue": "name 'length' is not defined",
     "output_type": "error",
     "traceback": [
      "\u001b[0;31m---------------------------------------------------------------------------\u001b[0m",
      "\u001b[0;31mNameError\u001b[0m                                 Traceback (most recent call last)",
      "Cell \u001b[0;32mIn[11], line 2\u001b[0m\n\u001b[1;32m      1\u001b[0m \u001b[38;5;66;03m#The formula below should output the number of grapevines that will fit in the row.\u001b[39;00m\n\u001b[0;32m----> 2\u001b[0m Grapevines \u001b[38;5;241m=\u001b[39m (length\u001b[38;5;241m-\u001b[39m(\u001b[38;5;241m2\u001b[39m \u001b[38;5;241m*\u001b[39m end_post_assembly) \u001b[38;5;241m/\u001b[39m space)\n",
      "\u001b[0;31mNameError\u001b[0m: name 'length' is not defined"
     ]
    }
   ],
   "source": [
    "#The formula below should output the number of grapevines that will fit in the row.\n",
    "Grapevines = (length-(2 * end_post_assembly) / space)"
   ]
  },
  {
   "cell_type": "code",
   "execution_count": 12,
   "id": "27cc6889",
   "metadata": {},
   "outputs": [],
   "source": [
    "#Received syntax error that I will fix."
   ]
  },
  {
   "cell_type": "code",
   "execution_count": null,
   "id": "02eaf84f",
   "metadata": {},
   "outputs": [],
   "source": []
  }
 ],
 "metadata": {
  "kernelspec": {
   "display_name": "Python 3 (ipykernel)",
   "language": "python",
   "name": "python3"
  },
  "language_info": {
   "codemirror_mode": {
    "name": "ipython",
    "version": 3
   },
   "file_extension": ".py",
   "mimetype": "text/x-python",
   "name": "python",
   "nbconvert_exporter": "python",
   "pygments_lexer": "ipython3",
   "version": "3.11.4"
  }
 },
 "nbformat": 4,
 "nbformat_minor": 5
}

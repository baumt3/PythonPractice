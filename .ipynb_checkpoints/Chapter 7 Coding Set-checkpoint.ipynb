{
 "cells": [
  {
   "cell_type": "markdown",
   "id": "cd41f3f2",
   "metadata": {},
   "source": [
    "# Chapter 7 Coding Set"
   ]
  },
  {
   "cell_type": "markdown",
   "id": "49216fc1",
   "metadata": {},
   "source": [
    "## Algorithm Workbench Questions 3 & 7"
   ]
  },
  {
   "cell_type": "markdown",
   "id": "b0af0008",
   "metadata": {},
   "source": [
    "### 3) Assume the list numbers1 has 100 elements, and numbers2 is an empty list. Write code that copies the values in numbers1 to numbers2. "
   ]
  },
  {
   "cell_type": "code",
   "execution_count": 2,
   "id": "578d9fb1",
   "metadata": {},
   "outputs": [
    {
     "name": "stdout",
     "output_type": "stream",
     "text": [
      "[1, 2, 3, 4, 5, 6, 7, 8, 9, 10, 11, 12, 13, 14, 15, 16, 17, 18, 19, 20, 21, 22, 23, 24, 25, 26, 27, 28, 29, 30, 31, 32, 33, 34, 35, 36, 37, 38, 39, 40, 41, 42, 43, 44, 45, 46, 47, 48, 49, 50, 51, 52, 53, 54, 55, 56, 57, 58, 59, 60, 61, 62, 63, 64, 65, 66, 67, 68, 69, 70, 71, 72, 73, 74, 75, 76, 77, 78, 79, 80, 81, 82, 83, 84, 85, 86, 87, 88, 89, 90, 91, 92, 93, 94, 95, 96, 97, 98, 99, 100]\n",
      "[1, 2, 3, 4, 5, 6, 7, 8, 9, 10, 11, 12, 13, 14, 15, 16, 17, 18, 19, 20, 21, 22, 23, 24, 25, 26, 27, 28, 29, 30, 31, 32, 33, 34, 35, 36, 37, 38, 39, 40, 41, 42, 43, 44, 45, 46, 47, 48, 49, 50, 51, 52, 53, 54, 55, 56, 57, 58, 59, 60, 61, 62, 63, 64, 65, 66, 67, 68, 69, 70, 71, 72, 73, 74, 75, 76, 77, 78, 79, 80, 81, 82, 83, 84, 85, 86, 87, 88, 89, 90, 91, 92, 93, 94, 95, 96, 97, 98, 99, 100]\n"
     ]
    }
   ],
   "source": [
    "# Create the two lists one with a range from 1 - 100. I used 1 - 101 since this range needs to include 1 and 100 but not \n",
    "# excede 100. List 2 is currently empty. \n",
    "numbers1 = list(range(1, 101))\n",
    "numbers2 = list()\n",
    "\n",
    "# Write the code that copies the values in numbers1 to numbers 2.\n",
    "for item in numbers1:\n",
    "    numbers2.append(item)\n",
    "# When this code executes numbers1 and numbers2 will refrence two separate but identical lists. \n",
    "\n",
    "# Lastly I will print the values in numbers1 and numbers2\n",
    "print(numbers1)\n",
    "print(numbers2)"
   ]
  },
  {
   "cell_type": "markdown",
   "id": "2f5ff9b0",
   "metadata": {},
   "source": [
    "When I first executed the code nothing showed. I realized I had forgotten to print the two lists so I added that code and executed it again and received the output above. "
   ]
  },
  {
   "cell_type": "markdown",
   "id": "1b26930c",
   "metadata": {},
   "source": [
    "### 7) What will the following code print?\n"
   ]
  },
  {
   "cell_type": "code",
   "execution_count": 3,
   "id": "1f8e6b94",
   "metadata": {},
   "outputs": [
    {
     "name": "stdout",
     "output_type": "stream",
     "text": [
      "[40, 50, 60, 10, 20, 30]\n"
     ]
    }
   ],
   "source": [
    "list1 = [40, 50, 60]\n",
    "list2 = [10, 20, 30]\n",
    "list3 = list1 + list2\n",
    "print(list3)"
   ]
  },
  {
   "cell_type": "markdown",
   "id": "c8ccbc11",
   "metadata": {},
   "source": [
    "I think this code will print: \n",
    "40, 50, 60, 10, 20, 30"
   ]
  },
  {
   "cell_type": "markdown",
   "id": "3ec75851",
   "metadata": {},
   "source": [
    "I was correct! :) "
   ]
  },
  {
   "cell_type": "markdown",
   "id": "b6fdbf16",
   "metadata": {},
   "source": [
    "## Programming Exercises 1, 2, 3, & 14"
   ]
  },
  {
   "cell_type": "markdown",
   "id": "4450fd89",
   "metadata": {},
   "source": [
    "### 1) Design a program that asks the user to enter a store's sales for each day of the week. The amounts should be stored in a list. Use a loop to calculate the total sales for the week and display the result. "
   ]
  },
  {
   "cell_type": "markdown",
   "id": "7b403bbc",
   "metadata": {},
   "source": [
    "1) Get the total sales for each day of the week\n",
    "2) Store the amounts in a list\n",
    "3) Use a loop to calculate the total sales for the week\n",
    "4) Display the total sales"
   ]
  },
  {
   "cell_type": "code",
   "execution_count": 4,
   "id": "110f9f76",
   "metadata": {},
   "outputs": [
    {
     "ename": "IndentationError",
     "evalue": "expected an indented block after function definition on line 1 (209729880.py, line 3)",
     "output_type": "error",
     "traceback": [
      "\u001b[0;36m  Cell \u001b[0;32mIn[4], line 3\u001b[0;36m\u001b[0m\n\u001b[0;31m    sales_for_week =[]\u001b[0m\n\u001b[0m    ^\u001b[0m\n\u001b[0;31mIndentationError\u001b[0m\u001b[0;31m:\u001b[0m expected an indented block after function definition on line 1\n"
     ]
    }
   ],
   "source": [
    "def main():\n",
    "    # Create the empty list that will house the total sales for each day of the week:\n",
    "    sales_for_week =[]\n",
    "\n",
    "    # Create a variable to control the loop.\n",
    "    again = 'y'\n",
    "\n",
    "    # Add the total sales to the list.\n",
    "    while again == 'y':\n",
    "        # Get the amount for day one from the user.\n",
    "        day = int(input('What is the total sales for the day? '))\n",
    "    \n",
    "        # Append the sales for that day to the list.\n",
    "        sales_for_week.append(day)\n",
    "        \n",
    "        # Add another day's sales?\n",
    "        print('Do you want to add another day of total sales? ')\n",
    "        again = input('y = yes, anthing else = no: ')\n",
    "        print()\n",
    "    \n",
    "    # Add up all the values and print the sum\n",
    "    print(f'The sum is{sum(sales_for_week)}.')\n",
    "    \n",
    "if _name_ == '_main_':\n",
    "    main()"
   ]
  },
  {
   "cell_type": "markdown",
   "id": "4ff2dbd1",
   "metadata": {},
   "source": [
    "Received the error above and corrected the indent issue. Will try again to execute. "
   ]
  },
  {
   "cell_type": "code",
   "execution_count": null,
   "id": "f1bf0988",
   "metadata": {},
   "outputs": [],
   "source": []
  }
 ],
 "metadata": {
  "kernelspec": {
   "display_name": "Python 3 (ipykernel)",
   "language": "python",
   "name": "python3"
  },
  "language_info": {
   "codemirror_mode": {
    "name": "ipython",
    "version": 3
   },
   "file_extension": ".py",
   "mimetype": "text/x-python",
   "name": "python",
   "nbconvert_exporter": "python",
   "pygments_lexer": "ipython3",
   "version": "3.11.4"
  }
 },
 "nbformat": 4,
 "nbformat_minor": 5
}

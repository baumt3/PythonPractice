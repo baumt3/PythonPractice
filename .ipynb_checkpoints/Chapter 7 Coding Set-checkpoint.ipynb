{
 "cells": [
  {
   "cell_type": "markdown",
   "id": "0655d111",
   "metadata": {},
   "source": [
    "# Chapter 7 Coding Set"
   ]
  },
  {
   "cell_type": "markdown",
   "id": "cfc63a9e",
   "metadata": {},
   "source": [
    "## Algorithm Workbench Questions 3 & 7"
   ]
  },
  {
   "cell_type": "markdown",
   "id": "ce9ee059",
   "metadata": {},
   "source": [
    "### 3) Assume the list numbers1 has 100 elements, and numbers2 is an empty list. Write code that copies the values in numbers1 to numbers2. "
   ]
  },
  {
   "cell_type": "code",
   "execution_count": null,
   "id": "70571e8c",
   "metadata": {},
   "outputs": [],
   "source": [
    "# Create the two lists one with a range from 1 - 100. I used 1 - 101 since this range needs to include 1 and 100 but not \n",
    "# excede 100. List 2 is currently empty. \n",
    "numbers1 = list(range(1, 101))\n",
    "numbers2 = list()\n",
    "\n",
    "# Write the code that copies the values in numbers1 to numbers 2.\n",
    "for item in numbers1:\n",
    "    numbers2.append(item)\n",
    "    \n",
    "# When this code executes numbers1 and numbers2 will refrence two separate but identical lists. "
   ]
  }
 ],
 "metadata": {
  "kernelspec": {
   "display_name": "Python 3 (ipykernel)",
   "language": "python",
   "name": "python3"
  },
  "language_info": {
   "codemirror_mode": {
    "name": "ipython",
    "version": 3
   },
   "file_extension": ".py",
   "mimetype": "text/x-python",
   "name": "python",
   "nbconvert_exporter": "python",
   "pygments_lexer": "ipython3",
   "version": "3.11.4"
  }
 },
 "nbformat": 4,
 "nbformat_minor": 5
}

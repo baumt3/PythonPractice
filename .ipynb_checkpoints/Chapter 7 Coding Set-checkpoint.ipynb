{
 "cells": [
  {
   "cell_type": "markdown",
   "id": "01a7e80e",
   "metadata": {},
   "source": [
    "# Chapter 7 Coding Set"
   ]
  },
  {
   "cell_type": "markdown",
   "id": "1a00238e",
   "metadata": {},
   "source": [
    "## Algorithm Workbench Questions 3 & 7"
   ]
  },
  {
   "cell_type": "markdown",
   "id": "7dd23271",
   "metadata": {},
   "source": [
    "### 3) Assume the list numbers1 has 100 elements, and numbers2 is an empty list. Write code that copies the values in numbers1 to numbers2. "
   ]
  },
  {
   "cell_type": "code",
   "execution_count": 1,
   "id": "b86696fc",
   "metadata": {},
   "outputs": [
    {
     "name": "stdout",
     "output_type": "stream",
     "text": [
      "[1, 2, 3, 4, 5, 6, 7, 8, 9, 10, 11, 12, 13, 14, 15, 16, 17, 18, 19, 20, 21, 22, 23, 24, 25, 26, 27, 28, 29, 30, 31, 32, 33, 34, 35, 36, 37, 38, 39, 40, 41, 42, 43, 44, 45, 46, 47, 48, 49, 50, 51, 52, 53, 54, 55, 56, 57, 58, 59, 60, 61, 62, 63, 64, 65, 66, 67, 68, 69, 70, 71, 72, 73, 74, 75, 76, 77, 78, 79, 80, 81, 82, 83, 84, 85, 86, 87, 88, 89, 90, 91, 92, 93, 94, 95, 96, 97, 98, 99, 100]\n",
      "[1, 2, 3, 4, 5, 6, 7, 8, 9, 10, 11, 12, 13, 14, 15, 16, 17, 18, 19, 20, 21, 22, 23, 24, 25, 26, 27, 28, 29, 30, 31, 32, 33, 34, 35, 36, 37, 38, 39, 40, 41, 42, 43, 44, 45, 46, 47, 48, 49, 50, 51, 52, 53, 54, 55, 56, 57, 58, 59, 60, 61, 62, 63, 64, 65, 66, 67, 68, 69, 70, 71, 72, 73, 74, 75, 76, 77, 78, 79, 80, 81, 82, 83, 84, 85, 86, 87, 88, 89, 90, 91, 92, 93, 94, 95, 96, 97, 98, 99, 100]\n"
     ]
    }
   ],
   "source": [
    "# Create the two lists one with a range from 1 - 100. I used 1 - 101 since this range needs to include 1 and 100 but not \n",
    "# excede 100. List 2 is currently empty. \n",
    "numbers1 = list(range(1, 101))\n",
    "numbers2 = list()\n",
    "\n",
    "# Write the code that copies the values in numbers1 to numbers 2.\n",
    "for item in numbers1:\n",
    "    numbers2.append(item)\n",
    "# When this code executes numbers1 and numbers2 will refrence two separate but identical lists. \n",
    "\n",
    "# Lastly I will print the values in numbers1 and numbers2\n",
    "print(numbers1)\n",
    "print(numbers2)"
   ]
  },
  {
   "cell_type": "markdown",
   "id": "f79bc342",
   "metadata": {},
   "source": [
    "When I first executed the code nothing showed. I realized I had forgotten to print the two lists so I added that code and executed it again and received the output above. "
   ]
  },
  {
   "cell_type": "markdown",
   "id": "c204eb45",
   "metadata": {},
   "source": [
    "### 7) What will the following code print?\n"
   ]
  },
  {
   "cell_type": "code",
   "execution_count": 2,
   "id": "8824953c",
   "metadata": {},
   "outputs": [
    {
     "name": "stdout",
     "output_type": "stream",
     "text": [
      "[40, 50, 60, 10, 20, 30]\n"
     ]
    }
   ],
   "source": [
    "list1 = [40, 50, 60]\n",
    "list2 = [10, 20, 30]\n",
    "list3 = list1 + list2\n",
    "print(list3)"
   ]
  },
  {
   "cell_type": "markdown",
   "id": "938d6e70",
   "metadata": {},
   "source": [
    "I think this code will print: \n",
    "40, 50, 60, 10, 20, 30"
   ]
  },
  {
   "cell_type": "markdown",
   "id": "96d57897",
   "metadata": {},
   "source": [
    "I was correct! :) "
   ]
  },
  {
   "cell_type": "markdown",
   "id": "000ab4c3",
   "metadata": {},
   "source": [
    "## Programming Exercises 1, 2, 3, & 14"
   ]
  },
  {
   "cell_type": "markdown",
   "id": "18eecd53",
   "metadata": {},
   "source": [
    "### 1) Design a program that asks the user to enter a store's sales for each day of the week. The amounts should be stored in a list. Use a loop to calculate the total sales for the week and display the result. "
   ]
  },
  {
   "cell_type": "markdown",
   "id": "cb62a996",
   "metadata": {},
   "source": [
    "1) Get the total sales for each day of the week\n",
    "2) Store the amounts in a list\n",
    "3) Use a loop to calculate the total sales for the week\n",
    "4) Display the total sales"
   ]
  },
  {
   "cell_type": "code",
   "execution_count": 6,
   "id": "3921ad77",
   "metadata": {},
   "outputs": [
    {
     "name": "stdout",
     "output_type": "stream",
     "text": [
      "What is the total sales for the day? 20\n",
      "Do you want to add another day of total sales? \n",
      "y = yes, anything else = no: y\n",
      "\n",
      "What is the total sales for the day? 40\n",
      "Do you want to add another day of total sales? \n",
      "y = yes, anything else = no: y\n",
      "\n",
      "What is the total sales for the day? 150\n",
      "Do you want to add another day of total sales? \n",
      "y = yes, anything else = no: y\n",
      "\n",
      "What is the total sales for the day? 170\n",
      "Do you want to add another day of total sales? \n",
      "y = yes, anything else = no: y\n",
      "\n",
      "What is the total sales for the day? 200\n",
      "Do you want to add another day of total sales? \n",
      "y = yes, anything else = no: y\n",
      "\n",
      "What is the total sales for the day? 300\n",
      "Do you want to add another day of total sales? \n",
      "y = yes, anything else = no: y\n",
      "\n",
      "What is the total sales for the day? 200\n",
      "Do you want to add another day of total sales? \n",
      "y = yes, anything else = no: n\n",
      "\n",
      "The sum is 1080.\n"
     ]
    }
   ],
   "source": [
    "def main():\n",
    "    # Create the empty list that will house the total sales for each day of the week:\n",
    "    sales_for_week = []\n",
    "\n",
    "    # Create a variable to control the loop.\n",
    "    again = 'y'\n",
    "\n",
    "    # Add the total sales to the list.\n",
    "    while again == 'y':\n",
    "        # Get the amount for the day from the user.\n",
    "        day = int(input('What is the total sales for the day? '))\n",
    "\n",
    "        # Append the sales for that day to the list.\n",
    "        sales_for_week.append(day)\n",
    "\n",
    "        # Ask if the user wants to add another day's sales\n",
    "        print('Do you want to add another day of total sales? ')\n",
    "        again = input('y = yes, anything else = no: ')\n",
    "        print()\n",
    "\n",
    "    # Calculate and print the sum of all the values\n",
    "    print(f'The sum is {sum(sales_for_week)}.')\n",
    "\n",
    "if __name__ == \"__main__\":\n",
    "    main()\n",
    "\n",
    "    \n"
   ]
  },
  {
   "cell_type": "markdown",
   "id": "dffca8f9",
   "metadata": {},
   "source": [
    "Received the error above and corrected the indent issue. Will try again to execute. "
   ]
  },
  {
   "cell_type": "markdown",
   "id": "89486d74",
   "metadata": {},
   "source": [
    "### 2) Design a program that generates a seven digit lottery number. The program should generate seven random numbers, each in the range of 0 through 9, and assign each number to a list element. Then write another loop that displays the contents of the list. "
   ]
  },
  {
   "cell_type": "code",
   "execution_count": 9,
   "id": "85d698eb",
   "metadata": {},
   "outputs": [
    {
     "name": "stdout",
     "output_type": "stream",
     "text": [
      "Here are your lottery numbers: \n",
      "8904321\n"
     ]
    }
   ],
   "source": [
    "import random\n",
    "\n",
    "# Max number of digits\n",
    "Max_Digits = 7\n",
    "# Start of random number range\n",
    "Start = 0\n",
    "# end of the random number range\n",
    "End = 9\n",
    "\n",
    "# Main function\n",
    "def main():\n",
    "    #create a list\n",
    "    numbers = [0] * 7\n",
    "    \n",
    "    # Populate the list with random numbers\n",
    "    for index in range(Max_Digits):\n",
    "        numbers[index] = random.randint(Start, End)\n",
    "    \n",
    "    # Display the random numbers \n",
    "    print('Here are your lottery numbers: ')\n",
    "    for index in range(Max_Digits):\n",
    "        print(numbers[index], end = '')\n",
    "    print()\n",
    "    \n",
    "# Call the main function\n",
    "main()\n",
    "\n",
    "# I anticipate that this program will output of 7 random numbers. "
   ]
  },
  {
   "cell_type": "markdown",
   "id": "e03989d2",
   "metadata": {},
   "source": [
    "### 3) Design a program that lets the user enter the total rainfall for each of the 12 months into a list. The program should calculate and display the total rainfall for the year, the average monthly rainfall, the months with the highest and lowest amounts. "
   ]
  },
  {
   "cell_type": "code",
   "execution_count": 11,
   "id": "9a78180c",
   "metadata": {},
   "outputs": [],
   "source": [
    "# Main function\n",
    "def main():\n",
    "    \n",
    "    # Empty list for montly rainfall\n",
    "    monthly_rainfall = []\n",
    "    \n",
    "    # List of the names of the months for reference\n",
    "    months = ['January', 'February', 'March', 'April', 'May', 'June', 'July', 'August', 'September', 'October', 'November', 'December']\n",
    "\n",
    "    # Ask for the monthly rainfall from the user\n",
    "    for month in months:\n",
    "        rainfall = float(input(f'Please provide the total rainfall for {month}: '))\n",
    "        monthly_rainfall.append(rainfall)\n",
    "        \n",
    "    # Get the total rainfall and the average rainfall\n",
    "    total_rainfall = sum(monthly_rainfall)\n",
    "    average_rainfall = total_rainfall / len(monthly_rainfall)\n",
    "    \n",
    "    # Get the months with the highest and lowest rainfall\n",
    "    max_rainfall = max(monthly_rainfall)\n",
    "    min_rainfall = min(monthly_rainfall)\n",
    "    max_month = months[monthly_rainfall.index(max_rainfall)]\n",
    "    min_month = months[monthly_rainfall.index(min_rainfall)]\n",
    "    \n",
    "    # Show the results to the user\n",
    "    print(f'The total rainfall for the year is: {total_rainfall}.')\n",
    "    print(f'The average monthly rainfall is: {average_rainfall}.')\n",
    "    print(f'The month with the highest rainfall was {max_month} {max_rainfall}.')\n",
    "    print(f'The month with the lowest rainfall was {min_month} {min_rainfall}.')\n",
    "    \n",
    "# Call the main function\n",
    "main()\n",
    "    "
   ]
  },
  {
   "cell_type": "markdown",
   "id": "7226a648",
   "metadata": {},
   "source": [
    "When I executed the code nothing happened. Used ChatGTP to see what is wrong and found that I had forgotten to move my call to the main function out of the main function. Corrected this and ran the code again. "
   ]
  },
  {
   "cell_type": "code",
   "execution_count": null,
   "id": "b20c8759",
   "metadata": {},
   "outputs": [],
   "source": []
  }
 ],
 "metadata": {
  "kernelspec": {
   "display_name": "Python 3 (ipykernel)",
   "language": "python",
   "name": "python3"
  },
  "language_info": {
   "codemirror_mode": {
    "name": "ipython",
    "version": 3
   },
   "file_extension": ".py",
   "mimetype": "text/x-python",
   "name": "python",
   "nbconvert_exporter": "python",
   "pygments_lexer": "ipython3",
   "version": "3.11.4"
  }
 },
 "nbformat": 4,
 "nbformat_minor": 5
}

{
 "cells": [
  {
   "cell_type": "markdown",
   "id": "f7d52e08",
   "metadata": {},
   "source": [
    "# Chapter 7 Coding Set"
   ]
  },
  {
   "cell_type": "markdown",
   "id": "41c4db46",
   "metadata": {},
   "source": [
    "## Algorithm Workbench Questions 3 & 7"
   ]
  },
  {
   "cell_type": "markdown",
   "id": "48e3dbc5",
   "metadata": {},
   "source": [
    "### 3) Assume the list numbers1 has 100 elements, and numbers2 is an empty list. Write code that copies the values in numbers1 to numbers2. "
   ]
  },
  {
   "cell_type": "code",
   "execution_count": 1,
   "id": "7d6fbf51",
   "metadata": {},
   "outputs": [
    {
     "name": "stdout",
     "output_type": "stream",
     "text": [
      "[1, 2, 3, 4, 5, 6, 7, 8, 9, 10, 11, 12, 13, 14, 15, 16, 17, 18, 19, 20, 21, 22, 23, 24, 25, 26, 27, 28, 29, 30, 31, 32, 33, 34, 35, 36, 37, 38, 39, 40, 41, 42, 43, 44, 45, 46, 47, 48, 49, 50, 51, 52, 53, 54, 55, 56, 57, 58, 59, 60, 61, 62, 63, 64, 65, 66, 67, 68, 69, 70, 71, 72, 73, 74, 75, 76, 77, 78, 79, 80, 81, 82, 83, 84, 85, 86, 87, 88, 89, 90, 91, 92, 93, 94, 95, 96, 97, 98, 99, 100]\n",
      "[1, 2, 3, 4, 5, 6, 7, 8, 9, 10, 11, 12, 13, 14, 15, 16, 17, 18, 19, 20, 21, 22, 23, 24, 25, 26, 27, 28, 29, 30, 31, 32, 33, 34, 35, 36, 37, 38, 39, 40, 41, 42, 43, 44, 45, 46, 47, 48, 49, 50, 51, 52, 53, 54, 55, 56, 57, 58, 59, 60, 61, 62, 63, 64, 65, 66, 67, 68, 69, 70, 71, 72, 73, 74, 75, 76, 77, 78, 79, 80, 81, 82, 83, 84, 85, 86, 87, 88, 89, 90, 91, 92, 93, 94, 95, 96, 97, 98, 99, 100]\n"
     ]
    }
   ],
   "source": [
    "# Create the two lists one with a range from 1 - 100. I used 1 - 101 since this range needs to include 1 and 100 but not \n",
    "# excede 100. List 2 is currently empty. \n",
    "numbers1 = list(range(1, 101))\n",
    "numbers2 = list()\n",
    "\n",
    "# Write the code that copies the values in numbers1 to numbers 2.\n",
    "for item in numbers1:\n",
    "    numbers2.append(item)\n",
    "# When this code executes numbers1 and numbers2 will refrence two separate but identical lists. \n",
    "\n",
    "# Lastly I will print the values in numbers1 and numbers2\n",
    "print(numbers1)\n",
    "print(numbers2)"
   ]
  },
  {
   "cell_type": "markdown",
   "id": "4bfff4ef",
   "metadata": {},
   "source": [
    "When I first executed the code nothing showed. I realized I had forgotten to print the two lists so I added that code and executed it again and received the output above. "
   ]
  },
  {
   "cell_type": "markdown",
   "id": "25bba496",
   "metadata": {},
   "source": [
    "### 7) What will the following code print?\n"
   ]
  },
  {
   "cell_type": "code",
   "execution_count": 2,
   "id": "aeec77d3",
   "metadata": {},
   "outputs": [
    {
     "name": "stdout",
     "output_type": "stream",
     "text": [
      "[40, 50, 60, 10, 20, 30]\n"
     ]
    }
   ],
   "source": [
    "list1 = [40, 50, 60]\n",
    "list2 = [10, 20, 30]\n",
    "list3 = list1 + list2\n",
    "print(list3)"
   ]
  },
  {
   "cell_type": "markdown",
   "id": "41341ae7",
   "metadata": {},
   "source": [
    "I think this code will print: \n",
    "40, 50, 60, 10, 20, 30"
   ]
  },
  {
   "cell_type": "markdown",
   "id": "4484cfb2",
   "metadata": {},
   "source": [
    "I was correct! :) "
   ]
  },
  {
   "cell_type": "markdown",
   "id": "ff98f694",
   "metadata": {},
   "source": [
    "## Programming Exercises 1, 2, 3, & 14"
   ]
  },
  {
   "cell_type": "markdown",
   "id": "301d826c",
   "metadata": {},
   "source": [
    "### 1) Design a program that asks the user to enter a store's sales for each day of the week. The amounts should be stored in a list. Use a loop to calculate the total sales for the week and display the result. "
   ]
  },
  {
   "cell_type": "markdown",
   "id": "fe26cc4b",
   "metadata": {},
   "source": [
    "1) Get the total sales for each day of the week\n",
    "2) Store the amounts in a list\n",
    "3) Use a loop to calculate the total sales for the week\n",
    "4) Display the total sales"
   ]
  },
  {
   "cell_type": "code",
   "execution_count": 6,
   "id": "a62dc01e",
   "metadata": {},
   "outputs": [
    {
     "name": "stdout",
     "output_type": "stream",
     "text": [
      "What is the total sales for the day? 20\n",
      "Do you want to add another day of total sales? \n",
      "y = yes, anything else = no: y\n",
      "\n",
      "What is the total sales for the day? 40\n",
      "Do you want to add another day of total sales? \n",
      "y = yes, anything else = no: y\n",
      "\n",
      "What is the total sales for the day? 150\n",
      "Do you want to add another day of total sales? \n",
      "y = yes, anything else = no: y\n",
      "\n",
      "What is the total sales for the day? 170\n",
      "Do you want to add another day of total sales? \n",
      "y = yes, anything else = no: y\n",
      "\n",
      "What is the total sales for the day? 200\n",
      "Do you want to add another day of total sales? \n",
      "y = yes, anything else = no: y\n",
      "\n",
      "What is the total sales for the day? 300\n",
      "Do you want to add another day of total sales? \n",
      "y = yes, anything else = no: y\n",
      "\n",
      "What is the total sales for the day? 200\n",
      "Do you want to add another day of total sales? \n",
      "y = yes, anything else = no: n\n",
      "\n",
      "The sum is 1080.\n"
     ]
    }
   ],
   "source": [
    "def main():\n",
    "    # Create the empty list that will house the total sales for each day of the week:\n",
    "    sales_for_week = []\n",
    "\n",
    "    # Create a variable to control the loop.\n",
    "    again = 'y'\n",
    "\n",
    "    # Add the total sales to the list.\n",
    "    while again == 'y':\n",
    "        # Get the amount for the day from the user.\n",
    "        day = int(input('What is the total sales for the day? '))\n",
    "\n",
    "        # Append the sales for that day to the list.\n",
    "        sales_for_week.append(day)\n",
    "\n",
    "        # Ask if the user wants to add another day's sales\n",
    "        print('Do you want to add another day of total sales? ')\n",
    "        again = input('y = yes, anything else = no: ')\n",
    "        print()\n",
    "\n",
    "    # Calculate and print the sum of all the values\n",
    "    print(f'The sum is {sum(sales_for_week)}.')\n",
    "\n",
    "if __name__ == \"__main__\":\n",
    "    main()\n",
    "\n",
    "    \n"
   ]
  },
  {
   "cell_type": "markdown",
   "id": "a8e74ba9",
   "metadata": {},
   "source": [
    "Received the error above and corrected the indent issue. Will try again to execute. "
   ]
  },
  {
   "cell_type": "code",
   "execution_count": null,
   "id": "d74c2c78",
   "metadata": {},
   "outputs": [],
   "source": []
  }
 ],
 "metadata": {
  "kernelspec": {
   "display_name": "Python 3 (ipykernel)",
   "language": "python",
   "name": "python3"
  },
  "language_info": {
   "codemirror_mode": {
    "name": "ipython",
    "version": 3
   },
   "file_extension": ".py",
   "mimetype": "text/x-python",
   "name": "python",
   "nbconvert_exporter": "python",
   "pygments_lexer": "ipython3",
   "version": "3.11.4"
  }
 },
 "nbformat": 4,
 "nbformat_minor": 5
}

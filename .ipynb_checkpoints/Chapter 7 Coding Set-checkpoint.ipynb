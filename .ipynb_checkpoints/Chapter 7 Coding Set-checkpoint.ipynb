{
 "cells": [
  {
   "cell_type": "markdown",
   "id": "b997c3a8",
   "metadata": {},
   "source": [
    "# Chapter 7 Coding Set"
   ]
  },
  {
   "cell_type": "markdown",
   "id": "3ae2bbb0",
   "metadata": {},
   "source": [
    "## Algorithm Workbench Questions 3 & 7"
   ]
  },
  {
   "cell_type": "markdown",
   "id": "66b2289b",
   "metadata": {},
   "source": [
    "### 3) Assume the list numbers1 has 100 elements, and numbers2 is an empty list. Write code that copies the values in numbers1 to numbers2. "
   ]
  },
  {
   "cell_type": "code",
   "execution_count": 1,
   "id": "2a5d60ac",
   "metadata": {},
   "outputs": [
    {
     "name": "stdout",
     "output_type": "stream",
     "text": [
      "[1, 2, 3, 4, 5, 6, 7, 8, 9, 10, 11, 12, 13, 14, 15, 16, 17, 18, 19, 20, 21, 22, 23, 24, 25, 26, 27, 28, 29, 30, 31, 32, 33, 34, 35, 36, 37, 38, 39, 40, 41, 42, 43, 44, 45, 46, 47, 48, 49, 50, 51, 52, 53, 54, 55, 56, 57, 58, 59, 60, 61, 62, 63, 64, 65, 66, 67, 68, 69, 70, 71, 72, 73, 74, 75, 76, 77, 78, 79, 80, 81, 82, 83, 84, 85, 86, 87, 88, 89, 90, 91, 92, 93, 94, 95, 96, 97, 98, 99, 100]\n",
      "[1, 2, 3, 4, 5, 6, 7, 8, 9, 10, 11, 12, 13, 14, 15, 16, 17, 18, 19, 20, 21, 22, 23, 24, 25, 26, 27, 28, 29, 30, 31, 32, 33, 34, 35, 36, 37, 38, 39, 40, 41, 42, 43, 44, 45, 46, 47, 48, 49, 50, 51, 52, 53, 54, 55, 56, 57, 58, 59, 60, 61, 62, 63, 64, 65, 66, 67, 68, 69, 70, 71, 72, 73, 74, 75, 76, 77, 78, 79, 80, 81, 82, 83, 84, 85, 86, 87, 88, 89, 90, 91, 92, 93, 94, 95, 96, 97, 98, 99, 100]\n"
     ]
    }
   ],
   "source": [
    "# Create the two lists one with a range from 1 - 100. I used 1 - 101 since this range needs to include 1 and 100 but not \n",
    "# excede 100. List 2 is currently empty. \n",
    "numbers1 = list(range(1, 101))\n",
    "numbers2 = list()\n",
    "\n",
    "# Write the code that copies the values in numbers1 to numbers 2.\n",
    "for item in numbers1:\n",
    "    numbers2.append(item)\n",
    "# When this code executes numbers1 and numbers2 will refrence two separate but identical lists. \n",
    "\n",
    "# Lastly I will print the values in numbers1 and numbers2\n",
    "print(numbers1)\n",
    "print(numbers2)"
   ]
  },
  {
   "cell_type": "markdown",
   "id": "5ecf094f",
   "metadata": {},
   "source": [
    "When I first executed the code nothing showed. I realized I had forgotten to print the two lists so I added that code and executed it again and received the output above. "
   ]
  },
  {
   "cell_type": "markdown",
   "id": "22acabf9",
   "metadata": {},
   "source": [
    "### 7) What will the following code print?\n"
   ]
  },
  {
   "cell_type": "code",
   "execution_count": 2,
   "id": "77c9fe65",
   "metadata": {},
   "outputs": [
    {
     "name": "stdout",
     "output_type": "stream",
     "text": [
      "[40, 50, 60, 10, 20, 30]\n"
     ]
    }
   ],
   "source": [
    "list1 = [40, 50, 60]\n",
    "list2 = [10, 20, 30]\n",
    "list3 = list1 + list2\n",
    "print(list3)"
   ]
  },
  {
   "cell_type": "markdown",
   "id": "8330b58c",
   "metadata": {},
   "source": [
    "I think this code will print: \n",
    "40, 50, 60, 10, 20, 30"
   ]
  },
  {
   "cell_type": "markdown",
   "id": "e2aa5fc8",
   "metadata": {},
   "source": [
    "I was correct! :) "
   ]
  },
  {
   "cell_type": "markdown",
   "id": "a1685f25",
   "metadata": {},
   "source": [
    "## Programming Exercises 1, 2, 3, & 14"
   ]
  },
  {
   "cell_type": "markdown",
   "id": "4236094e",
   "metadata": {},
   "source": [
    "### 1) Design a program that asks the user to enter a store's sales for each day of the week. The amounts should be stored in a list. Use a loop to calculate the total sales for the week and display the result. "
   ]
  },
  {
   "cell_type": "markdown",
   "id": "a2fc78c1",
   "metadata": {},
   "source": [
    "1) Get the total sales for each day of the week\n",
    "2) Store the amounts in a list\n",
    "3) Use a loop to calculate the total sales for the week\n",
    "4) Display the total sales"
   ]
  },
  {
   "cell_type": "code",
   "execution_count": null,
   "id": "ff6c9d1a",
   "metadata": {},
   "outputs": [],
   "source": [
    "def main():\n",
    "    # Create the empty list that will house the total sales for each day of the week:\n",
    "    sales_for_week = []\n",
    "\n",
    "    # Create a variable to control the loop.\n",
    "    again = 'y'\n",
    "\n",
    "    # Add the total sales to the list.\n",
    "    while again == 'y':\n",
    "        # Get the amount for the day from the user.\n",
    "        day = int(input('What is the total sales for the day? '))\n",
    "\n",
    "        # Append the sales for that day to the list.\n",
    "        sales_for_week.append(day)\n",
    "\n",
    "        # Ask if the user wants to add another day's sales\n",
    "        print('Do you want to add another day of total sales? ')\n",
    "        again = input('y = yes, anything else = no: ')\n",
    "        print()\n",
    "\n",
    "    # Calculate and print the sum of all the values\n",
    "    print(f'The sum is {sum(sales_for_week)}.')\n",
    "\n",
    "if __name__ == \"__main__\":\n",
    "    main()\n",
    "\n",
    "    \n"
   ]
  },
  {
   "cell_type": "markdown",
   "id": "33d009fc",
   "metadata": {},
   "source": [
    "Received the error above and corrected the indent issue. Will try again to execute. "
   ]
  },
  {
   "cell_type": "markdown",
   "id": "babb7c8f",
   "metadata": {},
   "source": [
    "### 2) Design a program that generates a seven digit lottery number. The program should generate seven random numbers, each in the range of 0 through 9, and assign each number to a list element. Then write another loop that displays the contents of the list. "
   ]
  },
  {
   "cell_type": "code",
   "execution_count": null,
   "id": "a94cf36d",
   "metadata": {},
   "outputs": [],
   "source": [
    "import random\n",
    "\n",
    "# Max number of digits\n",
    "Max_Digits = 7\n",
    "# Start of random number range\n",
    "Start = 0\n",
    "# end of the random number range\n",
    "End = 9\n",
    "\n",
    "# Main function\n",
    "def main():\n",
    "    #create a list\n",
    "    numbers = [0] * 7\n",
    "    \n",
    "    # Populate the list with random numbers\n",
    "    for index in range(Max_Digits):\n",
    "        numbers[index] = random.randint(Start, End)\n",
    "    \n",
    "    # Display the random numbers \n",
    "    print('Here are your lottery numbers: ')\n",
    "    for index in range(Max_Digits):\n",
    "        print(numbers[index], end = '')\n",
    "    print()\n",
    "    \n",
    "# Call the main function\n",
    "main()\n",
    "\n",
    "# I anticipate that this program will output of 7 random numbers. "
   ]
  },
  {
   "cell_type": "markdown",
   "id": "d20e52ca",
   "metadata": {},
   "source": [
    "### 3) Design a program that lets the user enter the total rainfall for each of the 12 months into a list. The program should calculate and display the total rainfall for the year, the average monthly rainfall, the months with the highest and lowest amounts. "
   ]
  },
  {
   "cell_type": "code",
   "execution_count": null,
   "id": "24fa25f5",
   "metadata": {},
   "outputs": [],
   "source": [
    "# Main function\n",
    "def main():\n",
    "    \n",
    "    # Empty list for montly rainfall\n",
    "    monthly_rainfall = []\n",
    "    \n",
    "    # List of the names of the months for reference\n",
    "    months = ['January', 'February', 'March', 'April', 'May', 'June', 'July', 'August', 'September', 'October', 'November', 'December']\n",
    "\n",
    "    # Ask for the monthly rainfall from the user\n",
    "    for month in months:\n",
    "        rainfall = float(input(f'Please provide the total rainfall for {month}: '))\n",
    "        monthly_rainfall.append(rainfall)\n",
    "        \n",
    "    # Get the total rainfall and the average rainfall\n",
    "    total_rainfall = sum(monthly_rainfall)\n",
    "    average_rainfall = total_rainfall / len(monthly_rainfall)\n",
    "    \n",
    "    # Get the months with the highest and lowest rainfall\n",
    "    max_rainfall = max(monthly_rainfall)\n",
    "    min_rainfall = min(monthly_rainfall)\n",
    "    max_month = months[monthly_rainfall.index(max_rainfall)]\n",
    "    min_month = months[monthly_rainfall.index(min_rainfall)]\n",
    "    \n",
    "    # Show the results to the user\n",
    "    print(f'The total rainfall for the year is: {total_rainfall}.')\n",
    "    print(f'The average monthly rainfall is: {average_rainfall}.')\n",
    "    print(f'The month with the highest rainfall was {max_month} {max_rainfall}.')\n",
    "    print(f'The month with the lowest rainfall was {min_month} {min_rainfall}.')\n",
    "    \n",
    "# Call the main function\n",
    "main()\n",
    "    "
   ]
  },
  {
   "cell_type": "markdown",
   "id": "78b793d7",
   "metadata": {},
   "source": [
    "When I executed the code nothing happened. Used ChatGTP to see what is wrong and found that I had forgotten to move my call to the main function out of the main function. Corrected this and ran the code again. "
   ]
  },
  {
   "cell_type": "markdown",
   "id": "8e093ca7",
   "metadata": {},
   "source": [
    "### 14)  Expense Pie Chart: Create a text file that contains your expenses for last month in the following categories: Rent, Gas, Food, Clothing, Car Payment, and Misc. Write a Python program that reads the data from the file and uses matplotlib to plot a pie chart showing how you spend your money. "
   ]
  },
  {
   "cell_type": "code",
   "execution_count": null,
   "id": "3d8c92f5",
   "metadata": {},
   "outputs": [],
   "source": [
    "import matplotlib.pyplot as plt\n",
    "\n",
    "def read_spending_data(expenses):\n",
    "    # Create empty lists to house the categories and the amounts found in the document.\n",
    "    categories = []\n",
    "    amounts = []\n",
    "    \n",
    "    #Open the document and read the file\n",
    "    with open(expenses, 'r') as file:\n",
    "        for line in file:\n",
    "            category, amount = line.strip().split(',')\n",
    "            categories.append(category)\n",
    "            amounts.append(float(amount))\n",
    "    return categories, amounts\n",
    "\n",
    "def main():\n",
    "    # obtain spending data from the file\n",
    "    expenses = 'Expenses.txt'\n",
    "    categories, amounts = read_spending_data(expenses)\n",
    "\n",
    "    # Create a pie chart\n",
    "    plt.figure(figsize=(8, 8))\n",
    "    plt.pie(amounts, labels=categories, autopct='%1.1f%%', startangle=140)\n",
    "    plt.title('Spending Breakdown')\n",
    "\n",
    "    # Display the pie chart\n",
    "    plt.axis('equal')  # Equal aspect ratio ensures that the pie chart is circular.\n",
    "    plt.show()\n",
    "\n",
    "# Call the main function \n",
    "main()\n",
    "\n"
   ]
  },
  {
   "cell_type": "markdown",
   "id": "8effb5e4",
   "metadata": {},
   "source": [
    "I had a hard time coming up with all the code for this exercise. I understood what I needed to code the program to do but wasn't sure how to get started writing the code. I used ChatGTP to help me and now understand how this program works. I anticipate that this code will provide me with a pie chart showing the data from the txt file I created. "
   ]
  },
  {
   "cell_type": "code",
   "execution_count": null,
   "id": "ca44e143",
   "metadata": {},
   "outputs": [],
   "source": []
  }
 ],
 "metadata": {
  "kernelspec": {
   "display_name": "Python 3 (ipykernel)",
   "language": "python",
   "name": "python3"
  },
  "language_info": {
   "codemirror_mode": {
    "name": "ipython",
    "version": 3
   },
   "file_extension": ".py",
   "mimetype": "text/x-python",
   "name": "python",
   "nbconvert_exporter": "python",
   "pygments_lexer": "ipython3",
   "version": "3.11.4"
  }
 },
 "nbformat": 4,
 "nbformat_minor": 5
}

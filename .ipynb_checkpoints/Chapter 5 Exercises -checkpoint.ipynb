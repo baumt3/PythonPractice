{
 "cells": [
  {
   "cell_type": "markdown",
   "id": "f305d23d",
   "metadata": {},
   "source": [
    "# Chapter 5 Exercises"
   ]
  },
  {
   "cell_type": "markdown",
   "id": "ce1e9e4d",
   "metadata": {},
   "source": [
    "## Algorithm Workbench 1 & 10"
   ]
  },
  {
   "cell_type": "markdown",
   "id": "870e0da3",
   "metadata": {},
   "source": [
    "### 1) Question one asks me to write a function named times_ten that will accept an argument and display the product of its argument times 10. "
   ]
  },
  {
   "cell_type": "code",
   "execution_count": 3,
   "id": "3d9eee28",
   "metadata": {},
   "outputs": [
    {
     "name": "stdout",
     "output_type": "stream",
     "text": [
      "Please enter a number that will mulitplied by 10: 20\n",
      "The total is 200\n"
     ]
    }
   ],
   "source": [
    "def main():\n",
    "    #Get the user to input a value that will multiplied by 10. \n",
    "    get_number = int(input('Please enter a number that will mulitplied by 10: '))\n",
    "    #create the function that will mulitply that number by 10.\n",
    "    times_ten = get_number * 10\n",
    "    #print the total\n",
    "    print(f'The total is {times_ten}')\n",
    "    \n",
    "# Call the main function    \n",
    "main()"
   ]
  },
  {
   "cell_type": "markdown",
   "id": "d8cbbd92",
   "metadata": {},
   "source": [
    "### 10) Question ten asks me to write a function named get_first_name that asks the user to enter his or her first name and returns it. "
   ]
  },
  {
   "cell_type": "code",
   "execution_count": 4,
   "id": "79dcd5dc",
   "metadata": {},
   "outputs": [
    {
     "name": "stdout",
     "output_type": "stream",
     "text": [
      "Please provide your first name: Taylir\n",
      "Your first name is: Taylir\n"
     ]
    }
   ],
   "source": [
    "def main():\n",
    "    #Get the user to input his or her first name. \n",
    "    get_first_name = input('Please provide your first name: ')\n",
    "    #create the function that will return what the user entered.\n",
    "    print(f'Your first name is: {get_first_name}')\n",
    "    \n",
    "# Call the main function    \n",
    "main()"
   ]
  },
  {
   "cell_type": "markdown",
   "id": "97d7ae01",
   "metadata": {},
   "source": [
    "## Programming Exercises 1, 6, 16, & 17"
   ]
  },
  {
   "cell_type": "markdown",
   "id": "9addbf17",
   "metadata": {},
   "source": [
    "### 1) Question 1 asks me to write a program that asks the user to enter a distance in kilometers, then uses a function to convert that distance to miles. \n",
    "\n",
    "Miles = kilometers * 0.6214"
   ]
  },
  {
   "cell_type": "code",
   "execution_count": 6,
   "id": "27c634f7",
   "metadata": {},
   "outputs": [
    {
     "name": "stdout",
     "output_type": "stream",
     "text": [
      "Please enter the distance traveled in kilometers: 30\n",
      "The distance traveled in miles is: 18.642\n"
     ]
    }
   ],
   "source": [
    "def main():\n",
    "    #Get the user to input a value for the distance in kilometers. \n",
    "    get_kilometer_distance = float(input('Please enter the distance traveled in kilometers: '))\n",
    "    #create the function that will convert into miles.\n",
    "    miles_conversion = get_kilometer_distance * 0.6214\n",
    "    #print the distance traveled in miles.\n",
    "    print(f'The distance traveled in miles is: {miles_conversion}')\n",
    "    \n",
    "# Call the main function    \n",
    "main()"
   ]
  },
  {
   "cell_type": "markdown",
   "id": "73c9df6c",
   "metadata": {},
   "source": [
    "### 6) Question 6 asks me to write a program that asks how many tickets for each class of seats were sold, then displays the amount of income generated from ticket sales. Class A = 20, Class B = 15, Class C = 10"
   ]
  },
  {
   "cell_type": "code",
   "execution_count": 12,
   "id": "46f4aa1e",
   "metadata": {},
   "outputs": [
    {
     "name": "stdout",
     "output_type": "stream",
     "text": [
      "Please provide the total number of tickets sold for Class A seating: 20\n",
      "Please provide the total number of tickets sold for Class B seating: 30\n",
      "Please provide the total number of tickets sold for Class C seating: 40\n",
      "The total income for all seat classes is: 1250\n"
     ]
    }
   ],
   "source": [
    "\n",
    "\n",
    "def main():\n",
    "    \n",
    "    #Get the user to input totals for how many tickets were sold in each class. \n",
    "    get_Class_A_seats = int(input('Please provide the total number of tickets sold for Class A seating: '))\n",
    "    get_Class_B_seats = int(input('Please provide the total number of tickets sold for Class B seating: '))\n",
    "    get_Class_C_seats = int(input('Please provide the total number of tickets sold for Class C seating: '))\n",
    "    \n",
    "    #Get total income for each class.\n",
    "    Class_A_Total = get_Class_A_seats * 20\n",
    "    Class_B_Total = get_Class_B_seats * 15\n",
    "    Class_C_Total = get_Class_C_seats * 10\n",
    "    \n",
    "    #Add all the class totals together. \n",
    "    show_total = Class_A_Total + Class_B_Total + Class_C_Total\n",
    "    \n",
    "    #Print the total income.\n",
    "    print(f'The total income for all seat classes is: {show_total}')\n",
    "\n",
    "#Call the main function \n",
    "main ()\n"
   ]
  },
  {
   "cell_type": "code",
   "execution_count": null,
   "id": "46f0a9e9",
   "metadata": {},
   "outputs": [],
   "source": []
  }
 ],
 "metadata": {
  "kernelspec": {
   "display_name": "Python 3 (ipykernel)",
   "language": "python",
   "name": "python3"
  },
  "language_info": {
   "codemirror_mode": {
    "name": "ipython",
    "version": 3
   },
   "file_extension": ".py",
   "mimetype": "text/x-python",
   "name": "python",
   "nbconvert_exporter": "python",
   "pygments_lexer": "ipython3",
   "version": "3.11.4"
  }
 },
 "nbformat": 4,
 "nbformat_minor": 5
}

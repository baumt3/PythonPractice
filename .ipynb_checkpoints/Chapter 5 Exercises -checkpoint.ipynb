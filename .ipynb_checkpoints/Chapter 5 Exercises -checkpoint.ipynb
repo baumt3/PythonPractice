{
 "cells": [
  {
   "cell_type": "markdown",
   "id": "f7584093",
   "metadata": {},
   "source": [
    "# Chapter 5 Exercises"
   ]
  },
  {
   "cell_type": "markdown",
   "id": "64b8d200",
   "metadata": {},
   "source": [
    "## Algorithm Workbench 1 & 10"
   ]
  },
  {
   "cell_type": "markdown",
   "id": "a227fa59",
   "metadata": {},
   "source": [
    "### 1) Question one asks me to write a function named times_ten that will accept an argument and display the product of its argument times 10. "
   ]
  },
  {
   "cell_type": "code",
   "execution_count": 3,
   "id": "3ea61681",
   "metadata": {},
   "outputs": [
    {
     "name": "stdout",
     "output_type": "stream",
     "text": [
      "Please enter a number that will mulitplied by 10: 20\n",
      "The total is 200\n"
     ]
    }
   ],
   "source": [
    "def main():\n",
    "    #Get the user to input a value that will multiplied by 10. \n",
    "    get_number = int(input('Please enter a number that will mulitplied by 10: '))\n",
    "    #create the function that will mulitply that number by 10.\n",
    "    times_ten = get_number * 10\n",
    "    #print the total\n",
    "    print(f'The total is {times_ten}')\n",
    "    \n",
    "# Call the main function    \n",
    "main()"
   ]
  },
  {
   "cell_type": "markdown",
   "id": "bee99984",
   "metadata": {},
   "source": [
    "### 10) Question ten asks me to write a function named get_first_name that asks the user to enter his or her first name and returns it. "
   ]
  },
  {
   "cell_type": "code",
   "execution_count": 4,
   "id": "59cab5a3",
   "metadata": {},
   "outputs": [
    {
     "name": "stdout",
     "output_type": "stream",
     "text": [
      "Please provide your first name: Taylir\n",
      "Your first name is: Taylir\n"
     ]
    }
   ],
   "source": [
    "def main():\n",
    "    #Get the user to input his or her first name. \n",
    "    get_first_name = input('Please provide your first name: ')\n",
    "    #create the function that will return what the user entered.\n",
    "    print(f'Your first name is: {get_first_name}')\n",
    "    \n",
    "# Call the main function    \n",
    "main()"
   ]
  },
  {
   "cell_type": "markdown",
   "id": "065347ec",
   "metadata": {},
   "source": [
    "## Programming Exercises 1, 6, 16, & 17"
   ]
  },
  {
   "cell_type": "markdown",
   "id": "64875630",
   "metadata": {},
   "source": [
    "### 1) Question 1 asks me to write a program that asks the user to enter a distance in kilometers, then uses a function to convert that distance to miles. \n",
    "\n",
    "Miles = kilometers * 0.6214"
   ]
  },
  {
   "cell_type": "code",
   "execution_count": 6,
   "id": "a049d921",
   "metadata": {},
   "outputs": [
    {
     "name": "stdout",
     "output_type": "stream",
     "text": [
      "Please enter the distance traveled in kilometers: 30\n",
      "The distance traveled in miles is: 18.642\n"
     ]
    }
   ],
   "source": [
    "def main():\n",
    "    #Get the user to input a value for the distance in kilometers. \n",
    "    get_kilometer_distance = float(input('Please enter the distance traveled in kilometers: '))\n",
    "    #create the function that will convert into miles.\n",
    "    miles_conversion = get_kilometer_distance * 0.6214\n",
    "    #print the distance traveled in miles.\n",
    "    print(f'The distance traveled in miles is: {miles_conversion}')\n",
    "    \n",
    "# Call the main function    \n",
    "main()"
   ]
  },
  {
   "cell_type": "markdown",
   "id": "7f0b77ba",
   "metadata": {},
   "source": [
    "### 6) Question 6 asks me to write a program that asks how many tickets for each class of seats were sold, then displays the amount of income generated from ticket sales. Class A = 20, Class B = 15, Class C = 10"
   ]
  },
  {
   "cell_type": "code",
   "execution_count": 12,
   "id": "950f7f64",
   "metadata": {},
   "outputs": [
    {
     "name": "stdout",
     "output_type": "stream",
     "text": [
      "Please provide the total number of tickets sold for Class A seating: 20\n",
      "Please provide the total number of tickets sold for Class B seating: 30\n",
      "Please provide the total number of tickets sold for Class C seating: 40\n",
      "The total income for all seat classes is: 1250\n"
     ]
    }
   ],
   "source": [
    "\n",
    "\n",
    "def main():\n",
    "    \n",
    "    #Get the user to input totals for how many tickets were sold in each class. \n",
    "    get_Class_A_seats = int(input('Please provide the total number of tickets sold for Class A seating: '))\n",
    "    get_Class_B_seats = int(input('Please provide the total number of tickets sold for Class B seating: '))\n",
    "    get_Class_C_seats = int(input('Please provide the total number of tickets sold for Class C seating: '))\n",
    "    \n",
    "    #Get total income for each class.\n",
    "    Class_A_Total = get_Class_A_seats * 20\n",
    "    Class_B_Total = get_Class_B_seats * 15\n",
    "    Class_C_Total = get_Class_C_seats * 10\n",
    "    \n",
    "    #Add all the class totals together. \n",
    "    show_total = Class_A_Total + Class_B_Total + Class_C_Total\n",
    "    \n",
    "    #Print the total income.\n",
    "    print(f'The total income for all seat classes is: {show_total}')\n",
    "\n",
    "#Call the main function \n",
    "main ()\n"
   ]
  },
  {
   "cell_type": "markdown",
   "id": "8323c52a",
   "metadata": {},
   "source": [
    "### 16) Prime Numbers: Question sixteen asks me to write a Boolean function named is_prime which takes an integer as an argument and returns true if the argument is a prime number, or false otherwise. Use the function in a program that prompts the user to enter a number then displays a message whether the number is prime."
   ]
  },
  {
   "cell_type": "code",
   "execution_count": 13,
   "id": "e1a302a8",
   "metadata": {},
   "outputs": [
    {
     "name": "stdout",
     "output_type": "stream",
     "text": [
      "Enter a number to discover if it is prime: 10\n",
      "The number is prime.\n"
     ]
    }
   ],
   "source": [
    "number = int(input('Enter a number to discover if it is prime: '))\n",
    "\n",
    "if (number / number) == 1 or (number / 1) == number:\n",
    "    print('The number is prime.')\n",
    "else:\n",
    "    print('The number is not prime.')"
   ]
  },
  {
   "cell_type": "code",
   "execution_count": 14,
   "id": "cae412b6",
   "metadata": {},
   "outputs": [],
   "source": [
    "#My code above would allow any number to be prime. I used ChatGPT for help and learned that I needed more\n",
    "#information in the if else statement for the code to determine if the number was prime or not. "
   ]
  },
  {
   "cell_type": "code",
   "execution_count": 17,
   "id": "cfa330b1",
   "metadata": {},
   "outputs": [
    {
     "name": "stdout",
     "output_type": "stream",
     "text": [
      "Enter a number: 38\n",
      "38 is not a prime number.\n"
     ]
    }
   ],
   "source": [
    "# the code that ChatGPT provided uses t uses the optimized primality testing algorithm, \n",
    "#which is more efficient than testing divisibility by all numbers up to the square root of number.\n",
    "def is_prime(number):\n",
    "    if number <= 1:\n",
    "        return False\n",
    "    elif number <= 3:\n",
    "        return True\n",
    "    elif number % 2 == 0 or number % 3 == 0:\n",
    "        return False\n",
    "    i = 5\n",
    "    while i * i <= number:\n",
    "        if number % i == 0 or number % (i + 2) == 0:\n",
    "            return False\n",
    "        i += 6\n",
    "    return True\n",
    "\n",
    "#This function is where the user is prompted to enter a number. If a proper value in provided the \n",
    "#message prime or not prime will display. \n",
    "#If a invalid input in provided an error message will appear. \n",
    "def main():\n",
    "    try:\n",
    "        num = int(input(\"Enter a number: \"))\n",
    "        if is_prime(num):\n",
    "            print(f\"{num} is a prime number.\")\n",
    "        else:\n",
    "            print(f\"{num} is not a prime number.\")\n",
    "    except ValueError:\n",
    "        print(\"Invalid input. Please enter a valid integer.\")\n",
    "\n",
    "if __name__ == \"__main__\":\n",
    "    main()\n"
   ]
  },
  {
   "cell_type": "markdown",
   "id": "96902d0d",
   "metadata": {},
   "source": [
    "### 17) Question seventeen asks me to write another program that displays all of the prime numbers from 1 - 100. The program should have a loop that calls the is_prime function. "
   ]
  },
  {
   "cell_type": "code",
   "execution_count": 18,
   "id": "f3d0fe63",
   "metadata": {},
   "outputs": [
    {
     "name": "stdout",
     "output_type": "stream",
     "text": [
      "Prime numbers from 1 to 100:\n",
      "2 3 5 7 11 13 17 19 23 29 31 37 41 43 47 53 59 61 67 71 73 79 83 89 97 "
     ]
    }
   ],
   "source": [
    "#I wasn't sure how to go about doing what the question asks so I used ChatGPT and learned that you use the \n",
    "#find_primes_in_range function to take two agruments and return a list within that range. Then within the main \n",
    "#function you set this range and it will display the numbers within the range when the program is run. \n",
    "\n",
    "#Same code from above.\n",
    "def is_prime(number):\n",
    "    if number <= 1:\n",
    "        return False\n",
    "    elif number <= 3:\n",
    "        return True\n",
    "    elif number % 2 == 0 or number % 3 == 0:\n",
    "        return False\n",
    "    i = 5\n",
    "    while i * i <= number:\n",
    "        if number % i == 0 or number % (i + 2) == 0:\n",
    "            return False\n",
    "        i += 6\n",
    "    return True\n",
    "\n",
    "#This code The find_primes_in_range function takes two arguments, start and end, and returns a list of \n",
    "#prime numbers within that range.\n",
    "\n",
    "\n",
    "def find_primes_in_range(start, end):\n",
    "    primes = []\n",
    "    for num in range(start, end + 1):\n",
    "        if is_prime(num):\n",
    "            primes.append(num)\n",
    "    return primes\n",
    "\n",
    "#The main function calls find_primes_in_range with the range 1 to 100 and then displays the prime numbers it finds.\n",
    "\n",
    "#When you run the program, it prints all the prime numbers between 1 and 100.\n",
    "def main():\n",
    "    prime_list = find_primes_in_range(1, 100)\n",
    "    print(\"Prime numbers from 1 to 100:\")\n",
    "    for prime in prime_list:\n",
    "        print(prime, end=\" \")\n",
    "\n",
    "if __name__ == \"__main__\":\n",
    "    main()\n"
   ]
  },
  {
   "cell_type": "code",
   "execution_count": null,
   "id": "9aec498b",
   "metadata": {},
   "outputs": [],
   "source": []
  }
 ],
 "metadata": {
  "kernelspec": {
   "display_name": "Python 3 (ipykernel)",
   "language": "python",
   "name": "python3"
  },
  "language_info": {
   "codemirror_mode": {
    "name": "ipython",
    "version": 3
   },
   "file_extension": ".py",
   "mimetype": "text/x-python",
   "name": "python",
   "nbconvert_exporter": "python",
   "pygments_lexer": "ipython3",
   "version": "3.11.4"
  }
 },
 "nbformat": 4,
 "nbformat_minor": 5
}

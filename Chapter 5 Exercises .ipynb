{
 "cells": [
  {
   "cell_type": "markdown",
   "id": "53492b92",
   "metadata": {},
   "source": [
    "# Chapter 5 Exercises"
   ]
  },
  {
   "cell_type": "markdown",
   "id": "bdd660b6",
   "metadata": {},
   "source": [
    "## Algorithm Workbench 1 & 10"
   ]
  },
  {
   "cell_type": "markdown",
   "id": "cd32f70f",
   "metadata": {},
   "source": [
    "### 1) Question one asks me to write a function named times_ten that will accept an argument and display the product of its argument times 10. "
   ]
  },
  {
   "cell_type": "code",
   "execution_count": 3,
   "id": "f3cb2f06",
   "metadata": {},
   "outputs": [
    {
     "name": "stdout",
     "output_type": "stream",
     "text": [
      "Please enter a number that will mulitplied by 10: 20\n",
      "The total is 200\n"
     ]
    }
   ],
   "source": [
    "def main():\n",
    "    #Get the user to input a value that will multiplied by 10. \n",
    "    get_number = int(input('Please enter a number that will mulitplied by 10: '))\n",
    "    #create the function that will mulitply that number by 10.\n",
    "    times_ten = get_number * 10\n",
    "    #print the total\n",
    "    print(f'The total is {times_ten}')\n",
    "    \n",
    "# Call the main function    \n",
    "main()"
   ]
  },
  {
   "cell_type": "markdown",
   "id": "b0323562",
   "metadata": {},
   "source": [
    "### 10) Question ten asks me to write a function named get_first_name that asks the user to enter his or her first name and returns it. "
   ]
  },
  {
   "cell_type": "code",
   "execution_count": 4,
   "id": "ac5cb7ec",
   "metadata": {},
   "outputs": [
    {
     "name": "stdout",
     "output_type": "stream",
     "text": [
      "Please provide your first name: Taylir\n",
      "Your first name is: Taylir\n"
     ]
    }
   ],
   "source": [
    "def main():\n",
    "    #Get the user to input his or her first name. \n",
    "    get_first_name = input('Please provide your first name: ')\n",
    "    #create the function that will return what the user entered.\n",
    "    print(f'Your first name is: {get_first_name}')\n",
    "    \n",
    "# Call the main function    \n",
    "main()"
   ]
  },
  {
   "cell_type": "code",
   "execution_count": null,
   "id": "4e661afd",
   "metadata": {},
   "outputs": [],
   "source": []
  }
 ],
 "metadata": {
  "kernelspec": {
   "display_name": "Python 3 (ipykernel)",
   "language": "python",
   "name": "python3"
  },
  "language_info": {
   "codemirror_mode": {
    "name": "ipython",
    "version": 3
   },
   "file_extension": ".py",
   "mimetype": "text/x-python",
   "name": "python",
   "nbconvert_exporter": "python",
   "pygments_lexer": "ipython3",
   "version": "3.11.4"
  }
 },
 "nbformat": 4,
 "nbformat_minor": 5
}

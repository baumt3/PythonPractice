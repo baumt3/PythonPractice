{
 "cells": [
  {
   "cell_type": "markdown",
   "id": "e90fb601",
   "metadata": {},
   "source": [
    "# Chapter 5 Exercises"
   ]
  },
  {
   "cell_type": "markdown",
   "id": "6497b740",
   "metadata": {},
   "source": [
    "## Algorithm Workbench 1 & 10"
   ]
  },
  {
   "cell_type": "markdown",
   "id": "e967e79c",
   "metadata": {},
   "source": [
    "### 1) Question one asks me to write a function named times_ten that will accept an argument and display the product of its argument times 10. "
   ]
  },
  {
   "cell_type": "code",
   "execution_count": 3,
   "id": "226235cb",
   "metadata": {},
   "outputs": [
    {
     "name": "stdout",
     "output_type": "stream",
     "text": [
      "Please enter a number that will mulitplied by 10: 20\n",
      "The total is 200\n"
     ]
    }
   ],
   "source": [
    "def main():\n",
    "    #Get the user to input a value that will multiplied by 10. \n",
    "    get_number = int(input('Please enter a number that will mulitplied by 10: '))\n",
    "    #create the function that will mulitply that number by 10.\n",
    "    times_ten = get_number * 10\n",
    "    #print the total\n",
    "    print(f'The total is {times_ten}')\n",
    "    \n",
    "# Call the main function    \n",
    "main()"
   ]
  },
  {
   "cell_type": "markdown",
   "id": "2192938c",
   "metadata": {},
   "source": [
    "### 10) Question ten asks me to write a function named get_first_name that asks the user to enter his or her first name and returns it. "
   ]
  },
  {
   "cell_type": "code",
   "execution_count": 4,
   "id": "30ba6b3e",
   "metadata": {},
   "outputs": [
    {
     "name": "stdout",
     "output_type": "stream",
     "text": [
      "Please provide your first name: Taylir\n",
      "Your first name is: Taylir\n"
     ]
    }
   ],
   "source": [
    "def main():\n",
    "    #Get the user to input his or her first name. \n",
    "    get_first_name = input('Please provide your first name: ')\n",
    "    #create the function that will return what the user entered.\n",
    "    print(f'Your first name is: {get_first_name}')\n",
    "    \n",
    "# Call the main function    \n",
    "main()"
   ]
  },
  {
   "cell_type": "markdown",
   "id": "eba3482f",
   "metadata": {},
   "source": [
    "## Programming Exercises 1, 6, 16, & 17"
   ]
  },
  {
   "cell_type": "markdown",
   "id": "ab5bd44b",
   "metadata": {},
   "source": [
    "### 1) Question 1 asks me to write a program that asks the user to enter a distance in kilometers, then uses a function to convert that distance to miles. \n",
    "\n",
    "Miles = kilometers * 0.6214"
   ]
  },
  {
   "cell_type": "code",
   "execution_count": 6,
   "id": "e746b210",
   "metadata": {},
   "outputs": [
    {
     "name": "stdout",
     "output_type": "stream",
     "text": [
      "Please enter the distance traveled in kilometers: 30\n",
      "The distance traveled in miles is: 18.642\n"
     ]
    }
   ],
   "source": [
    "def main():\n",
    "    #Get the user to input a value for the distance in kilometers. \n",
    "    get_kilometer_distance = float(input('Please enter the distance traveled in kilometers: '))\n",
    "    #create the function that will convert into miles.\n",
    "    miles_conversion = get_kilometer_distance * 0.6214\n",
    "    #print the distance traveled in miles.\n",
    "    print(f'The distance traveled in miles is: {miles_conversion}')\n",
    "    \n",
    "# Call the main function    \n",
    "main()"
   ]
  },
  {
   "cell_type": "code",
   "execution_count": null,
   "id": "f437c26e",
   "metadata": {},
   "outputs": [],
   "source": []
  }
 ],
 "metadata": {
  "kernelspec": {
   "display_name": "Python 3 (ipykernel)",
   "language": "python",
   "name": "python3"
  },
  "language_info": {
   "codemirror_mode": {
    "name": "ipython",
    "version": 3
   },
   "file_extension": ".py",
   "mimetype": "text/x-python",
   "name": "python",
   "nbconvert_exporter": "python",
   "pygments_lexer": "ipython3",
   "version": "3.11.4"
  }
 },
 "nbformat": 4,
 "nbformat_minor": 5
}
